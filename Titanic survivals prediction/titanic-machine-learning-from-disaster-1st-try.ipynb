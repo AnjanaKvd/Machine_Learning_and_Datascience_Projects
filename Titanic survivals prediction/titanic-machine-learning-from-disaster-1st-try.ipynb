{
 "cells": [
  {
   "cell_type": "markdown",
   "id": "520a28a7",
   "metadata": {
    "papermill": {
     "duration": 0.015531,
     "end_time": "2022-07-29T11:05:33.261863",
     "exception": false,
     "start_time": "2022-07-29T11:05:33.246332",
     "status": "completed"
    },
    "tags": []
   },
   "source": [
    "**Introduction**\n",
    "\n",
    "**Titanic disaster survivals dataset**\n",
    "> *On April 15, 1912, during her maiden voyage, the widely considered “unsinkable” RMS Titanic sank after colliding with an iceberg. Unfortunately, there weren’t enough lifeboats for everyone onboard, resulting in the death of 1502 out of 2224 passengers and crew.*\n",
    "\n",
    "**Mission**\n",
    "\n",
    "Build a predictive model that answers the question: “what sorts of people were more likely to survive?” using passenger data (ie name, age, gender, socio-economic class, etc).\n",
    "\n",
    "**Work plan**\n",
    "* Analyze and explore data\n",
    "* Building a Machine Learning Model"
   ]
  },
  {
   "cell_type": "code",
   "execution_count": 1,
   "id": "4e79f95c",
   "metadata": {
    "execution": {
     "iopub.execute_input": "2022-07-29T11:05:33.291671Z",
     "iopub.status.busy": "2022-07-29T11:05:33.290933Z",
     "iopub.status.idle": "2022-07-29T11:05:34.856418Z",
     "shell.execute_reply": "2022-07-29T11:05:34.855160Z"
    },
    "papermill": {
     "duration": 1.583586,
     "end_time": "2022-07-29T11:05:34.859316",
     "exception": false,
     "start_time": "2022-07-29T11:05:33.275730",
     "status": "completed"
    },
    "tags": []
   },
   "outputs": [],
   "source": [
    "#Import libraries\n",
    "import pandas as pd\n",
    "import numpy as np\n",
    "import matplotlib.pyplot as plt\n",
    "import seaborn as sn\n",
    "from sklearn.preprocessing import StandardScaler\n",
    "from sklearn.linear_model import LogisticRegression\n",
    "from sklearn.naive_bayes import GaussianNB\n",
    "from sklearn.ensemble import RandomForestClassifier\n",
    "from sklearn.tree import DecisionTreeClassifier\n",
    "from sklearn.svm import SVC\n",
    "from sklearn.neighbors import KNeighborsClassifier\n",
    "from sklearn.model_selection import cross_val_score\n",
    "from sklearn.model_selection import GridSearchCV"
   ]
  },
  {
   "cell_type": "code",
   "execution_count": 2,
   "id": "f9160aaa",
   "metadata": {
    "execution": {
     "iopub.execute_input": "2022-07-29T11:05:34.890791Z",
     "iopub.status.busy": "2022-07-29T11:05:34.890016Z",
     "iopub.status.idle": "2022-07-29T11:05:34.931864Z",
     "shell.execute_reply": "2022-07-29T11:05:34.930729Z"
    },
    "papermill": {
     "duration": 0.059782,
     "end_time": "2022-07-29T11:05:34.934494",
     "exception": false,
     "start_time": "2022-07-29T11:05:34.874712",
     "status": "completed"
    },
    "tags": []
   },
   "outputs": [
    {
     "data": {
      "text/html": [
       "<div>\n",
       "<style scoped>\n",
       "    .dataframe tbody tr th:only-of-type {\n",
       "        vertical-align: middle;\n",
       "    }\n",
       "\n",
       "    .dataframe tbody tr th {\n",
       "        vertical-align: top;\n",
       "    }\n",
       "\n",
       "    .dataframe thead th {\n",
       "        text-align: right;\n",
       "    }\n",
       "</style>\n",
       "<table border=\"1\" class=\"dataframe\">\n",
       "  <thead>\n",
       "    <tr style=\"text-align: right;\">\n",
       "      <th></th>\n",
       "      <th>PassengerId</th>\n",
       "      <th>Survived</th>\n",
       "      <th>Pclass</th>\n",
       "      <th>Name</th>\n",
       "      <th>Sex</th>\n",
       "      <th>Age</th>\n",
       "      <th>SibSp</th>\n",
       "      <th>Parch</th>\n",
       "      <th>Ticket</th>\n",
       "      <th>Fare</th>\n",
       "      <th>Cabin</th>\n",
       "      <th>Embarked</th>\n",
       "    </tr>\n",
       "  </thead>\n",
       "  <tbody>\n",
       "    <tr>\n",
       "      <th>0</th>\n",
       "      <td>1</td>\n",
       "      <td>0</td>\n",
       "      <td>3</td>\n",
       "      <td>Braund, Mr. Owen Harris</td>\n",
       "      <td>male</td>\n",
       "      <td>22.0</td>\n",
       "      <td>1</td>\n",
       "      <td>0</td>\n",
       "      <td>A/5 21171</td>\n",
       "      <td>7.2500</td>\n",
       "      <td>NaN</td>\n",
       "      <td>S</td>\n",
       "    </tr>\n",
       "    <tr>\n",
       "      <th>1</th>\n",
       "      <td>2</td>\n",
       "      <td>1</td>\n",
       "      <td>1</td>\n",
       "      <td>Cumings, Mrs. John Bradley (Florence Briggs Th...</td>\n",
       "      <td>female</td>\n",
       "      <td>38.0</td>\n",
       "      <td>1</td>\n",
       "      <td>0</td>\n",
       "      <td>PC 17599</td>\n",
       "      <td>71.2833</td>\n",
       "      <td>C85</td>\n",
       "      <td>C</td>\n",
       "    </tr>\n",
       "    <tr>\n",
       "      <th>2</th>\n",
       "      <td>3</td>\n",
       "      <td>1</td>\n",
       "      <td>3</td>\n",
       "      <td>Heikkinen, Miss. Laina</td>\n",
       "      <td>female</td>\n",
       "      <td>26.0</td>\n",
       "      <td>0</td>\n",
       "      <td>0</td>\n",
       "      <td>STON/O2. 3101282</td>\n",
       "      <td>7.9250</td>\n",
       "      <td>NaN</td>\n",
       "      <td>S</td>\n",
       "    </tr>\n",
       "    <tr>\n",
       "      <th>3</th>\n",
       "      <td>4</td>\n",
       "      <td>1</td>\n",
       "      <td>1</td>\n",
       "      <td>Futrelle, Mrs. Jacques Heath (Lily May Peel)</td>\n",
       "      <td>female</td>\n",
       "      <td>35.0</td>\n",
       "      <td>1</td>\n",
       "      <td>0</td>\n",
       "      <td>113803</td>\n",
       "      <td>53.1000</td>\n",
       "      <td>C123</td>\n",
       "      <td>S</td>\n",
       "    </tr>\n",
       "    <tr>\n",
       "      <th>4</th>\n",
       "      <td>5</td>\n",
       "      <td>0</td>\n",
       "      <td>3</td>\n",
       "      <td>Allen, Mr. William Henry</td>\n",
       "      <td>male</td>\n",
       "      <td>35.0</td>\n",
       "      <td>0</td>\n",
       "      <td>0</td>\n",
       "      <td>373450</td>\n",
       "      <td>8.0500</td>\n",
       "      <td>NaN</td>\n",
       "      <td>S</td>\n",
       "    </tr>\n",
       "  </tbody>\n",
       "</table>\n",
       "</div>"
      ],
      "text/plain": [
       "   PassengerId  Survived  Pclass  \\\n",
       "0            1         0       3   \n",
       "1            2         1       1   \n",
       "2            3         1       3   \n",
       "3            4         1       1   \n",
       "4            5         0       3   \n",
       "\n",
       "                                                Name     Sex   Age  SibSp  \\\n",
       "0                            Braund, Mr. Owen Harris    male  22.0      1   \n",
       "1  Cumings, Mrs. John Bradley (Florence Briggs Th...  female  38.0      1   \n",
       "2                             Heikkinen, Miss. Laina  female  26.0      0   \n",
       "3       Futrelle, Mrs. Jacques Heath (Lily May Peel)  female  35.0      1   \n",
       "4                           Allen, Mr. William Henry    male  35.0      0   \n",
       "\n",
       "   Parch            Ticket     Fare Cabin Embarked  \n",
       "0      0         A/5 21171   7.2500   NaN        S  \n",
       "1      0          PC 17599  71.2833   C85        C  \n",
       "2      0  STON/O2. 3101282   7.9250   NaN        S  \n",
       "3      0            113803  53.1000  C123        S  \n",
       "4      0            373450   8.0500   NaN        S  "
      ]
     },
     "execution_count": 2,
     "metadata": {},
     "output_type": "execute_result"
    }
   ],
   "source": [
    "#Load the data\n",
    "df = pd.read_csv('train.csv')\n",
    "df.head()"
   ]
  },
  {
   "cell_type": "markdown",
   "id": "61e77374",
   "metadata": {
    "papermill": {
     "duration": 0.014282,
     "end_time": "2022-07-29T11:05:34.964092",
     "exception": false,
     "start_time": "2022-07-29T11:05:34.949810",
     "status": "completed"
    },
    "tags": []
   },
   "source": [
    "# Data visualization"
   ]
  },
  {
   "cell_type": "code",
   "execution_count": 3,
   "id": "d0fbd757",
   "metadata": {
    "execution": {
     "iopub.execute_input": "2022-07-29T11:05:34.996075Z",
     "iopub.status.busy": "2022-07-29T11:05:34.995277Z",
     "iopub.status.idle": "2022-07-29T11:05:35.002428Z",
     "shell.execute_reply": "2022-07-29T11:05:35.001410Z"
    },
    "papermill": {
     "duration": 0.025666,
     "end_time": "2022-07-29T11:05:35.004604",
     "exception": false,
     "start_time": "2022-07-29T11:05:34.978938",
     "status": "completed"
    },
    "tags": []
   },
   "outputs": [
    {
     "data": {
      "text/plain": [
       "(891, 12)"
      ]
     },
     "execution_count": 3,
     "metadata": {},
     "output_type": "execute_result"
    }
   ],
   "source": [
    "#lets look at how many entries are there\n",
    "df.shape"
   ]
  },
  {
   "cell_type": "markdown",
   "id": "e7e49b71",
   "metadata": {
    "papermill": {
     "duration": 0.013868,
     "end_time": "2022-07-29T11:05:35.033497",
     "exception": false,
     "start_time": "2022-07-29T11:05:35.019629",
     "status": "completed"
    },
    "tags": []
   },
   "source": [
    "#### This dataset contain Numerical and Categorical data. So lets separate them into numerical and categorical. It's easy to us work with further\n",
    "\n",
    "* Numerical\n",
    "    1. Age\n",
    "    2. SibSp\n",
    "    3. Parch\n",
    "    4. Fare\n",
    "    \n",
    "* Categorical\n",
    "    1. Pclass\n",
    "    2. Sex\n",
    "    3. Ticket\n",
    "    4. Embarked\n",
    "    5. Cabin"
   ]
  },
  {
   "cell_type": "code",
   "execution_count": 4,
   "id": "f9f771d5",
   "metadata": {
    "execution": {
     "iopub.execute_input": "2022-07-29T11:05:35.063570Z",
     "iopub.status.busy": "2022-07-29T11:05:35.063184Z",
     "iopub.status.idle": "2022-07-29T11:05:35.076010Z",
     "shell.execute_reply": "2022-07-29T11:05:35.075151Z"
    },
    "papermill": {
     "duration": 0.030766,
     "end_time": "2022-07-29T11:05:35.078438",
     "exception": false,
     "start_time": "2022-07-29T11:05:35.047672",
     "status": "completed"
    },
    "tags": []
   },
   "outputs": [],
   "source": [
    "#separate these data into numerical and categorical \n",
    "numerical = df[['Age','SibSp','Parch','Fare']]\n",
    "categorical = df[['Pclass','Sex','Ticket','Embarked','Cabin']]"
   ]
  },
  {
   "cell_type": "markdown",
   "id": "5c37f469",
   "metadata": {
    "papermill": {
     "duration": 0.014656,
     "end_time": "2022-07-29T11:05:35.107977",
     "exception": false,
     "start_time": "2022-07-29T11:05:35.093321",
     "status": "completed"
    },
    "tags": []
   },
   "source": [
    "**First look at the numerical data visualization**"
   ]
  },
  {
   "cell_type": "code",
   "execution_count": 5,
   "id": "5b4dcbf9",
   "metadata": {
    "execution": {
     "iopub.execute_input": "2022-07-29T11:05:35.138722Z",
     "iopub.status.busy": "2022-07-29T11:05:35.137522Z",
     "iopub.status.idle": "2022-07-29T11:05:35.911130Z",
     "shell.execute_reply": "2022-07-29T11:05:35.909838Z"
    },
    "papermill": {
     "duration": 0.791479,
     "end_time": "2022-07-29T11:05:35.913520",
     "exception": false,
     "start_time": "2022-07-29T11:05:35.122041",
     "status": "completed"
    },
    "tags": []
   },
   "outputs": [
    {
     "data": {
      "image/png": "[encoded data removed]",
      "text/plain": [
       "<Figure size 432x288 with 1 Axes>"
      ]
     },
     "metadata": {
      "needs_background": "light"
     },
     "output_type": "display_data"
    },
    {
     "data": {
      "image/png": "[encoded data removed]",
      "text/plain": [
       "<Figure size 432x288 with 1 Axes>"
      ]
     },
     "metadata": {
      "needs_background": "light"
     },
     "output_type": "display_data"
    },
    {
     "data": {
      "image/png": "[encoded data removed]",
      "text/plain": [
       "<Figure size 432x288 with 1 Axes>"
      ]
     },
     "metadata": {
      "needs_background": "light"
     },
     "output_type": "display_data"
    },
    {
     "data": {
      "image/png": "[encoded data removed]",
      "text/plain": [
       "<Figure size 432x288 with 1 Axes>"
      ]
     },
     "metadata": {
      "needs_background": "light"
     },
     "output_type": "display_data"
    }
   ],
   "source": [
    "#Numerical data visualization\n",
    "for a in numerical.columns:\n",
    "    plt.hist(numerical[a])\n",
    "    plt.title(a)\n",
    "    plt.show()"
   ]
  },
  {
   "cell_type": "markdown",
   "id": "1789cb96",
   "metadata": {
    "papermill": {
     "duration": 0.014886,
     "end_time": "2022-07-29T11:05:35.943578",
     "exception": false,
     "start_time": "2022-07-29T11:05:35.928692",
     "status": "completed"
    },
    "tags": []
   },
   "source": [
    "So lets look at the survival rate with above values"
   ]
  },
  {
   "cell_type": "code",
   "execution_count": 6,
   "id": "d11bc015",
   "metadata": {
    "execution": {
     "iopub.execute_input": "2022-07-29T11:05:35.976396Z",
     "iopub.status.busy": "2022-07-29T11:05:35.975578Z",
     "iopub.status.idle": "2022-07-29T11:05:36.002664Z",
     "shell.execute_reply": "2022-07-29T11:05:36.001698Z"
    },
    "papermill": {
     "duration": 0.046251,
     "end_time": "2022-07-29T11:05:36.004965",
     "exception": false,
     "start_time": "2022-07-29T11:05:35.958714",
     "status": "completed"
    },
    "tags": []
   },
   "outputs": [
    {
     "data": {
      "text/html": [
       "<div>\n",
       "<style scoped>\n",
       "    .dataframe tbody tr th:only-of-type {\n",
       "        vertical-align: middle;\n",
       "    }\n",
       "\n",
       "    .dataframe tbody tr th {\n",
       "        vertical-align: top;\n",
       "    }\n",
       "\n",
       "    .dataframe thead th {\n",
       "        text-align: right;\n",
       "    }\n",
       "</style>\n",
       "<table border=\"1\" class=\"dataframe\">\n",
       "  <thead>\n",
       "    <tr style=\"text-align: right;\">\n",
       "      <th></th>\n",
       "      <th>Age</th>\n",
       "      <th>Fare</th>\n",
       "      <th>Parch</th>\n",
       "      <th>SibSp</th>\n",
       "    </tr>\n",
       "    <tr>\n",
       "      <th>Survived</th>\n",
       "      <th></th>\n",
       "      <th></th>\n",
       "      <th></th>\n",
       "      <th></th>\n",
       "    </tr>\n",
       "  </thead>\n",
       "  <tbody>\n",
       "    <tr>\n",
       "      <th>0</th>\n",
       "      <td>30.626179</td>\n",
       "      <td>22.117887</td>\n",
       "      <td>0.329690</td>\n",
       "      <td>0.553734</td>\n",
       "    </tr>\n",
       "    <tr>\n",
       "      <th>1</th>\n",
       "      <td>28.343690</td>\n",
       "      <td>48.395408</td>\n",
       "      <td>0.464912</td>\n",
       "      <td>0.473684</td>\n",
       "    </tr>\n",
       "  </tbody>\n",
       "</table>\n",
       "</div>"
      ],
      "text/plain": [
       "                Age       Fare     Parch     SibSp\n",
       "Survived                                          \n",
       "0         30.626179  22.117887  0.329690  0.553734\n",
       "1         28.343690  48.395408  0.464912  0.473684"
      ]
     },
     "execution_count": 6,
     "metadata": {},
     "output_type": "execute_result"
    }
   ],
   "source": [
    "#Lets look relationship between survival and numerical values\n",
    "pd.pivot_table(df, index = 'Survived', values = ['Age','SibSp','Parch','Fare'])"
   ]
  },
  {
   "cell_type": "markdown",
   "id": "24d811a5",
   "metadata": {
    "papermill": {
     "duration": 0.014943,
     "end_time": "2022-07-29T11:05:36.035158",
     "exception": false,
     "start_time": "2022-07-29T11:05:36.020215",
     "status": "completed"
    },
    "tags": []
   },
   "source": [
    "**Ok we saw relationship between numerical data. Lets look at the categorical data visualization**"
   ]
  },
  {
   "cell_type": "code",
   "execution_count": 7,
   "id": "c22386d9",
   "metadata": {
    "execution": {
     "iopub.execute_input": "2022-07-29T11:05:36.068014Z",
     "iopub.status.busy": "2022-07-29T11:05:36.067212Z",
     "iopub.status.idle": "2022-07-29T11:05:46.579977Z",
     "shell.execute_reply": "2022-07-29T11:05:46.578740Z"
    },
    "papermill": {
     "duration": 10.532051,
     "end_time": "2022-07-29T11:05:46.582558",
     "exception": false,
     "start_time": "2022-07-29T11:05:36.050507",
     "status": "completed"
    },
    "tags": []
   },
   "outputs": [
    {
     "name": "stderr",
     "output_type": "stream",
     "text": [
      "/opt/conda/lib/python3.7/site-packages/seaborn/_decorators.py:43: FutureWarning: Pass the following variables as keyword args: x, y. From version 0.12, the only valid positional argument will be `data`, and passing other arguments without an explicit keyword will result in an error or misinterpretation.\n",
      "  FutureWarning\n"
     ]
    },
    {
     "data": {
      "image/png": "[encoded data removed]",
      "text/plain": [
       "<Figure size 432x288 with 1 Axes>"
      ]
     },
     "metadata": {
      "needs_background": "light"
     },
     "output_type": "display_data"
    },
    {
     "name": "stderr",
     "output_type": "stream",
     "text": [
      "/opt/conda/lib/python3.7/site-packages/seaborn/_decorators.py:43: FutureWarning: Pass the following variables as keyword args: x, y. From version 0.12, the only valid positional argument will be `data`, and passing other arguments without an explicit keyword will result in an error or misinterpretation.\n",
      "  FutureWarning\n"
     ]
    },
    {
     "data": {
      "image/png": "[encoded data removed]",
      "text/plain": [
       "<Figure size 432x288 with 1 Axes>"
      ]
     },
     "metadata": {
      "needs_background": "light"
     },
     "output_type": "display_data"
    },
    {
     "name": "stderr",
     "output_type": "stream",
     "text": [
      "/opt/conda/lib/python3.7/site-packages/seaborn/_decorators.py:43: FutureWarning: Pass the following variables as keyword args: x, y. From version 0.12, the only valid positional argument will be `data`, and passing other arguments without an explicit keyword will result in an error or misinterpretation.\n",
      "  FutureWarning\n"
     ]
    },
    {
     "data": {
      "image/png": "[encoded data removed]",
      "text/plain": [
       "<Figure size 432x288 with 1 Axes>"
      ]
     },
     "metadata": {
      "needs_background": "light"
     },
     "output_type": "display_data"
    },
    {
     "name": "stderr",
     "output_type": "stream",
     "text": [
      "/opt/conda/lib/python3.7/site-packages/seaborn/_decorators.py:43: FutureWarning: Pass the following variables as keyword args: x, y. From version 0.12, the only valid positional argument will be `data`, and passing other arguments without an explicit keyword will result in an error or misinterpretation.\n",
      "  FutureWarning\n"
     ]
    },
    {
     "data": {
      "image/png": "[encoded data removed]",
      "text/plain": [
       "<Figure size 432x288 with 1 Axes>"
      ]
     },
     "metadata": {
      "needs_background": "light"
     },
     "output_type": "display_data"
    },
    {
     "name": "stderr",
     "output_type": "stream",
     "text": [
      "/opt/conda/lib/python3.7/site-packages/seaborn/_decorators.py:43: FutureWarning: Pass the following variables as keyword args: x, y. From version 0.12, the only valid positional argument will be `data`, and passing other arguments without an explicit keyword will result in an error or misinterpretation.\n",
      "  FutureWarning\n"
     ]
    },
    {
     "data": {
      "image/png": "[encoded data removed]",
      "text/plain": [
       "<Figure size 432x288 with 1 Axes>"
      ]
     },
     "metadata": {
      "needs_background": "light"
     },
     "output_type": "display_data"
    }
   ],
   "source": [
    "#Categorical data visualization\n",
    "for a in categorical.columns:\n",
    "    sn.barplot(categorical[a].value_counts().index,categorical[a].value_counts()).set_title(a)\n",
    "    plt.show()"
   ]
  },
  {
   "cell_type": "markdown",
   "id": "c2d0982b",
   "metadata": {
    "papermill": {
     "duration": 0.016331,
     "end_time": "2022-07-29T11:05:46.616169",
     "exception": false,
     "start_time": "2022-07-29T11:05:46.599838",
     "status": "completed"
    },
    "tags": []
   },
   "source": [
    "Survived rate with categorical data"
   ]
  },
  {
   "cell_type": "code",
   "execution_count": 8,
   "id": "39aefe51",
   "metadata": {
    "execution": {
     "iopub.execute_input": "2022-07-29T11:05:46.651336Z",
     "iopub.status.busy": "2022-07-29T11:05:46.650903Z",
     "iopub.status.idle": "2022-07-29T11:05:46.692180Z",
     "shell.execute_reply": "2022-07-29T11:05:46.690793Z"
    },
    "papermill": {
     "duration": 0.062402,
     "end_time": "2022-07-29T11:05:46.695224",
     "exception": false,
     "start_time": "2022-07-29T11:05:46.632822",
     "status": "completed"
    },
    "tags": []
   },
   "outputs": [
    {
     "name": "stdout",
     "output_type": "stream",
     "text": [
      "Pclass      1   2    3\n",
      "Survived              \n",
      "0          80  97  372\n",
      "1         136  87  119\n",
      "--------------------\n",
      "Sex       female  male\n",
      "Survived              \n",
      "0             81   468\n",
      "1            233   109\n",
      "--------------------\n",
      "Embarked   C   Q    S\n",
      "Survived             \n",
      "0         75  47  427\n",
      "1         93  30  217\n"
     ]
    }
   ],
   "source": [
    "#Lets look relationship between survival and categorical values\n",
    "print(pd.pivot_table(df, index = 'Survived', columns = 'Pclass', values = 'Ticket' , aggfunc ='count'))\n",
    "print('--------------------')\n",
    "print(pd.pivot_table(df, index = 'Survived', columns = 'Sex', values = 'Ticket' ,aggfunc ='count'))\n",
    "print('--------------------')\n",
    "print(pd.pivot_table(df, index = 'Survived', columns = 'Embarked', values = 'Ticket' ,aggfunc ='count'))"
   ]
  },
  {
   "cell_type": "markdown",
   "id": "debc88b6",
   "metadata": {
    "papermill": {
     "duration": 0.016373,
     "end_time": "2022-07-29T11:05:46.729421",
     "exception": false,
     "start_time": "2022-07-29T11:05:46.713048",
     "status": "completed"
    },
    "tags": []
   },
   "source": [
    "# Feature Engineering"
   ]
  },
  {
   "cell_type": "markdown",
   "id": "c2e17521",
   "metadata": {
    "papermill": {
     "duration": 0.016472,
     "end_time": "2022-07-29T11:05:46.763207",
     "exception": false,
     "start_time": "2022-07-29T11:05:46.746735",
     "status": "completed"
    },
    "tags": []
   },
   "source": [
    "Lets look at some information about our dataframe"
   ]
  },
  {
   "cell_type": "code",
   "execution_count": 9,
   "id": "bddbfde0",
   "metadata": {
    "execution": {
     "iopub.execute_input": "2022-07-29T11:05:46.800372Z",
     "iopub.status.busy": "2022-07-29T11:05:46.799119Z",
     "iopub.status.idle": "2022-07-29T11:05:46.833906Z",
     "shell.execute_reply": "2022-07-29T11:05:46.832717Z"
    },
    "papermill": {
     "duration": 0.055825,
     "end_time": "2022-07-29T11:05:46.836455",
     "exception": false,
     "start_time": "2022-07-29T11:05:46.780630",
     "status": "completed"
    },
    "tags": []
   },
   "outputs": [
    {
     "data": {
      "text/html": [
       "<div>\n",
       "<style scoped>\n",
       "    .dataframe tbody tr th:only-of-type {\n",
       "        vertical-align: middle;\n",
       "    }\n",
       "\n",
       "    .dataframe tbody tr th {\n",
       "        vertical-align: top;\n",
       "    }\n",
       "\n",
       "    .dataframe thead th {\n",
       "        text-align: right;\n",
       "    }\n",
       "</style>\n",
       "<table border=\"1\" class=\"dataframe\">\n",
       "  <thead>\n",
       "    <tr style=\"text-align: right;\">\n",
       "      <th></th>\n",
       "      <th>PassengerId</th>\n",
       "      <th>Survived</th>\n",
       "      <th>Pclass</th>\n",
       "      <th>Age</th>\n",
       "      <th>SibSp</th>\n",
       "      <th>Parch</th>\n",
       "      <th>Fare</th>\n",
       "    </tr>\n",
       "  </thead>\n",
       "  <tbody>\n",
       "    <tr>\n",
       "      <th>count</th>\n",
       "      <td>891.000000</td>\n",
       "      <td>891.000000</td>\n",
       "      <td>891.000000</td>\n",
       "      <td>714.000000</td>\n",
       "      <td>891.000000</td>\n",
       "      <td>891.000000</td>\n",
       "      <td>891.000000</td>\n",
       "    </tr>\n",
       "    <tr>\n",
       "      <th>mean</th>\n",
       "      <td>446.000000</td>\n",
       "      <td>0.383838</td>\n",
       "      <td>2.308642</td>\n",
       "      <td>29.699118</td>\n",
       "      <td>0.523008</td>\n",
       "      <td>0.381594</td>\n",
       "      <td>32.204208</td>\n",
       "    </tr>\n",
       "    <tr>\n",
       "      <th>std</th>\n",
       "      <td>257.353842</td>\n",
       "      <td>0.486592</td>\n",
       "      <td>0.836071</td>\n",
       "      <td>14.526497</td>\n",
       "      <td>1.102743</td>\n",
       "      <td>0.806057</td>\n",
       "      <td>49.693429</td>\n",
       "    </tr>\n",
       "    <tr>\n",
       "      <th>min</th>\n",
       "      <td>1.000000</td>\n",
       "      <td>0.000000</td>\n",
       "      <td>1.000000</td>\n",
       "      <td>0.420000</td>\n",
       "      <td>0.000000</td>\n",
       "      <td>0.000000</td>\n",
       "      <td>0.000000</td>\n",
       "    </tr>\n",
       "    <tr>\n",
       "      <th>25%</th>\n",
       "      <td>223.500000</td>\n",
       "      <td>0.000000</td>\n",
       "      <td>2.000000</td>\n",
       "      <td>20.125000</td>\n",
       "      <td>0.000000</td>\n",
       "      <td>0.000000</td>\n",
       "      <td>7.910400</td>\n",
       "    </tr>\n",
       "    <tr>\n",
       "      <th>50%</th>\n",
       "      <td>446.000000</td>\n",
       "      <td>0.000000</td>\n",
       "      <td>3.000000</td>\n",
       "      <td>28.000000</td>\n",
       "      <td>0.000000</td>\n",
       "      <td>0.000000</td>\n",
       "      <td>14.454200</td>\n",
       "    </tr>\n",
       "    <tr>\n",
       "      <th>75%</th>\n",
       "      <td>668.500000</td>\n",
       "      <td>1.000000</td>\n",
       "      <td>3.000000</td>\n",
       "      <td>38.000000</td>\n",
       "      <td>1.000000</td>\n",
       "      <td>0.000000</td>\n",
       "      <td>31.000000</td>\n",
       "    </tr>\n",
       "    <tr>\n",
       "      <th>max</th>\n",
       "      <td>891.000000</td>\n",
       "      <td>1.000000</td>\n",
       "      <td>3.000000</td>\n",
       "      <td>80.000000</td>\n",
       "      <td>8.000000</td>\n",
       "      <td>6.000000</td>\n",
       "      <td>512.329200</td>\n",
       "    </tr>\n",
       "  </tbody>\n",
       "</table>\n",
       "</div>"
      ],
      "text/plain": [
       "       PassengerId    Survived      Pclass         Age       SibSp  \\\n",
       "count   891.000000  891.000000  891.000000  714.000000  891.000000   \n",
       "mean    446.000000    0.383838    2.308642   29.699118    0.523008   \n",
       "std     257.353842    0.486592    0.836071   14.526497    1.102743   \n",
       "min       1.000000    0.000000    1.000000    0.420000    0.000000   \n",
       "25%     223.500000    0.000000    2.000000   20.125000    0.000000   \n",
       "50%     446.000000    0.000000    3.000000   28.000000    0.000000   \n",
       "75%     668.500000    1.000000    3.000000   38.000000    1.000000   \n",
       "max     891.000000    1.000000    3.000000   80.000000    8.000000   \n",
       "\n",
       "            Parch        Fare  \n",
       "count  891.000000  891.000000  \n",
       "mean     0.381594   32.204208  \n",
       "std      0.806057   49.693429  \n",
       "min      0.000000    0.000000  \n",
       "25%      0.000000    7.910400  \n",
       "50%      0.000000   14.454200  \n",
       "75%      0.000000   31.000000  \n",
       "max      6.000000  512.329200  "
      ]
     },
     "execution_count": 9,
     "metadata": {},
     "output_type": "execute_result"
    }
   ],
   "source": [
    "df.describe()"
   ]
  },
  {
   "cell_type": "markdown",
   "id": "b4ff7093",
   "metadata": {
    "papermill": {
     "duration": 0.016793,
     "end_time": "2022-07-29T11:05:46.870876",
     "exception": false,
     "start_time": "2022-07-29T11:05:46.854083",
     "status": "completed"
    },
    "tags": []
   },
   "source": [
    "### Data Cleaning"
   ]
  },
  {
   "cell_type": "markdown",
   "id": "27339622",
   "metadata": {
    "papermill": {
     "duration": 0.016655,
     "end_time": "2022-07-29T11:05:46.904673",
     "exception": false,
     "start_time": "2022-07-29T11:05:46.888018",
     "status": "completed"
    },
    "tags": []
   },
   "source": [
    "**Ok according to above chart. There are some outliers. look max value and min value of fare. I think that is a outliers. If I train my model with this outliers, It will be a problem.**\n",
    "* **So first remove this outliers**"
   ]
  },
  {
   "cell_type": "code",
   "execution_count": 10,
   "id": "2d58256e",
   "metadata": {
    "execution": {
     "iopub.execute_input": "2022-07-29T11:05:46.940503Z",
     "iopub.status.busy": "2022-07-29T11:05:46.940108Z",
     "iopub.status.idle": "2022-07-29T11:05:46.947212Z",
     "shell.execute_reply": "2022-07-29T11:05:46.945947Z"
    },
    "papermill": {
     "duration": 0.028108,
     "end_time": "2022-07-29T11:05:46.949708",
     "exception": false,
     "start_time": "2022-07-29T11:05:46.921600",
     "status": "completed"
    },
    "tags": []
   },
   "outputs": [],
   "source": [
    "def outliers_remove(df):\n",
    "    outliers_list = ['Age','SibSp','Parch','Fare']\n",
    "    for entry in outliers_list:\n",
    "        max_limit = df[entry].mean() + 4*df[entry].std()\n",
    "        min_limit = df[entry].mean() - 4*df[entry].std()\n",
    "        df = df[(df[entry]<max_limit) & (df[entry]>min_limit)]\n",
    "    return df"
   ]
  },
  {
   "cell_type": "code",
   "execution_count": 11,
   "id": "4d5eb86e",
   "metadata": {
    "execution": {
     "iopub.execute_input": "2022-07-29T11:05:46.986911Z",
     "iopub.status.busy": "2022-07-29T11:05:46.985869Z",
     "iopub.status.idle": "2022-07-29T11:05:47.022981Z",
     "shell.execute_reply": "2022-07-29T11:05:47.022099Z"
    },
    "papermill": {
     "duration": 0.058414,
     "end_time": "2022-07-29T11:05:47.025377",
     "exception": false,
     "start_time": "2022-07-29T11:05:46.966963",
     "status": "completed"
    },
    "tags": []
   },
   "outputs": [
    {
     "data": {
      "text/html": [
       "<div>\n",
       "<style scoped>\n",
       "    .dataframe tbody tr th:only-of-type {\n",
       "        vertical-align: middle;\n",
       "    }\n",
       "\n",
       "    .dataframe tbody tr th {\n",
       "        vertical-align: top;\n",
       "    }\n",
       "\n",
       "    .dataframe thead th {\n",
       "        text-align: right;\n",
       "    }\n",
       "</style>\n",
       "<table border=\"1\" class=\"dataframe\">\n",
       "  <thead>\n",
       "    <tr style=\"text-align: right;\">\n",
       "      <th></th>\n",
       "      <th>PassengerId</th>\n",
       "      <th>Survived</th>\n",
       "      <th>Pclass</th>\n",
       "      <th>Age</th>\n",
       "      <th>SibSp</th>\n",
       "      <th>Parch</th>\n",
       "      <th>Fare</th>\n",
       "    </tr>\n",
       "  </thead>\n",
       "  <tbody>\n",
       "    <tr>\n",
       "      <th>count</th>\n",
       "      <td>689.000000</td>\n",
       "      <td>689.000000</td>\n",
       "      <td>689.000000</td>\n",
       "      <td>689.000000</td>\n",
       "      <td>689.000000</td>\n",
       "      <td>689.000000</td>\n",
       "      <td>689.000000</td>\n",
       "    </tr>\n",
       "    <tr>\n",
       "      <th>mean</th>\n",
       "      <td>450.802612</td>\n",
       "      <td>0.407837</td>\n",
       "      <td>2.240929</td>\n",
       "      <td>29.683846</td>\n",
       "      <td>0.465893</td>\n",
       "      <td>0.345428</td>\n",
       "      <td>29.959476</td>\n",
       "    </tr>\n",
       "    <tr>\n",
       "      <th>std</th>\n",
       "      <td>258.614205</td>\n",
       "      <td>0.491790</td>\n",
       "      <td>0.831787</td>\n",
       "      <td>14.533712</td>\n",
       "      <td>0.841725</td>\n",
       "      <td>0.662303</td>\n",
       "      <td>36.023646</td>\n",
       "    </tr>\n",
       "    <tr>\n",
       "      <th>min</th>\n",
       "      <td>1.000000</td>\n",
       "      <td>0.000000</td>\n",
       "      <td>1.000000</td>\n",
       "      <td>0.420000</td>\n",
       "      <td>0.000000</td>\n",
       "      <td>0.000000</td>\n",
       "      <td>0.000000</td>\n",
       "    </tr>\n",
       "    <tr>\n",
       "      <th>25%</th>\n",
       "      <td>225.000000</td>\n",
       "      <td>0.000000</td>\n",
       "      <td>1.000000</td>\n",
       "      <td>20.500000</td>\n",
       "      <td>0.000000</td>\n",
       "      <td>0.000000</td>\n",
       "      <td>8.050000</td>\n",
       "    </tr>\n",
       "    <tr>\n",
       "      <th>50%</th>\n",
       "      <td>448.000000</td>\n",
       "      <td>0.000000</td>\n",
       "      <td>2.000000</td>\n",
       "      <td>28.000000</td>\n",
       "      <td>0.000000</td>\n",
       "      <td>0.000000</td>\n",
       "      <td>14.500000</td>\n",
       "    </tr>\n",
       "    <tr>\n",
       "      <th>75%</th>\n",
       "      <td>678.000000</td>\n",
       "      <td>1.000000</td>\n",
       "      <td>3.000000</td>\n",
       "      <td>38.000000</td>\n",
       "      <td>1.000000</td>\n",
       "      <td>0.000000</td>\n",
       "      <td>31.275000</td>\n",
       "    </tr>\n",
       "    <tr>\n",
       "      <th>max</th>\n",
       "      <td>891.000000</td>\n",
       "      <td>1.000000</td>\n",
       "      <td>3.000000</td>\n",
       "      <td>80.000000</td>\n",
       "      <td>4.000000</td>\n",
       "      <td>3.000000</td>\n",
       "      <td>227.525000</td>\n",
       "    </tr>\n",
       "  </tbody>\n",
       "</table>\n",
       "</div>"
      ],
      "text/plain": [
       "       PassengerId    Survived      Pclass         Age       SibSp  \\\n",
       "count   689.000000  689.000000  689.000000  689.000000  689.000000   \n",
       "mean    450.802612    0.407837    2.240929   29.683846    0.465893   \n",
       "std     258.614205    0.491790    0.831787   14.533712    0.841725   \n",
       "min       1.000000    0.000000    1.000000    0.420000    0.000000   \n",
       "25%     225.000000    0.000000    1.000000   20.500000    0.000000   \n",
       "50%     448.000000    0.000000    2.000000   28.000000    0.000000   \n",
       "75%     678.000000    1.000000    3.000000   38.000000    1.000000   \n",
       "max     891.000000    1.000000    3.000000   80.000000    4.000000   \n",
       "\n",
       "            Parch        Fare  \n",
       "count  689.000000  689.000000  \n",
       "mean     0.345428   29.959476  \n",
       "std      0.662303   36.023646  \n",
       "min      0.000000    0.000000  \n",
       "25%      0.000000    8.050000  \n",
       "50%      0.000000   14.500000  \n",
       "75%      0.000000   31.275000  \n",
       "max      3.000000  227.525000  "
      ]
     },
     "execution_count": 11,
     "metadata": {},
     "output_type": "execute_result"
    }
   ],
   "source": [
    "df = outliers_remove(df)\n",
    "df.describe()"
   ]
  },
  {
   "cell_type": "markdown",
   "id": "5a4ef2b8",
   "metadata": {
    "papermill": {
     "duration": 0.016914,
     "end_time": "2022-07-29T11:05:47.059954",
     "exception": false,
     "start_time": "2022-07-29T11:05:47.043040",
     "status": "completed"
    },
    "tags": []
   },
   "source": [
    "*** I used 4 standrad Deviation to remove these outliers.***"
   ]
  },
  {
   "cell_type": "code",
   "execution_count": 12,
   "id": "01131cf6",
   "metadata": {
    "execution": {
     "iopub.execute_input": "2022-07-29T11:05:47.097077Z",
     "iopub.status.busy": "2022-07-29T11:05:47.096649Z",
     "iopub.status.idle": "2022-07-29T11:05:47.102240Z",
     "shell.execute_reply": "2022-07-29T11:05:47.101426Z"
    },
    "papermill": {
     "duration": 0.026682,
     "end_time": "2022-07-29T11:05:47.104341",
     "exception": false,
     "start_time": "2022-07-29T11:05:47.077659",
     "status": "completed"
    },
    "tags": []
   },
   "outputs": [
    {
     "data": {
      "text/plain": [
       "(689, 12)"
      ]
     },
     "execution_count": 12,
     "metadata": {},
     "output_type": "execute_result"
    }
   ],
   "source": [
    "df.shape"
   ]
  },
  {
   "cell_type": "markdown",
   "id": "c0966173",
   "metadata": {
    "papermill": {
     "duration": 0.01709,
     "end_time": "2022-07-29T11:05:47.138715",
     "exception": false,
     "start_time": "2022-07-29T11:05:47.121625",
     "status": "completed"
    },
    "tags": []
   },
   "source": [
    "**I think I lost about 202 entries from outliers removal (891-689)**"
   ]
  },
  {
   "cell_type": "markdown",
   "id": "7f033940",
   "metadata": {
    "papermill": {
     "duration": 0.016838,
     "end_time": "2022-07-29T11:05:47.172945",
     "exception": false,
     "start_time": "2022-07-29T11:05:47.156107",
     "status": "completed"
    },
    "tags": []
   },
   "source": [
    "**Lets look unique values in each column and is there any invalid entirs?**"
   ]
  },
  {
   "cell_type": "code",
   "execution_count": 13,
   "id": "bd8dde62",
   "metadata": {
    "execution": {
     "iopub.execute_input": "2022-07-29T11:05:47.209369Z",
     "iopub.status.busy": "2022-07-29T11:05:47.208957Z",
     "iopub.status.idle": "2022-07-29T11:05:47.226238Z",
     "shell.execute_reply": "2022-07-29T11:05:47.225068Z"
    },
    "papermill": {
     "duration": 0.0381,
     "end_time": "2022-07-29T11:05:47.228561",
     "exception": false,
     "start_time": "2022-07-29T11:05:47.190461",
     "status": "completed"
    },
    "tags": []
   },
   "outputs": [
    {
     "data": {
      "text/html": [
       "<div>\n",
       "<style scoped>\n",
       "    .dataframe tbody tr th:only-of-type {\n",
       "        vertical-align: middle;\n",
       "    }\n",
       "\n",
       "    .dataframe tbody tr th {\n",
       "        vertical-align: top;\n",
       "    }\n",
       "\n",
       "    .dataframe thead th {\n",
       "        text-align: right;\n",
       "    }\n",
       "</style>\n",
       "<table border=\"1\" class=\"dataframe\">\n",
       "  <thead>\n",
       "    <tr style=\"text-align: right;\">\n",
       "      <th></th>\n",
       "      <th>PassengerId</th>\n",
       "      <th>Survived</th>\n",
       "      <th>Pclass</th>\n",
       "      <th>Name</th>\n",
       "      <th>Sex</th>\n",
       "      <th>Age</th>\n",
       "      <th>SibSp</th>\n",
       "      <th>Parch</th>\n",
       "      <th>Ticket</th>\n",
       "      <th>Fare</th>\n",
       "      <th>Cabin</th>\n",
       "      <th>Embarked</th>\n",
       "    </tr>\n",
       "  </thead>\n",
       "  <tbody>\n",
       "    <tr>\n",
       "      <th>0</th>\n",
       "      <td>1</td>\n",
       "      <td>0</td>\n",
       "      <td>3</td>\n",
       "      <td>Braund, Mr. Owen Harris</td>\n",
       "      <td>male</td>\n",
       "      <td>22.0</td>\n",
       "      <td>1</td>\n",
       "      <td>0</td>\n",
       "      <td>A/5 21171</td>\n",
       "      <td>7.2500</td>\n",
       "      <td>NaN</td>\n",
       "      <td>S</td>\n",
       "    </tr>\n",
       "    <tr>\n",
       "      <th>1</th>\n",
       "      <td>2</td>\n",
       "      <td>1</td>\n",
       "      <td>1</td>\n",
       "      <td>Cumings, Mrs. John Bradley (Florence Briggs Th...</td>\n",
       "      <td>female</td>\n",
       "      <td>38.0</td>\n",
       "      <td>1</td>\n",
       "      <td>0</td>\n",
       "      <td>PC 17599</td>\n",
       "      <td>71.2833</td>\n",
       "      <td>C85</td>\n",
       "      <td>C</td>\n",
       "    </tr>\n",
       "    <tr>\n",
       "      <th>2</th>\n",
       "      <td>3</td>\n",
       "      <td>1</td>\n",
       "      <td>3</td>\n",
       "      <td>Heikkinen, Miss. Laina</td>\n",
       "      <td>female</td>\n",
       "      <td>26.0</td>\n",
       "      <td>0</td>\n",
       "      <td>0</td>\n",
       "      <td>STON/O2. 3101282</td>\n",
       "      <td>7.9250</td>\n",
       "      <td>NaN</td>\n",
       "      <td>S</td>\n",
       "    </tr>\n",
       "    <tr>\n",
       "      <th>3</th>\n",
       "      <td>4</td>\n",
       "      <td>1</td>\n",
       "      <td>1</td>\n",
       "      <td>Futrelle, Mrs. Jacques Heath (Lily May Peel)</td>\n",
       "      <td>female</td>\n",
       "      <td>35.0</td>\n",
       "      <td>1</td>\n",
       "      <td>0</td>\n",
       "      <td>113803</td>\n",
       "      <td>53.1000</td>\n",
       "      <td>C123</td>\n",
       "      <td>S</td>\n",
       "    </tr>\n",
       "    <tr>\n",
       "      <th>4</th>\n",
       "      <td>5</td>\n",
       "      <td>0</td>\n",
       "      <td>3</td>\n",
       "      <td>Allen, Mr. William Henry</td>\n",
       "      <td>male</td>\n",
       "      <td>35.0</td>\n",
       "      <td>0</td>\n",
       "      <td>0</td>\n",
       "      <td>373450</td>\n",
       "      <td>8.0500</td>\n",
       "      <td>NaN</td>\n",
       "      <td>S</td>\n",
       "    </tr>\n",
       "  </tbody>\n",
       "</table>\n",
       "</div>"
      ],
      "text/plain": [
       "   PassengerId  Survived  Pclass  \\\n",
       "0            1         0       3   \n",
       "1            2         1       1   \n",
       "2            3         1       3   \n",
       "3            4         1       1   \n",
       "4            5         0       3   \n",
       "\n",
       "                                                Name     Sex   Age  SibSp  \\\n",
       "0                            Braund, Mr. Owen Harris    male  22.0      1   \n",
       "1  Cumings, Mrs. John Bradley (Florence Briggs Th...  female  38.0      1   \n",
       "2                             Heikkinen, Miss. Laina  female  26.0      0   \n",
       "3       Futrelle, Mrs. Jacques Heath (Lily May Peel)  female  35.0      1   \n",
       "4                           Allen, Mr. William Henry    male  35.0      0   \n",
       "\n",
       "   Parch            Ticket     Fare Cabin Embarked  \n",
       "0      0         A/5 21171   7.2500   NaN        S  \n",
       "1      0          PC 17599  71.2833   C85        C  \n",
       "2      0  STON/O2. 3101282   7.9250   NaN        S  \n",
       "3      0            113803  53.1000  C123        S  \n",
       "4      0            373450   8.0500   NaN        S  "
      ]
     },
     "execution_count": 13,
     "metadata": {},
     "output_type": "execute_result"
    }
   ],
   "source": [
    "df.head()"
   ]
  },
  {
   "cell_type": "code",
   "execution_count": 14,
   "id": "ccf28595",
   "metadata": {
    "execution": {
     "iopub.execute_input": "2022-07-29T11:05:47.265927Z",
     "iopub.status.busy": "2022-07-29T11:05:47.265319Z",
     "iopub.status.idle": "2022-07-29T11:05:47.274407Z",
     "shell.execute_reply": "2022-07-29T11:05:47.273267Z"
    },
    "papermill": {
     "duration": 0.030529,
     "end_time": "2022-07-29T11:05:47.276715",
     "exception": false,
     "start_time": "2022-07-29T11:05:47.246186",
     "status": "completed"
    },
    "tags": []
   },
   "outputs": [
    {
     "name": "stdout",
     "output_type": "stream",
     "text": [
      "Survived : [0 1]\n",
      "Pclass : [3 1 2]\n",
      "Sex : ['male' 'female']\n",
      "SibSp : [1 0 3 4 2]\n",
      "Parch : [0 1 2 3]\n",
      "Cabin : [nan 'C85' 'C123' 'E46' 'G6' 'C103' 'D56' 'A6' 'D33' 'B30' 'B28' 'C83'\n",
      " 'F33' 'F G73' 'E31' 'A5' 'D10 D12' 'D26' 'C110' 'E101' 'D47' 'B86' 'F2'\n",
      " 'C2' 'B19' 'A7' 'C49' 'F4' 'B4' 'B80' 'A31' 'D36' 'D15' 'C93' 'C78' 'D35'\n",
      " 'C87' 'B77' 'E67' 'B94' 'C125' 'C99' 'C118' 'D7' 'B49' 'D' 'C22 C26'\n",
      " 'C65' 'E36' 'C54' 'C7' 'E34' 'C32' 'B18' 'C124' 'C91' 'E40' 'T' 'E33'\n",
      " 'D37' 'B35' 'E50' 'C82' 'B96 B98' 'E10' 'C52' 'E44' 'A34' 'C104' 'C111'\n",
      " 'C92' 'E38' 'E12' 'E63' 'B37' 'C30' 'D20' 'B79' 'E25' 'D46' 'B73' 'B38'\n",
      " 'B39' 'B22' 'C86' 'C70' 'A16' 'C101' 'C68' 'A10' 'E68' 'B41' 'A20' 'D19'\n",
      " 'D50' 'D9' 'A23' 'B50' 'A26' 'D48' 'E58' 'B71' 'D49' 'B5' 'B20' 'F G63'\n",
      " 'C62 C64' 'E24' 'C90' 'C126' 'C45' 'E8' 'C46' 'D30' 'E121' 'D11' 'E77'\n",
      " 'B3' 'D6' 'B82 B84' 'D17' 'A36' 'B69' 'E49' 'D28' 'E17' 'A24'\n",
      " 'B51 B53 B55' 'C50' 'B42' 'C148']\n",
      "Embarked : ['S' 'C' 'Q' nan]\n"
     ]
    }
   ],
   "source": [
    "print('Survived :',df.Survived.unique())\n",
    "print('Pclass :',df.Pclass.unique())\n",
    "print('Sex :',df.Sex.unique())\n",
    "print('SibSp :',df.SibSp.unique())\n",
    "print('Parch :',df.Parch.unique())\n",
    "print('Cabin :',df.Cabin.unique())\n",
    "print('Embarked :',df.Embarked.unique())"
   ]
  },
  {
   "cell_type": "markdown",
   "id": "06c8fb50",
   "metadata": {
    "papermill": {
     "duration": 0.017518,
     "end_time": "2022-07-29T11:05:47.312094",
     "exception": false,
     "start_time": "2022-07-29T11:05:47.294576",
     "status": "completed"
    },
    "tags": []
   },
   "source": [
    "**There are some NaN values. Lets look at how much**"
   ]
  },
  {
   "cell_type": "code",
   "execution_count": 15,
   "id": "5fc0b028",
   "metadata": {
    "execution": {
     "iopub.execute_input": "2022-07-29T11:05:47.349541Z",
     "iopub.status.busy": "2022-07-29T11:05:47.348900Z",
     "iopub.status.idle": "2022-07-29T11:05:47.357743Z",
     "shell.execute_reply": "2022-07-29T11:05:47.356901Z"
    },
    "papermill": {
     "duration": 0.030148,
     "end_time": "2022-07-29T11:05:47.359865",
     "exception": false,
     "start_time": "2022-07-29T11:05:47.329717",
     "status": "completed"
    },
    "tags": []
   },
   "outputs": [
    {
     "data": {
      "text/plain": [
       "PassengerId      0\n",
       "Survived         0\n",
       "Pclass           0\n",
       "Name             0\n",
       "Sex              0\n",
       "Age              0\n",
       "SibSp            0\n",
       "Parch            0\n",
       "Ticket           0\n",
       "Fare             0\n",
       "Cabin          514\n",
       "Embarked         2\n",
       "dtype: int64"
      ]
     },
     "execution_count": 15,
     "metadata": {},
     "output_type": "execute_result"
    }
   ],
   "source": [
    "#Lets look how many NaN values are there\n",
    "df.isnull().sum()"
   ]
  },
  {
   "cell_type": "markdown",
   "id": "a497cbe9",
   "metadata": {
    "papermill": {
     "duration": 0.017597,
     "end_time": "2022-07-29T11:05:47.395299",
     "exception": false,
     "start_time": "2022-07-29T11:05:47.377702",
     "status": "completed"
    },
    "tags": []
   },
   "source": [
    "* There are 687 NaN Cabin entries out of 891. So we can ignore that column\n",
    "* Also drop 2 embarked entries\n",
    "* And we can fill other NaN values with there mean"
   ]
  },
  {
   "cell_type": "code",
   "execution_count": 16,
   "id": "acc3f515",
   "metadata": {
    "execution": {
     "iopub.execute_input": "2022-07-29T11:05:47.433116Z",
     "iopub.status.busy": "2022-07-29T11:05:47.432509Z",
     "iopub.status.idle": "2022-07-29T11:05:47.438095Z",
     "shell.execute_reply": "2022-07-29T11:05:47.437195Z"
    },
    "papermill": {
     "duration": 0.026881,
     "end_time": "2022-07-29T11:05:47.440096",
     "exception": false,
     "start_time": "2022-07-29T11:05:47.413215",
     "status": "completed"
    },
    "tags": []
   },
   "outputs": [],
   "source": [
    "#There are 687 NaN Cabin entries out of 891. So we can ignore that column\n",
    "#Also drop 2 embarked entries\n",
    "#And we can fill other NaN values with there mean\n",
    "def fix_nan_values(df):\n",
    "    df.drop('Cabin',axis='columns',inplace=True)\n",
    "    df.Age.fillna(df.Age.mean(),inplace=True)\n",
    "    df.Fare.fillna(df.Fare.mean(),inplace=True)\n",
    "    df.dropna(subset=['Embarked'],inplace=True)\n",
    "    return df\n"
   ]
  },
  {
   "cell_type": "code",
   "execution_count": 17,
   "id": "157f62a8",
   "metadata": {
    "execution": {
     "iopub.execute_input": "2022-07-29T11:05:47.478179Z",
     "iopub.status.busy": "2022-07-29T11:05:47.477520Z",
     "iopub.status.idle": "2022-07-29T11:05:47.489260Z",
     "shell.execute_reply": "2022-07-29T11:05:47.488430Z"
    },
    "papermill": {
     "duration": 0.033225,
     "end_time": "2022-07-29T11:05:47.491288",
     "exception": false,
     "start_time": "2022-07-29T11:05:47.458063",
     "status": "completed"
    },
    "tags": []
   },
   "outputs": [
    {
     "data": {
      "text/plain": [
       "PassengerId    0\n",
       "Survived       0\n",
       "Pclass         0\n",
       "Name           0\n",
       "Sex            0\n",
       "Age            0\n",
       "SibSp          0\n",
       "Parch          0\n",
       "Ticket         0\n",
       "Fare           0\n",
       "Embarked       0\n",
       "dtype: int64"
      ]
     },
     "execution_count": 17,
     "metadata": {},
     "output_type": "execute_result"
    }
   ],
   "source": [
    "fix_nan_values(df)\n",
    "df.isnull().sum()"
   ]
  },
  {
   "cell_type": "markdown",
   "id": "1a3772c9",
   "metadata": {
    "papermill": {
     "duration": 0.01765,
     "end_time": "2022-07-29T11:05:47.526976",
     "exception": false,
     "start_time": "2022-07-29T11:05:47.509326",
     "status": "completed"
    },
    "tags": []
   },
   "source": [
    "**So there isn't any NaN values further. Lets apply dummies for categorical variables.**"
   ]
  },
  {
   "cell_type": "markdown",
   "id": "ba546b2b",
   "metadata": {
    "papermill": {
     "duration": 0.017601,
     "end_time": "2022-07-29T11:05:47.562543",
     "exception": false,
     "start_time": "2022-07-29T11:05:47.544942",
     "status": "completed"
    },
    "tags": []
   },
   "source": [
    "> ***Every time wrotes functions because it helpful when do same process to test data set.***"
   ]
  },
  {
   "cell_type": "code",
   "execution_count": 18,
   "id": "d1229803",
   "metadata": {
    "execution": {
     "iopub.execute_input": "2022-07-29T11:05:47.600668Z",
     "iopub.status.busy": "2022-07-29T11:05:47.600067Z",
     "iopub.status.idle": "2022-07-29T11:05:47.606210Z",
     "shell.execute_reply": "2022-07-29T11:05:47.605386Z"
    },
    "papermill": {
     "duration": 0.027885,
     "end_time": "2022-07-29T11:05:47.608385",
     "exception": false,
     "start_time": "2022-07-29T11:05:47.580500",
     "status": "completed"
    },
    "tags": []
   },
   "outputs": [],
   "source": [
    "def apply_dummies(df):\n",
    "    dummies=pd.get_dummies(df.Sex)\n",
    "    df1 = pd.concat([df,dummies.drop(['female'],axis='columns')],axis='columns')\n",
    "    df1.drop('Sex',axis='columns',inplace=True)\n",
    "    dummies=pd.get_dummies(df1.Embarked)\n",
    "    df2 = pd.concat([df1,dummies.drop(['Q'],axis='columns')],axis='columns')\n",
    "    df2.drop('Embarked', axis='columns',inplace=True)\n",
    "    return df2"
   ]
  },
  {
   "cell_type": "code",
   "execution_count": 19,
   "id": "de26c929",
   "metadata": {
    "execution": {
     "iopub.execute_input": "2022-07-29T11:05:47.646678Z",
     "iopub.status.busy": "2022-07-29T11:05:47.645836Z",
     "iopub.status.idle": "2022-07-29T11:05:47.669970Z",
     "shell.execute_reply": "2022-07-29T11:05:47.669141Z"
    },
    "papermill": {
     "duration": 0.045879,
     "end_time": "2022-07-29T11:05:47.672369",
     "exception": false,
     "start_time": "2022-07-29T11:05:47.626490",
     "status": "completed"
    },
    "tags": []
   },
   "outputs": [
    {
     "data": {
      "text/html": [
       "<div>\n",
       "<style scoped>\n",
       "    .dataframe tbody tr th:only-of-type {\n",
       "        vertical-align: middle;\n",
       "    }\n",
       "\n",
       "    .dataframe tbody tr th {\n",
       "        vertical-align: top;\n",
       "    }\n",
       "\n",
       "    .dataframe thead th {\n",
       "        text-align: right;\n",
       "    }\n",
       "</style>\n",
       "<table border=\"1\" class=\"dataframe\">\n",
       "  <thead>\n",
       "    <tr style=\"text-align: right;\">\n",
       "      <th></th>\n",
       "      <th>PassengerId</th>\n",
       "      <th>Survived</th>\n",
       "      <th>Pclass</th>\n",
       "      <th>Name</th>\n",
       "      <th>Age</th>\n",
       "      <th>SibSp</th>\n",
       "      <th>Parch</th>\n",
       "      <th>Ticket</th>\n",
       "      <th>Fare</th>\n",
       "      <th>male</th>\n",
       "      <th>C</th>\n",
       "      <th>S</th>\n",
       "    </tr>\n",
       "  </thead>\n",
       "  <tbody>\n",
       "    <tr>\n",
       "      <th>0</th>\n",
       "      <td>1</td>\n",
       "      <td>0</td>\n",
       "      <td>3</td>\n",
       "      <td>Braund, Mr. Owen Harris</td>\n",
       "      <td>22.0</td>\n",
       "      <td>1</td>\n",
       "      <td>0</td>\n",
       "      <td>A/5 21171</td>\n",
       "      <td>7.2500</td>\n",
       "      <td>1</td>\n",
       "      <td>0</td>\n",
       "      <td>1</td>\n",
       "    </tr>\n",
       "    <tr>\n",
       "      <th>1</th>\n",
       "      <td>2</td>\n",
       "      <td>1</td>\n",
       "      <td>1</td>\n",
       "      <td>Cumings, Mrs. John Bradley (Florence Briggs Th...</td>\n",
       "      <td>38.0</td>\n",
       "      <td>1</td>\n",
       "      <td>0</td>\n",
       "      <td>PC 17599</td>\n",
       "      <td>71.2833</td>\n",
       "      <td>0</td>\n",
       "      <td>1</td>\n",
       "      <td>0</td>\n",
       "    </tr>\n",
       "    <tr>\n",
       "      <th>2</th>\n",
       "      <td>3</td>\n",
       "      <td>1</td>\n",
       "      <td>3</td>\n",
       "      <td>Heikkinen, Miss. Laina</td>\n",
       "      <td>26.0</td>\n",
       "      <td>0</td>\n",
       "      <td>0</td>\n",
       "      <td>STON/O2. 3101282</td>\n",
       "      <td>7.9250</td>\n",
       "      <td>0</td>\n",
       "      <td>0</td>\n",
       "      <td>1</td>\n",
       "    </tr>\n",
       "    <tr>\n",
       "      <th>3</th>\n",
       "      <td>4</td>\n",
       "      <td>1</td>\n",
       "      <td>1</td>\n",
       "      <td>Futrelle, Mrs. Jacques Heath (Lily May Peel)</td>\n",
       "      <td>35.0</td>\n",
       "      <td>1</td>\n",
       "      <td>0</td>\n",
       "      <td>113803</td>\n",
       "      <td>53.1000</td>\n",
       "      <td>0</td>\n",
       "      <td>0</td>\n",
       "      <td>1</td>\n",
       "    </tr>\n",
       "    <tr>\n",
       "      <th>4</th>\n",
       "      <td>5</td>\n",
       "      <td>0</td>\n",
       "      <td>3</td>\n",
       "      <td>Allen, Mr. William Henry</td>\n",
       "      <td>35.0</td>\n",
       "      <td>0</td>\n",
       "      <td>0</td>\n",
       "      <td>373450</td>\n",
       "      <td>8.0500</td>\n",
       "      <td>1</td>\n",
       "      <td>0</td>\n",
       "      <td>1</td>\n",
       "    </tr>\n",
       "  </tbody>\n",
       "</table>\n",
       "</div>"
      ],
      "text/plain": [
       "   PassengerId  Survived  Pclass  \\\n",
       "0            1         0       3   \n",
       "1            2         1       1   \n",
       "2            3         1       3   \n",
       "3            4         1       1   \n",
       "4            5         0       3   \n",
       "\n",
       "                                                Name   Age  SibSp  Parch  \\\n",
       "0                            Braund, Mr. Owen Harris  22.0      1      0   \n",
       "1  Cumings, Mrs. John Bradley (Florence Briggs Th...  38.0      1      0   \n",
       "2                             Heikkinen, Miss. Laina  26.0      0      0   \n",
       "3       Futrelle, Mrs. Jacques Heath (Lily May Peel)  35.0      1      0   \n",
       "4                           Allen, Mr. William Henry  35.0      0      0   \n",
       "\n",
       "             Ticket     Fare  male  C  S  \n",
       "0         A/5 21171   7.2500     1  0  1  \n",
       "1          PC 17599  71.2833     0  1  0  \n",
       "2  STON/O2. 3101282   7.9250     0  0  1  \n",
       "3            113803  53.1000     0  0  1  \n",
       "4            373450   8.0500     1  0  1  "
      ]
     },
     "execution_count": 19,
     "metadata": {},
     "output_type": "execute_result"
    }
   ],
   "source": [
    "df = apply_dummies(df)\n",
    "df.head()"
   ]
  },
  {
   "cell_type": "markdown",
   "id": "f3293f65",
   "metadata": {
    "papermill": {
     "duration": 0.018379,
     "end_time": "2022-07-29T11:05:47.709269",
     "exception": false,
     "start_time": "2022-07-29T11:05:47.690890",
     "status": "completed"
    },
    "tags": []
   },
   "source": [
    "*** Name and Ticket columns are no need. It looks there isn't any relationship between servival rate and that Name/Ticket columns. I don't know exactly but I think so. ***"
   ]
  },
  {
   "cell_type": "markdown",
   "id": "cc3df934",
   "metadata": {
    "papermill": {
     "duration": 0.018142,
     "end_time": "2022-07-29T11:05:47.745814",
     "exception": false,
     "start_time": "2022-07-29T11:05:47.727672",
     "status": "completed"
    },
    "tags": []
   },
   "source": [
    "**Therefore I drop these columns**"
   ]
  },
  {
   "cell_type": "code",
   "execution_count": 20,
   "id": "f9d593ba",
   "metadata": {
    "execution": {
     "iopub.execute_input": "2022-07-29T11:05:47.786225Z",
     "iopub.status.busy": "2022-07-29T11:05:47.785601Z",
     "iopub.status.idle": "2022-07-29T11:05:47.790363Z",
     "shell.execute_reply": "2022-07-29T11:05:47.789483Z"
    },
    "papermill": {
     "duration": 0.027315,
     "end_time": "2022-07-29T11:05:47.792483",
     "exception": false,
     "start_time": "2022-07-29T11:05:47.765168",
     "status": "completed"
    },
    "tags": []
   },
   "outputs": [],
   "source": [
    "#Name and Ticket column is no need. So drop them\n",
    "def drop_columns(df):\n",
    "    df.drop('Name',axis='columns',inplace=True)\n",
    "    df.drop('Ticket',axis='columns',inplace=True)\n",
    "    return df\n",
    "    "
   ]
  },
  {
   "cell_type": "code",
   "execution_count": 21,
   "id": "46c0ef9e",
   "metadata": {
    "execution": {
     "iopub.execute_input": "2022-07-29T11:05:47.832540Z",
     "iopub.status.busy": "2022-07-29T11:05:47.831636Z",
     "iopub.status.idle": "2022-07-29T11:05:47.847080Z",
     "shell.execute_reply": "2022-07-29T11:05:47.846161Z"
    },
    "papermill": {
     "duration": 0.038017,
     "end_time": "2022-07-29T11:05:47.849312",
     "exception": false,
     "start_time": "2022-07-29T11:05:47.811295",
     "status": "completed"
    },
    "tags": []
   },
   "outputs": [
    {
     "data": {
      "text/html": [
       "<div>\n",
       "<style scoped>\n",
       "    .dataframe tbody tr th:only-of-type {\n",
       "        vertical-align: middle;\n",
       "    }\n",
       "\n",
       "    .dataframe tbody tr th {\n",
       "        vertical-align: top;\n",
       "    }\n",
       "\n",
       "    .dataframe thead th {\n",
       "        text-align: right;\n",
       "    }\n",
       "</style>\n",
       "<table border=\"1\" class=\"dataframe\">\n",
       "  <thead>\n",
       "    <tr style=\"text-align: right;\">\n",
       "      <th></th>\n",
       "      <th>PassengerId</th>\n",
       "      <th>Survived</th>\n",
       "      <th>Pclass</th>\n",
       "      <th>Age</th>\n",
       "      <th>SibSp</th>\n",
       "      <th>Parch</th>\n",
       "      <th>Fare</th>\n",
       "      <th>male</th>\n",
       "      <th>C</th>\n",
       "      <th>S</th>\n",
       "    </tr>\n",
       "  </thead>\n",
       "  <tbody>\n",
       "    <tr>\n",
       "      <th>0</th>\n",
       "      <td>1</td>\n",
       "      <td>0</td>\n",
       "      <td>3</td>\n",
       "      <td>22.0</td>\n",
       "      <td>1</td>\n",
       "      <td>0</td>\n",
       "      <td>7.2500</td>\n",
       "      <td>1</td>\n",
       "      <td>0</td>\n",
       "      <td>1</td>\n",
       "    </tr>\n",
       "    <tr>\n",
       "      <th>1</th>\n",
       "      <td>2</td>\n",
       "      <td>1</td>\n",
       "      <td>1</td>\n",
       "      <td>38.0</td>\n",
       "      <td>1</td>\n",
       "      <td>0</td>\n",
       "      <td>71.2833</td>\n",
       "      <td>0</td>\n",
       "      <td>1</td>\n",
       "      <td>0</td>\n",
       "    </tr>\n",
       "    <tr>\n",
       "      <th>2</th>\n",
       "      <td>3</td>\n",
       "      <td>1</td>\n",
       "      <td>3</td>\n",
       "      <td>26.0</td>\n",
       "      <td>0</td>\n",
       "      <td>0</td>\n",
       "      <td>7.9250</td>\n",
       "      <td>0</td>\n",
       "      <td>0</td>\n",
       "      <td>1</td>\n",
       "    </tr>\n",
       "    <tr>\n",
       "      <th>3</th>\n",
       "      <td>4</td>\n",
       "      <td>1</td>\n",
       "      <td>1</td>\n",
       "      <td>35.0</td>\n",
       "      <td>1</td>\n",
       "      <td>0</td>\n",
       "      <td>53.1000</td>\n",
       "      <td>0</td>\n",
       "      <td>0</td>\n",
       "      <td>1</td>\n",
       "    </tr>\n",
       "    <tr>\n",
       "      <th>4</th>\n",
       "      <td>5</td>\n",
       "      <td>0</td>\n",
       "      <td>3</td>\n",
       "      <td>35.0</td>\n",
       "      <td>0</td>\n",
       "      <td>0</td>\n",
       "      <td>8.0500</td>\n",
       "      <td>1</td>\n",
       "      <td>0</td>\n",
       "      <td>1</td>\n",
       "    </tr>\n",
       "  </tbody>\n",
       "</table>\n",
       "</div>"
      ],
      "text/plain": [
       "   PassengerId  Survived  Pclass   Age  SibSp  Parch     Fare  male  C  S\n",
       "0            1         0       3  22.0      1      0   7.2500     1  0  1\n",
       "1            2         1       1  38.0      1      0  71.2833     0  1  0\n",
       "2            3         1       3  26.0      0      0   7.9250     0  0  1\n",
       "3            4         1       1  35.0      1      0  53.1000     0  0  1\n",
       "4            5         0       3  35.0      0      0   8.0500     1  0  1"
      ]
     },
     "execution_count": 21,
     "metadata": {},
     "output_type": "execute_result"
    }
   ],
   "source": [
    "drop_columns(df)\n",
    "df.head()"
   ]
  },
  {
   "cell_type": "markdown",
   "id": "a6fe6ec3",
   "metadata": {
    "papermill": {
     "duration": 0.018303,
     "end_time": "2022-07-29T11:05:47.886497",
     "exception": false,
     "start_time": "2022-07-29T11:05:47.868194",
     "status": "completed"
    },
    "tags": []
   },
   "source": [
    "**Now our dataset is looking good. Let's apply a scaller for Age and Fare data columns**"
   ]
  },
  {
   "cell_type": "markdown",
   "id": "0b9b51a1",
   "metadata": {
    "papermill": {
     "duration": 0.018291,
     "end_time": "2022-07-29T11:05:47.923387",
     "exception": false,
     "start_time": "2022-07-29T11:05:47.905096",
     "status": "completed"
    },
    "tags": []
   },
   "source": [
    "I  use StandardScaller"
   ]
  },
  {
   "cell_type": "code",
   "execution_count": 22,
   "id": "85c56ba9",
   "metadata": {
    "execution": {
     "iopub.execute_input": "2022-07-29T11:05:47.963297Z",
     "iopub.status.busy": "2022-07-29T11:05:47.962868Z",
     "iopub.status.idle": "2022-07-29T11:05:47.967752Z",
     "shell.execute_reply": "2022-07-29T11:05:47.966940Z"
    },
    "papermill": {
     "duration": 0.027301,
     "end_time": "2022-07-29T11:05:47.969845",
     "exception": false,
     "start_time": "2022-07-29T11:05:47.942544",
     "status": "completed"
    },
    "tags": []
   },
   "outputs": [],
   "source": [
    "def scale_data(df):\n",
    "    scaler = StandardScaler()\n",
    "    df[['Age','Fare']] = scaler.fit_transform(df[['Age','Fare']])\n",
    "    df.head()\n",
    "    return df"
   ]
  },
  {
   "cell_type": "code",
   "execution_count": 23,
   "id": "7b50d29a",
   "metadata": {
    "execution": {
     "iopub.execute_input": "2022-07-29T11:05:48.009447Z",
     "iopub.status.busy": "2022-07-29T11:05:48.008833Z",
     "iopub.status.idle": "2022-07-29T11:05:48.025461Z",
     "shell.execute_reply": "2022-07-29T11:05:48.024643Z"
    },
    "papermill": {
     "duration": 0.039316,
     "end_time": "2022-07-29T11:05:48.027763",
     "exception": false,
     "start_time": "2022-07-29T11:05:47.988447",
     "status": "completed"
    },
    "tags": []
   },
   "outputs": [
    {
     "data": {
      "text/html": [
       "<div>\n",
       "<style scoped>\n",
       "    .dataframe tbody tr th:only-of-type {\n",
       "        vertical-align: middle;\n",
       "    }\n",
       "\n",
       "    .dataframe tbody tr th {\n",
       "        vertical-align: top;\n",
       "    }\n",
       "\n",
       "    .dataframe thead th {\n",
       "        text-align: right;\n",
       "    }\n",
       "</style>\n",
       "<table border=\"1\" class=\"dataframe\">\n",
       "  <thead>\n",
       "    <tr style=\"text-align: right;\">\n",
       "      <th></th>\n",
       "      <th>PassengerId</th>\n",
       "      <th>Survived</th>\n",
       "      <th>Pclass</th>\n",
       "      <th>Age</th>\n",
       "      <th>SibSp</th>\n",
       "      <th>Parch</th>\n",
       "      <th>Fare</th>\n",
       "      <th>male</th>\n",
       "      <th>C</th>\n",
       "      <th>S</th>\n",
       "    </tr>\n",
       "  </thead>\n",
       "  <tbody>\n",
       "    <tr>\n",
       "      <th>0</th>\n",
       "      <td>1</td>\n",
       "      <td>0</td>\n",
       "      <td>3</td>\n",
       "      <td>-0.526265</td>\n",
       "      <td>1</td>\n",
       "      <td>0</td>\n",
       "      <td>-0.627673</td>\n",
       "      <td>1</td>\n",
       "      <td>0</td>\n",
       "      <td>1</td>\n",
       "    </tr>\n",
       "    <tr>\n",
       "      <th>1</th>\n",
       "      <td>2</td>\n",
       "      <td>1</td>\n",
       "      <td>1</td>\n",
       "      <td>0.578072</td>\n",
       "      <td>1</td>\n",
       "      <td>0</td>\n",
       "      <td>1.153587</td>\n",
       "      <td>0</td>\n",
       "      <td>1</td>\n",
       "      <td>0</td>\n",
       "    </tr>\n",
       "    <tr>\n",
       "      <th>2</th>\n",
       "      <td>3</td>\n",
       "      <td>1</td>\n",
       "      <td>3</td>\n",
       "      <td>-0.250181</td>\n",
       "      <td>0</td>\n",
       "      <td>0</td>\n",
       "      <td>-0.608896</td>\n",
       "      <td>0</td>\n",
       "      <td>0</td>\n",
       "      <td>1</td>\n",
       "    </tr>\n",
       "    <tr>\n",
       "      <th>3</th>\n",
       "      <td>4</td>\n",
       "      <td>1</td>\n",
       "      <td>1</td>\n",
       "      <td>0.371009</td>\n",
       "      <td>1</td>\n",
       "      <td>0</td>\n",
       "      <td>0.647769</td>\n",
       "      <td>0</td>\n",
       "      <td>0</td>\n",
       "      <td>1</td>\n",
       "    </tr>\n",
       "    <tr>\n",
       "      <th>4</th>\n",
       "      <td>5</td>\n",
       "      <td>0</td>\n",
       "      <td>3</td>\n",
       "      <td>0.371009</td>\n",
       "      <td>0</td>\n",
       "      <td>0</td>\n",
       "      <td>-0.605419</td>\n",
       "      <td>1</td>\n",
       "      <td>0</td>\n",
       "      <td>1</td>\n",
       "    </tr>\n",
       "  </tbody>\n",
       "</table>\n",
       "</div>"
      ],
      "text/plain": [
       "   PassengerId  Survived  Pclass       Age  SibSp  Parch      Fare  male  C  S\n",
       "0            1         0       3 -0.526265      1      0 -0.627673     1  0  1\n",
       "1            2         1       1  0.578072      1      0  1.153587     0  1  0\n",
       "2            3         1       3 -0.250181      0      0 -0.608896     0  0  1\n",
       "3            4         1       1  0.371009      1      0  0.647769     0  0  1\n",
       "4            5         0       3  0.371009      0      0 -0.605419     1  0  1"
      ]
     },
     "execution_count": 23,
     "metadata": {},
     "output_type": "execute_result"
    }
   ],
   "source": [
    "scale_data(df)\n",
    "df.head()"
   ]
  },
  {
   "cell_type": "markdown",
   "id": "c9125b39",
   "metadata": {
    "papermill": {
     "duration": 0.018599,
     "end_time": "2022-07-29T11:05:48.065213",
     "exception": false,
     "start_time": "2022-07-29T11:05:48.046614",
     "status": "completed"
    },
    "tags": []
   },
   "source": [
    "# Model Training "
   ]
  },
  {
   "cell_type": "markdown",
   "id": "9b3d06bf",
   "metadata": {
    "papermill": {
     "duration": 0.019241,
     "end_time": "2022-07-29T11:05:48.103899",
     "exception": false,
     "start_time": "2022-07-29T11:05:48.084658",
     "status": "completed"
    },
    "tags": []
   },
   "source": [
    "**Now we can take this data to train our model**"
   ]
  },
  {
   "cell_type": "markdown",
   "id": "f22ab2b3",
   "metadata": {
    "papermill": {
     "duration": 0.018407,
     "end_time": "2022-07-29T11:05:48.141180",
     "exception": false,
     "start_time": "2022-07-29T11:05:48.122773",
     "status": "completed"
    },
    "tags": []
   },
   "source": [
    "**Split data into x train and y train**"
   ]
  },
  {
   "cell_type": "code",
   "execution_count": 24,
   "id": "dfb4bebd",
   "metadata": {
    "execution": {
     "iopub.execute_input": "2022-07-29T11:05:48.180110Z",
     "iopub.status.busy": "2022-07-29T11:05:48.179669Z",
     "iopub.status.idle": "2022-07-29T11:05:48.187605Z",
     "shell.execute_reply": "2022-07-29T11:05:48.186767Z"
    },
    "papermill": {
     "duration": 0.029967,
     "end_time": "2022-07-29T11:05:48.189647",
     "exception": false,
     "start_time": "2022-07-29T11:05:48.159680",
     "status": "completed"
    },
    "tags": []
   },
   "outputs": [
    {
     "data": {
      "text/plain": [
       "((687, 8), (687,))"
      ]
     },
     "execution_count": 24,
     "metadata": {},
     "output_type": "execute_result"
    }
   ],
   "source": [
    "X_train, y_train = df.drop(['Survived','PassengerId'],axis='columns'),df['Survived']\n",
    "X_train.shape, y_train.shape"
   ]
  },
  {
   "cell_type": "markdown",
   "id": "81e06c15",
   "metadata": {
    "papermill": {
     "duration": 0.018463,
     "end_time": "2022-07-29T11:05:48.226927",
     "exception": false,
     "start_time": "2022-07-29T11:05:48.208464",
     "status": "completed"
    },
    "tags": []
   },
   "source": [
    "**Then load test data and apply that previous data cleaning and scalling functions**"
   ]
  },
  {
   "cell_type": "code",
   "execution_count": 25,
   "id": "95e532f7",
   "metadata": {
    "execution": {
     "iopub.execute_input": "2022-07-29T11:05:48.266479Z",
     "iopub.status.busy": "2022-07-29T11:05:48.265808Z",
     "iopub.status.idle": "2022-07-29T11:05:48.305231Z",
     "shell.execute_reply": "2022-07-29T11:05:48.304002Z"
    },
    "papermill": {
     "duration": 0.062094,
     "end_time": "2022-07-29T11:05:48.307704",
     "exception": false,
     "start_time": "2022-07-29T11:05:48.245610",
     "status": "completed"
    },
    "tags": []
   },
   "outputs": [
    {
     "data": {
      "text/html": [
       "<div>\n",
       "<style scoped>\n",
       "    .dataframe tbody tr th:only-of-type {\n",
       "        vertical-align: middle;\n",
       "    }\n",
       "\n",
       "    .dataframe tbody tr th {\n",
       "        vertical-align: top;\n",
       "    }\n",
       "\n",
       "    .dataframe thead th {\n",
       "        text-align: right;\n",
       "    }\n",
       "</style>\n",
       "<table border=\"1\" class=\"dataframe\">\n",
       "  <thead>\n",
       "    <tr style=\"text-align: right;\">\n",
       "      <th></th>\n",
       "      <th>PassengerId</th>\n",
       "      <th>Pclass</th>\n",
       "      <th>Age</th>\n",
       "      <th>SibSp</th>\n",
       "      <th>Parch</th>\n",
       "      <th>Fare</th>\n",
       "      <th>male</th>\n",
       "      <th>C</th>\n",
       "      <th>S</th>\n",
       "    </tr>\n",
       "  </thead>\n",
       "  <tbody>\n",
       "    <tr>\n",
       "      <th>0</th>\n",
       "      <td>892</td>\n",
       "      <td>3</td>\n",
       "      <td>0.334993</td>\n",
       "      <td>0</td>\n",
       "      <td>0</td>\n",
       "      <td>-0.498407</td>\n",
       "      <td>1</td>\n",
       "      <td>0</td>\n",
       "      <td>0</td>\n",
       "    </tr>\n",
       "    <tr>\n",
       "      <th>1</th>\n",
       "      <td>893</td>\n",
       "      <td>3</td>\n",
       "      <td>1.325530</td>\n",
       "      <td>1</td>\n",
       "      <td>0</td>\n",
       "      <td>-0.513274</td>\n",
       "      <td>0</td>\n",
       "      <td>0</td>\n",
       "      <td>1</td>\n",
       "    </tr>\n",
       "    <tr>\n",
       "      <th>2</th>\n",
       "      <td>894</td>\n",
       "      <td>2</td>\n",
       "      <td>2.514175</td>\n",
       "      <td>0</td>\n",
       "      <td>0</td>\n",
       "      <td>-0.465088</td>\n",
       "      <td>1</td>\n",
       "      <td>0</td>\n",
       "      <td>0</td>\n",
       "    </tr>\n",
       "    <tr>\n",
       "      <th>3</th>\n",
       "      <td>895</td>\n",
       "      <td>3</td>\n",
       "      <td>-0.259330</td>\n",
       "      <td>0</td>\n",
       "      <td>0</td>\n",
       "      <td>-0.483466</td>\n",
       "      <td>1</td>\n",
       "      <td>0</td>\n",
       "      <td>1</td>\n",
       "    </tr>\n",
       "    <tr>\n",
       "      <th>4</th>\n",
       "      <td>896</td>\n",
       "      <td>3</td>\n",
       "      <td>-0.655545</td>\n",
       "      <td>1</td>\n",
       "      <td>1</td>\n",
       "      <td>-0.418471</td>\n",
       "      <td>0</td>\n",
       "      <td>0</td>\n",
       "      <td>1</td>\n",
       "    </tr>\n",
       "  </tbody>\n",
       "</table>\n",
       "</div>"
      ],
      "text/plain": [
       "   PassengerId  Pclass       Age  SibSp  Parch      Fare  male  C  S\n",
       "0          892       3  0.334993      0      0 -0.498407     1  0  0\n",
       "1          893       3  1.325530      1      0 -0.513274     0  0  1\n",
       "2          894       2  2.514175      0      0 -0.465088     1  0  0\n",
       "3          895       3 -0.259330      0      0 -0.483466     1  0  1\n",
       "4          896       3 -0.655545      1      1 -0.418471     0  0  1"
      ]
     },
     "execution_count": 25,
     "metadata": {},
     "output_type": "execute_result"
    }
   ],
   "source": [
    "test_data = pd.read_csv('test.csv')\n",
    "fix_nan_values(test_data)\n",
    "test_data = apply_dummies(test_data)\n",
    "drop_columns(test_data)\n",
    "scale_data(test_data)\n",
    "test_data.head()\n"
   ]
  },
  {
   "cell_type": "code",
   "execution_count": 26,
   "id": "5b34b253",
   "metadata": {
    "execution": {
     "iopub.execute_input": "2022-07-29T11:05:48.348688Z",
     "iopub.status.busy": "2022-07-29T11:05:48.347867Z",
     "iopub.status.idle": "2022-07-29T11:05:48.362784Z",
     "shell.execute_reply": "2022-07-29T11:05:48.361568Z"
    },
    "papermill": {
     "duration": 0.038115,
     "end_time": "2022-07-29T11:05:48.365175",
     "exception": false,
     "start_time": "2022-07-29T11:05:48.327060",
     "status": "completed"
    },
    "tags": []
   },
   "outputs": [
    {
     "data": {
      "text/html": [
       "<div>\n",
       "<style scoped>\n",
       "    .dataframe tbody tr th:only-of-type {\n",
       "        vertical-align: middle;\n",
       "    }\n",
       "\n",
       "    .dataframe tbody tr th {\n",
       "        vertical-align: top;\n",
       "    }\n",
       "\n",
       "    .dataframe thead th {\n",
       "        text-align: right;\n",
       "    }\n",
       "</style>\n",
       "<table border=\"1\" class=\"dataframe\">\n",
       "  <thead>\n",
       "    <tr style=\"text-align: right;\">\n",
       "      <th></th>\n",
       "      <th>Pclass</th>\n",
       "      <th>Age</th>\n",
       "      <th>SibSp</th>\n",
       "      <th>Parch</th>\n",
       "      <th>Fare</th>\n",
       "      <th>male</th>\n",
       "      <th>C</th>\n",
       "      <th>S</th>\n",
       "    </tr>\n",
       "  </thead>\n",
       "  <tbody>\n",
       "    <tr>\n",
       "      <th>0</th>\n",
       "      <td>3</td>\n",
       "      <td>0.334993</td>\n",
       "      <td>0</td>\n",
       "      <td>0</td>\n",
       "      <td>-0.498407</td>\n",
       "      <td>1</td>\n",
       "      <td>0</td>\n",
       "      <td>0</td>\n",
       "    </tr>\n",
       "    <tr>\n",
       "      <th>1</th>\n",
       "      <td>3</td>\n",
       "      <td>1.325530</td>\n",
       "      <td>1</td>\n",
       "      <td>0</td>\n",
       "      <td>-0.513274</td>\n",
       "      <td>0</td>\n",
       "      <td>0</td>\n",
       "      <td>1</td>\n",
       "    </tr>\n",
       "    <tr>\n",
       "      <th>2</th>\n",
       "      <td>2</td>\n",
       "      <td>2.514175</td>\n",
       "      <td>0</td>\n",
       "      <td>0</td>\n",
       "      <td>-0.465088</td>\n",
       "      <td>1</td>\n",
       "      <td>0</td>\n",
       "      <td>0</td>\n",
       "    </tr>\n",
       "    <tr>\n",
       "      <th>3</th>\n",
       "      <td>3</td>\n",
       "      <td>-0.259330</td>\n",
       "      <td>0</td>\n",
       "      <td>0</td>\n",
       "      <td>-0.483466</td>\n",
       "      <td>1</td>\n",
       "      <td>0</td>\n",
       "      <td>1</td>\n",
       "    </tr>\n",
       "    <tr>\n",
       "      <th>4</th>\n",
       "      <td>3</td>\n",
       "      <td>-0.655545</td>\n",
       "      <td>1</td>\n",
       "      <td>1</td>\n",
       "      <td>-0.418471</td>\n",
       "      <td>0</td>\n",
       "      <td>0</td>\n",
       "      <td>1</td>\n",
       "    </tr>\n",
       "  </tbody>\n",
       "</table>\n",
       "</div>"
      ],
      "text/plain": [
       "   Pclass       Age  SibSp  Parch      Fare  male  C  S\n",
       "0       3  0.334993      0      0 -0.498407     1  0  0\n",
       "1       3  1.325530      1      0 -0.513274     0  0  1\n",
       "2       2  2.514175      0      0 -0.465088     1  0  0\n",
       "3       3 -0.259330      0      0 -0.483466     1  0  1\n",
       "4       3 -0.655545      1      1 -0.418471     0  0  1"
      ]
     },
     "execution_count": 26,
     "metadata": {},
     "output_type": "execute_result"
    }
   ],
   "source": [
    "X_test = test_data.drop('PassengerId',axis='columns')\n",
    "X_test.head()"
   ]
  },
  {
   "cell_type": "markdown",
   "id": "4c218cd7",
   "metadata": {
    "papermill": {
     "duration": 0.019383,
     "end_time": "2022-07-29T11:05:48.403860",
     "exception": false,
     "start_time": "2022-07-29T11:05:48.384477",
     "status": "completed"
    },
    "tags": []
   },
   "source": [
    "**Lets look how many entries with train and test data**"
   ]
  },
  {
   "cell_type": "code",
   "execution_count": 27,
   "id": "95bfc875",
   "metadata": {
    "execution": {
     "iopub.execute_input": "2022-07-29T11:05:48.445792Z",
     "iopub.status.busy": "2022-07-29T11:05:48.444971Z",
     "iopub.status.idle": "2022-07-29T11:05:48.453045Z",
     "shell.execute_reply": "2022-07-29T11:05:48.452181Z"
    },
    "papermill": {
     "duration": 0.030884,
     "end_time": "2022-07-29T11:05:48.455257",
     "exception": false,
     "start_time": "2022-07-29T11:05:48.424373",
     "status": "completed"
    },
    "tags": []
   },
   "outputs": [
    {
     "data": {
      "text/plain": [
       "((687, 8), (418, 8), (687,))"
      ]
     },
     "execution_count": 27,
     "metadata": {},
     "output_type": "execute_result"
    }
   ],
   "source": [
    "X_train.shape, X_test.shape, y_train.shape"
   ]
  },
  {
   "cell_type": "markdown",
   "id": "f54604d0",
   "metadata": {
    "papermill": {
     "duration": 0.018895,
     "end_time": "2022-07-29T11:05:48.493667",
     "exception": false,
     "start_time": "2022-07-29T11:05:48.474772",
     "status": "completed"
    },
    "tags": []
   },
   "source": [
    "**Lets try to train different models and look their avg scores.**"
   ]
  },
  {
   "cell_type": "code",
   "execution_count": 28,
   "id": "16960e35",
   "metadata": {
    "execution": {
     "iopub.execute_input": "2022-07-29T11:05:48.534174Z",
     "iopub.status.busy": "2022-07-29T11:05:48.533377Z",
     "iopub.status.idle": "2022-07-29T11:05:48.566570Z",
     "shell.execute_reply": "2022-07-29T11:05:48.565102Z"
    },
    "papermill": {
     "duration": 0.056971,
     "end_time": "2022-07-29T11:05:48.569861",
     "exception": false,
     "start_time": "2022-07-29T11:05:48.512890",
     "status": "completed"
    },
    "tags": []
   },
   "outputs": [
    {
     "name": "stdout",
     "output_type": "stream",
     "text": [
      "0.7773405268168835\n"
     ]
    }
   ],
   "source": [
    "m_gnb = GaussianNB()\n",
    "score = cross_val_score(m_gnb,X_train,y_train,cv=5)\n",
    "print(score.mean())"
   ]
  },
  {
   "cell_type": "code",
   "execution_count": 29,
   "id": "fee9a47c",
   "metadata": {
    "execution": {
     "iopub.execute_input": "2022-07-29T11:05:48.612776Z",
     "iopub.status.busy": "2022-07-29T11:05:48.611863Z",
     "iopub.status.idle": "2022-07-29T11:05:48.684267Z",
     "shell.execute_reply": "2022-07-29T11:05:48.682243Z"
    },
    "papermill": {
     "duration": 0.097038,
     "end_time": "2022-07-29T11:05:48.687369",
     "exception": false,
     "start_time": "2022-07-29T11:05:48.590331",
     "status": "completed"
    },
    "tags": []
   },
   "outputs": [
    {
     "name": "stdout",
     "output_type": "stream",
     "text": [
      "0.7874537183962763\n"
     ]
    }
   ],
   "source": [
    "m_lr = LogisticRegression()\n",
    "score = cross_val_score(m_lr,X_train,y_train,cv=5)\n",
    "print(score.mean())"
   ]
  },
  {
   "cell_type": "code",
   "execution_count": 30,
   "id": "00168e0e",
   "metadata": {
    "execution": {
     "iopub.execute_input": "2022-07-29T11:05:48.728854Z",
     "iopub.status.busy": "2022-07-29T11:05:48.728422Z",
     "iopub.status.idle": "2022-07-29T11:05:49.654480Z",
     "shell.execute_reply": "2022-07-29T11:05:49.652897Z"
    },
    "papermill": {
     "duration": 0.950231,
     "end_time": "2022-07-29T11:05:49.657813",
     "exception": false,
     "start_time": "2022-07-29T11:05:48.707582",
     "status": "completed"
    },
    "tags": []
   },
   "outputs": [
    {
     "name": "stdout",
     "output_type": "stream",
     "text": [
      "0.778768644874643\n"
     ]
    }
   ],
   "source": [
    "m_rfc = RandomForestClassifier()\n",
    "score = cross_val_score(m_rfc,X_train,y_train,cv=5)\n",
    "print(score.mean())"
   ]
  },
  {
   "cell_type": "code",
   "execution_count": 31,
   "id": "f911d830",
   "metadata": {
    "execution": {
     "iopub.execute_input": "2022-07-29T11:05:49.699746Z",
     "iopub.status.busy": "2022-07-29T11:05:49.699349Z",
     "iopub.status.idle": "2022-07-29T11:05:49.739383Z",
     "shell.execute_reply": "2022-07-29T11:05:49.736996Z"
    },
    "papermill": {
     "duration": 0.064917,
     "end_time": "2022-07-29T11:05:49.743292",
     "exception": false,
     "start_time": "2022-07-29T11:05:49.678375",
     "status": "completed"
    },
    "tags": []
   },
   "outputs": [
    {
     "name": "stdout",
     "output_type": "stream",
     "text": [
      "0.7540357558447054\n"
     ]
    }
   ],
   "source": [
    "m_dt = DecisionTreeClassifier()\n",
    "score = cross_val_score(m_dt,X_train,y_train,cv=5)\n",
    "print(score.mean())"
   ]
  },
  {
   "cell_type": "code",
   "execution_count": 32,
   "id": "d5b131a8",
   "metadata": {
    "execution": {
     "iopub.execute_input": "2022-07-29T11:05:49.785900Z",
     "iopub.status.busy": "2022-07-29T11:05:49.784647Z",
     "iopub.status.idle": "2022-07-29T11:05:49.881856Z",
     "shell.execute_reply": "2022-07-29T11:05:49.880521Z"
    },
    "papermill": {
     "duration": 0.120942,
     "end_time": "2022-07-29T11:05:49.884762",
     "exception": false,
     "start_time": "2022-07-29T11:05:49.763820",
     "status": "completed"
    },
    "tags": []
   },
   "outputs": [
    {
     "name": "stdout",
     "output_type": "stream",
     "text": [
      "0.8093197926584154\n"
     ]
    }
   ],
   "source": [
    "m_svc = SVC()\n",
    "score = cross_val_score(m_svc,X_train,y_train,cv=5)\n",
    "print(score.mean())"
   ]
  },
  {
   "cell_type": "code",
   "execution_count": 33,
   "id": "7e4b1450",
   "metadata": {
    "execution": {
     "iopub.execute_input": "2022-07-29T11:05:49.927582Z",
     "iopub.status.busy": "2022-07-29T11:05:49.926391Z",
     "iopub.status.idle": "2022-07-29T11:05:49.988401Z",
     "shell.execute_reply": "2022-07-29T11:05:49.987487Z"
    },
    "papermill": {
     "duration": 0.085635,
     "end_time": "2022-07-29T11:05:49.991034",
     "exception": false,
     "start_time": "2022-07-29T11:05:49.905399",
     "status": "completed"
    },
    "tags": []
   },
   "outputs": [
    {
     "name": "stdout",
     "output_type": "stream",
     "text": [
      "0.7948376176875067\n"
     ]
    }
   ],
   "source": [
    "m_knc = KNeighborsClassifier()\n",
    "score = cross_val_score(m_knc,X_train,y_train,cv=5)\n",
    "print(score.mean())"
   ]
  },
  {
   "cell_type": "markdown",
   "id": "96cba1b0",
   "metadata": {
    "papermill": {
     "duration": 0.01945,
     "end_time": "2022-07-29T11:05:50.031174",
     "exception": false,
     "start_time": "2022-07-29T11:05:50.011724",
     "status": "completed"
    },
    "tags": []
   },
   "source": [
    "## Hyper Parameter Tuning"
   ]
  },
  {
   "cell_type": "markdown",
   "id": "194367ec",
   "metadata": {
    "papermill": {
     "duration": 0.019636,
     "end_time": "2022-07-29T11:05:50.070522",
     "exception": false,
     "start_time": "2022-07-29T11:05:50.050886",
     "status": "completed"
    },
    "tags": []
   },
   "source": [
    "**Lets try different parameters in different models**"
   ]
  },
  {
   "cell_type": "code",
   "execution_count": 34,
   "id": "f881aed7",
   "metadata": {
    "execution": {
     "iopub.execute_input": "2022-07-29T11:05:50.113240Z",
     "iopub.status.busy": "2022-07-29T11:05:50.112378Z",
     "iopub.status.idle": "2022-07-29T11:05:50.121002Z",
     "shell.execute_reply": "2022-07-29T11:05:50.120082Z"
    },
    "papermill": {
     "duration": 0.032938,
     "end_time": "2022-07-29T11:05:50.123271",
     "exception": false,
     "start_time": "2022-07-29T11:05:50.090333",
     "status": "completed"
    },
    "tags": []
   },
   "outputs": [],
   "source": [
    "model_param = {\n",
    "    'svc': {\n",
    "        'model': SVC(gamma='auto'),\n",
    "        'params' : {\n",
    "            'C': [1,10,20],\n",
    "            'kernel': ['rbf','linear']\n",
    "        }  \n",
    "    },\n",
    "    'random_forest': {\n",
    "        'model': RandomForestClassifier(),\n",
    "        'params' : {\n",
    "            'n_estimators': [1,5,10],\n",
    "            'criterion':['gini','entropy']\n",
    "        }\n",
    "    },\n",
    "    'logistic_regression' : {\n",
    "        'model': LogisticRegression(solver='liblinear',multi_class='auto'),\n",
    "        'params': {\n",
    "            'C': [1,5,10]\n",
    "        }\n",
    "    },\n",
    "    'gaussian' :{\n",
    "        'model' : GaussianNB(),\n",
    "        'params' : {\n",
    "            \n",
    "        }\n",
    "    },\n",
    "    'kneighbors' : {\n",
    "        'model' : KNeighborsClassifier(),\n",
    "        'params' : {\n",
    "            'n_neighbors' : [3,5,7,9],\n",
    "            'weights' : ['uniform', 'distance'],\n",
    "            'algorithm' : ['auto', 'ball_tree','kd_tree']\n",
    "        }\n",
    "    },\n",
    "    'tree' : {\n",
    "        'model' : DecisionTreeClassifier(),\n",
    "        'params' : {\n",
    "            'criterion': ['gini','entropy'],\n",
    "        }\n",
    "    }\n",
    "}"
   ]
  },
  {
   "cell_type": "code",
   "execution_count": 35,
   "id": "151a0413",
   "metadata": {
    "execution": {
     "iopub.execute_input": "2022-07-29T11:05:50.165594Z",
     "iopub.status.busy": "2022-07-29T11:05:50.164602Z",
     "iopub.status.idle": "2022-07-29T11:05:51.640941Z",
     "shell.execute_reply": "2022-07-29T11:05:51.639798Z"
    },
    "papermill": {
     "duration": 1.500147,
     "end_time": "2022-07-29T11:05:51.643495",
     "exception": false,
     "start_time": "2022-07-29T11:05:50.143348",
     "status": "completed"
    },
    "tags": []
   },
   "outputs": [
    {
     "data": {
      "text/html": [
       "<div>\n",
       "<style scoped>\n",
       "    .dataframe tbody tr th:only-of-type {\n",
       "        vertical-align: middle;\n",
       "    }\n",
       "\n",
       "    .dataframe tbody tr th {\n",
       "        vertical-align: top;\n",
       "    }\n",
       "\n",
       "    .dataframe thead th {\n",
       "        text-align: right;\n",
       "    }\n",
       "</style>\n",
       "<table border=\"1\" class=\"dataframe\">\n",
       "  <thead>\n",
       "    <tr style=\"text-align: right;\">\n",
       "      <th></th>\n",
       "      <th>model</th>\n",
       "      <th>best_score</th>\n",
       "      <th>best_params</th>\n",
       "    </tr>\n",
       "  </thead>\n",
       "  <tbody>\n",
       "    <tr>\n",
       "      <th>0</th>\n",
       "      <td>svc</td>\n",
       "      <td>0.810771</td>\n",
       "      <td>{'C': 1, 'kernel': 'rbf'}</td>\n",
       "    </tr>\n",
       "    <tr>\n",
       "      <th>1</th>\n",
       "      <td>random_forest</td>\n",
       "      <td>0.794760</td>\n",
       "      <td>{'criterion': 'gini', 'n_estimators': 10}</td>\n",
       "    </tr>\n",
       "    <tr>\n",
       "      <th>2</th>\n",
       "      <td>logistic_regression</td>\n",
       "      <td>0.784571</td>\n",
       "      <td>{'C': 10}</td>\n",
       "    </tr>\n",
       "    <tr>\n",
       "      <th>3</th>\n",
       "      <td>gaussian</td>\n",
       "      <td>0.777293</td>\n",
       "      <td>{}</td>\n",
       "    </tr>\n",
       "    <tr>\n",
       "      <th>4</th>\n",
       "      <td>kneighbors</td>\n",
       "      <td>0.788937</td>\n",
       "      <td>{'algorithm': 'auto', 'n_neighbors': 9, 'weigh...</td>\n",
       "    </tr>\n",
       "    <tr>\n",
       "      <th>5</th>\n",
       "      <td>tree</td>\n",
       "      <td>0.764192</td>\n",
       "      <td>{'criterion': 'gini'}</td>\n",
       "    </tr>\n",
       "  </tbody>\n",
       "</table>\n",
       "</div>"
      ],
      "text/plain": [
       "                 model  best_score  \\\n",
       "0                  svc    0.810771   \n",
       "1        random_forest    0.794760   \n",
       "2  logistic_regression    0.784571   \n",
       "3             gaussian    0.777293   \n",
       "4           kneighbors    0.788937   \n",
       "5                 tree    0.764192   \n",
       "\n",
       "                                         best_params  \n",
       "0                          {'C': 1, 'kernel': 'rbf'}  \n",
       "1          {'criterion': 'gini', 'n_estimators': 10}  \n",
       "2                                          {'C': 10}  \n",
       "3                                                 {}  \n",
       "4  {'algorithm': 'auto', 'n_neighbors': 9, 'weigh...  \n",
       "5                              {'criterion': 'gini'}  "
      ]
     },
     "execution_count": 35,
     "metadata": {},
     "output_type": "execute_result"
    }
   ],
   "source": [
    "scores = []\n",
    "for model_name, mp in model_param.items():\n",
    "  clf = GridSearchCV(mp['model'],mp['params'],cv=3,return_train_score=False)\n",
    "  clf.fit(X_train,y_train)\n",
    "  scores.append({\n",
    "      'model' : model_name,\n",
    "      'best_score' : clf.best_score_,\n",
    "      'best_params' : clf.best_params_\n",
    "  })\n",
    "best_sc = pd.DataFrame(scores,columns=['model','best_score','best_params'])\n",
    "best_sc"
   ]
  },
  {
   "cell_type": "markdown",
   "id": "8335580d",
   "metadata": {
    "papermill": {
     "duration": 0.019586,
     "end_time": "2022-07-29T11:05:51.683832",
     "exception": false,
     "start_time": "2022-07-29T11:05:51.664246",
     "status": "completed"
    },
    "tags": []
   },
   "source": [
    "**So SVC model score is looking good. 81% accuracy with training samples**"
   ]
  },
  {
   "cell_type": "markdown",
   "id": "1e58d7df",
   "metadata": {
    "papermill": {
     "duration": 0.019651,
     "end_time": "2022-07-29T11:05:51.723482",
     "exception": false,
     "start_time": "2022-07-29T11:05:51.703831",
     "status": "completed"
    },
    "tags": []
   },
   "source": [
    "**Lets try svc model with our test data**"
   ]
  },
  {
   "cell_type": "code",
   "execution_count": 36,
   "id": "6d9830b8",
   "metadata": {
    "execution": {
     "iopub.execute_input": "2022-07-29T11:05:51.764969Z",
     "iopub.status.busy": "2022-07-29T11:05:51.764566Z",
     "iopub.status.idle": "2022-07-29T11:05:51.798481Z",
     "shell.execute_reply": "2022-07-29T11:05:51.797413Z"
    },
    "papermill": {
     "duration": 0.057421,
     "end_time": "2022-07-29T11:05:51.800827",
     "exception": false,
     "start_time": "2022-07-29T11:05:51.743406",
     "status": "completed"
    },
    "tags": []
   },
   "outputs": [],
   "source": [
    "model = SVC(C=1,kernel='rbf')\n",
    "model.fit(X_train,y_train)\n",
    "result = model.predict(X_test)\n",
    "submission = pd.DataFrame({\n",
    "    \"PassengerId\" : test_data.PassengerId,\n",
    "    \"Survived\" : result\n",
    "})"
   ]
  },
  {
   "cell_type": "markdown",
   "id": "bc0cc974",
   "metadata": {
    "papermill": {
     "duration": 0.019518,
     "end_time": "2022-07-29T11:05:51.840261",
     "exception": false,
     "start_time": "2022-07-29T11:05:51.820743",
     "status": "completed"
    },
    "tags": []
   },
   "source": [
    "**convert submission to csv**"
   ]
  },
  {
   "cell_type": "code",
   "execution_count": 37,
   "id": "127939c8",
   "metadata": {
    "execution": {
     "iopub.execute_input": "2022-07-29T11:05:51.882610Z",
     "iopub.status.busy": "2022-07-29T11:05:51.881598Z",
     "iopub.status.idle": "2022-07-29T11:05:51.889958Z",
     "shell.execute_reply": "2022-07-29T11:05:51.889145Z"
    },
    "papermill": {
     "duration": 0.031989,
     "end_time": "2022-07-29T11:05:51.892517",
     "exception": false,
     "start_time": "2022-07-29T11:05:51.860528",
     "status": "completed"
    },
    "tags": []
   },
   "outputs": [],
   "source": [
    "submission.to_csv('submission.csv', index=False)"
   ]
  },
  {
   "cell_type": "code",
   "execution_count": 38,
   "id": "7a5beba8",
   "metadata": {
    "execution": {
     "iopub.execute_input": "2022-07-29T11:05:51.937082Z",
     "iopub.status.busy": "2022-07-29T11:05:51.936294Z",
     "iopub.status.idle": "2022-07-29T11:05:51.946074Z",
     "shell.execute_reply": "2022-07-29T11:05:51.945155Z"
    },
    "papermill": {
     "duration": 0.034872,
     "end_time": "2022-07-29T11:05:51.948705",
     "exception": false,
     "start_time": "2022-07-29T11:05:51.913833",
     "status": "completed"
    },
    "tags": []
   },
   "outputs": [
    {
     "data": {
      "text/html": [
       "<div>\n",
       "<style scoped>\n",
       "    .dataframe tbody tr th:only-of-type {\n",
       "        vertical-align: middle;\n",
       "    }\n",
       "\n",
       "    .dataframe tbody tr th {\n",
       "        vertical-align: top;\n",
       "    }\n",
       "\n",
       "    .dataframe thead th {\n",
       "        text-align: right;\n",
       "    }\n",
       "</style>\n",
       "<table border=\"1\" class=\"dataframe\">\n",
       "  <thead>\n",
       "    <tr style=\"text-align: right;\">\n",
       "      <th></th>\n",
       "      <th>PassengerId</th>\n",
       "      <th>Survived</th>\n",
       "    </tr>\n",
       "  </thead>\n",
       "  <tbody>\n",
       "    <tr>\n",
       "      <th>0</th>\n",
       "      <td>892</td>\n",
       "      <td>0</td>\n",
       "    </tr>\n",
       "    <tr>\n",
       "      <th>1</th>\n",
       "      <td>893</td>\n",
       "      <td>1</td>\n",
       "    </tr>\n",
       "    <tr>\n",
       "      <th>2</th>\n",
       "      <td>894</td>\n",
       "      <td>0</td>\n",
       "    </tr>\n",
       "    <tr>\n",
       "      <th>3</th>\n",
       "      <td>895</td>\n",
       "      <td>0</td>\n",
       "    </tr>\n",
       "    <tr>\n",
       "      <th>4</th>\n",
       "      <td>896</td>\n",
       "      <td>1</td>\n",
       "    </tr>\n",
       "  </tbody>\n",
       "</table>\n",
       "</div>"
      ],
      "text/plain": [
       "   PassengerId  Survived\n",
       "0          892         0\n",
       "1          893         1\n",
       "2          894         0\n",
       "3          895         0\n",
       "4          896         1"
      ]
     },
     "execution_count": 38,
     "metadata": {},
     "output_type": "execute_result"
    }
   ],
   "source": [
    "submission.head()"
   ]
  }
 ],
 "metadata": {
  "kernelspec": {
   "display_name": "Python 3",
   "language": "python",
   "name": "python3"
  },
  "language_info": {
   "codemirror_mode": {
    "name": "ipython",
    "version": 3
   },
   "file_extension": ".py",
   "mimetype": "text/x-python",
   "name": "python",
   "nbconvert_exporter": "python",
   "pygments_lexer": "ipython3",
   "version": "3.7.12"
  },
  "papermill": {
   "default_parameters": {},
   "duration": 29.415545,
   "end_time": "2022-07-29T11:05:52.892000",
   "environment_variables": {},
   "exception": null,
   "input_path": "__notebook__.ipynb",
   "output_path": "__notebook__.ipynb",
   "parameters": {},
   "start_time": "2022-07-29T11:05:23.476455",
   "version": "2.3.4"
  }
 },
 "nbformat": 4,
 "nbformat_minor": 5
}
