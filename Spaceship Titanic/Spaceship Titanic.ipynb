{
 "cells": [
  {
   "cell_type": "markdown",
   "metadata": {},
   "source": [
    "# __Spaceship Titanic__"
   ]
  },
  {
   "cell_type": "markdown",
   "metadata": {},
   "source": [
    "I am not a expert in data science. This is my first try in this competition after lot of researches. There might be some issues. I hope you like this. These all written by myself and please leave a comment.. "
   ]
  },
  {
   "cell_type": "markdown",
   "metadata": {},
   "source": [
    "## __Workflow Stages__"
   ]
  },
  {
   "cell_type": "markdown",
   "metadata": {},
   "source": [
    "1. Problem definition.\n",
    "2. Acquire training and testing data.\n",
    "3. Wrangle, Prepare, Cleanse the data.\n",
    "4. Analyze, identify patterns and explore the data.\n",
    "5. Model, Predict and solve the problem.\n",
    "6. Visualize, report, and present the problem solving steps and final solution.\n",
    "7. Supply or submit the results."
   ]
  },
  {
   "cell_type": "markdown",
   "metadata": {},
   "source": [
    "The workflow indicates general sequence of how each stage may follow the other. However there are use cases with exceptions."
   ]
  },
  {
   "cell_type": "markdown",
   "metadata": {},
   "source": [
    "* We may combine multiple workflow stages. We may analyze by visualizing data.\n",
    "* Perform a stage earlier than indicated. We may analyze data before and after wrangling.\n",
    "* Perform a stage multiple times in our workflow. Visualize stage may be used multiple times.\n",
    "* We may drop a stage altogether"
   ]
  },
  {
   "cell_type": "markdown",
   "metadata": {},
   "source": [
    "## __Problem definition__"
   ]
  },
  {
   "cell_type": "markdown",
   "metadata": {},
   "source": [
    "Predict which passengers are transported to an alternate dimension"
   ]
  },
  {
   "cell_type": "markdown",
   "metadata": {},
   "source": [
    "Welcome to the year 2912, where your data science skills are needed to solve a cosmic mystery. We've received a transmission from four lightyears away and things aren't looking good.\n",
    "\n",
    "The Spaceship Titanic was an interstellar passenger liner launched a month ago. With almost 13,000 passengers on board, the vessel set out on its maiden voyage transporting emigrants from our solar system to three newly habitable exoplanets orbiting nearby stars.\n",
    "\n",
    "While rounding Alpha Centauri en route to its first destination—the torrid 55 Cancri E—the unwary Spaceship Titanic collided with a spacetime anomaly hidden within a dust cloud. Sadly, it met a similar fate as its namesake from 1000 years before. Though the ship stayed intact, almost half of the passengers were transported to an alternate dimension!"
   ]
  },
  {
   "cell_type": "markdown",
   "metadata": {},
   "source": [
    "* To help rescue crews and retrieve the lost passengers, we have to predict which passengers were transported by the anomaly using records recovered from the spaceship’s damaged computer system."
   ]
  },
  {
   "cell_type": "markdown",
   "metadata": {},
   "source": [
    "## __Workflow goals__"
   ]
  },
  {
   "cell_type": "markdown",
   "metadata": {},
   "source": [
    "The datascience solutions workflow solves for seven major goals."
   ]
  },
  {
   "cell_type": "markdown",
   "metadata": {},
   "source": [
    "__Classifing__. We may want to classify or categorize our samples. We may also want to undestand the implications or correlations of different classes with ourr solution goals\n",
    "\n",
    "__Correlation__. One can approach the problem based on available features within the training dataset. Which features within the dataset contribute significantly to our solution goal? Statistically speaking is there a correlation among a feature and solution goal? As the feature values change does the solution state change as well, and visa-versa? This can be tested both for numerical and categorical features in the given dataset. We may also want to determine correlation among features other than survival for subsequent goals and workflow stages. Correlating certain features may help in creating, completing, or correcting features.\n",
    "\n",
    "__Converting__. For modelling stage, one needs to prepare the data. Depending on the choice of model algorithm one may require all feature to be converted to numerical equivalent values. So for instance converting text categorical values to numerical values.\n",
    "\n",
    "__Completing__. Data preparation may also require us to estimate any missing values within a feature. Model algorithm may work best when there are no missing values.\n",
    "\n",
    "__Correcting__. We may also analyze the given training dataset for errors or possibly innacurate values within features and try to corrent these values or exclude the samples containing the errors. One way to do this is to detect any outliers among our samples or features. We may also completely discard a feature if it is not contributing to the analysis or may significantly skew the result.\n",
    "\n",
    "__Creating__. Can we create new feature based on an existing feature or a set of features, such that the new feature follows the correlation, conversion, completeness goals.\n",
    "\n",
    "__Charting__. How to slect the right visualization plots and charts depending on nature of the data and the solution goals."
   ]
  },
  {
   "cell_type": "code",
   "execution_count": 2104,
   "metadata": {},
   "outputs": [],
   "source": [
    "# data analysis and wrangling\n",
    "import pandas as pd\n",
    "import numpy as np\n",
    "import random as rnd\n",
    "\n",
    "# visualization\n",
    "import seaborn as sns\n",
    "import matplotlib.pyplot as plt\n",
    "%matplotlib inline\n",
    "\n",
    "# model training\n",
    "from sklearn.linear_model import LogisticRegression\n",
    "from sklearn.svm import SVC, LinearSVC\n",
    "from sklearn.ensemble import RandomForestClassifier\n",
    "from sklearn.neighbors import KNeighborsClassifier\n",
    "from sklearn.naive_bayes import GaussianNB\n",
    "from sklearn.linear_model import Perceptron\n",
    "from sklearn.linear_model import SGDClassifier\n",
    "from sklearn.tree import DecisionTreeClassifier\n",
    "from sklearn.model_selection import GridSearchCV"
   ]
  },
  {
   "cell_type": "markdown",
   "metadata": {},
   "source": [
    "## __Acquire data__"
   ]
  },
  {
   "cell_type": "markdown",
   "metadata": {},
   "source": [
    "Import train and test data sets using python pandas library and we create a variable called combine with combining train and test data sets together."
   ]
  },
  {
   "cell_type": "code",
   "execution_count": 2105,
   "metadata": {},
   "outputs": [],
   "source": [
    "train_df = pd.read_csv('train.csv')\n",
    "test_df = pd.read_csv('test.csv')\n",
    "combine = [train_df,test_df]"
   ]
  },
  {
   "cell_type": "markdown",
   "metadata": {},
   "source": [
    "## __Analize data by describing__"
   ]
  },
  {
   "cell_type": "markdown",
   "metadata": {},
   "source": [
    "With pandas library we can use it to answer following questions."
   ]
  },
  {
   "cell_type": "markdown",
   "metadata": {},
   "source": [
    "#### __Which features are available in the dataset?__"
   ]
  },
  {
   "cell_type": "code",
   "execution_count": 2106,
   "metadata": {},
   "outputs": [
    {
     "name": "stdout",
     "output_type": "stream",
     "text": [
      "['PassengerId' 'HomePlanet' 'CryoSleep' 'Cabin' 'Destination' 'Age' 'VIP'\n",
      " 'RoomService' 'FoodCourt' 'ShoppingMall' 'Spa' 'VRDeck' 'Name']\n"
     ]
    }
   ],
   "source": [
    "print(test_df.columns.values)"
   ]
  },
  {
   "cell_type": "markdown",
   "metadata": {},
   "source": [
    "#### __Which features are categorical?__"
   ]
  },
  {
   "cell_type": "markdown",
   "metadata": {},
   "source": [
    "THese values classify the samples into sets of similar samples. (nominal, ordinal, ratio, interval based)"
   ]
  },
  {
   "cell_type": "markdown",
   "metadata": {},
   "source": [
    "* Categorical\n",
    "    * HomePlanet\n",
    "    * CryoSleep\n",
    "    * Destination\n",
    "    * VIP\n",
    "    * Transported"
   ]
  },
  {
   "cell_type": "markdown",
   "metadata": {},
   "source": [
    "#### __Which features are numerical?__"
   ]
  },
  {
   "cell_type": "markdown",
   "metadata": {},
   "source": [
    "These values change from sample to sample. (Discrete, Continuous, Timeseries based)"
   ]
  },
  {
   "cell_type": "markdown",
   "metadata": {},
   "source": [
    "* Continuous\n",
    "    * Age\n",
    "    * RoomService\n",
    "    * FoodCourt\n",
    "    * ShoppingMall\n",
    "    * Spa\n",
    "    * VRDeck"
   ]
  },
  {
   "cell_type": "code",
   "execution_count": 2107,
   "metadata": {},
   "outputs": [
    {
     "data": {
      "text/html": [
       "<div>\n",
       "<style scoped>\n",
       "    .dataframe tbody tr th:only-of-type {\n",
       "        vertical-align: middle;\n",
       "    }\n",
       "\n",
       "    .dataframe tbody tr th {\n",
       "        vertical-align: top;\n",
       "    }\n",
       "\n",
       "    .dataframe thead th {\n",
       "        text-align: right;\n",
       "    }\n",
       "</style>\n",
       "<table border=\"1\" class=\"dataframe\">\n",
       "  <thead>\n",
       "    <tr style=\"text-align: right;\">\n",
       "      <th></th>\n",
       "      <th>PassengerId</th>\n",
       "      <th>HomePlanet</th>\n",
       "      <th>CryoSleep</th>\n",
       "      <th>Cabin</th>\n",
       "      <th>Destination</th>\n",
       "      <th>Age</th>\n",
       "      <th>VIP</th>\n",
       "      <th>RoomService</th>\n",
       "      <th>FoodCourt</th>\n",
       "      <th>ShoppingMall</th>\n",
       "      <th>Spa</th>\n",
       "      <th>VRDeck</th>\n",
       "      <th>Name</th>\n",
       "      <th>Transported</th>\n",
       "    </tr>\n",
       "  </thead>\n",
       "  <tbody>\n",
       "    <tr>\n",
       "      <th>0</th>\n",
       "      <td>0001_01</td>\n",
       "      <td>Europa</td>\n",
       "      <td>False</td>\n",
       "      <td>B/0/P</td>\n",
       "      <td>TRAPPIST-1e</td>\n",
       "      <td>39.0</td>\n",
       "      <td>False</td>\n",
       "      <td>0.0</td>\n",
       "      <td>0.0</td>\n",
       "      <td>0.0</td>\n",
       "      <td>0.0</td>\n",
       "      <td>0.0</td>\n",
       "      <td>Maham Ofracculy</td>\n",
       "      <td>False</td>\n",
       "    </tr>\n",
       "    <tr>\n",
       "      <th>1</th>\n",
       "      <td>0002_01</td>\n",
       "      <td>Earth</td>\n",
       "      <td>False</td>\n",
       "      <td>F/0/S</td>\n",
       "      <td>TRAPPIST-1e</td>\n",
       "      <td>24.0</td>\n",
       "      <td>False</td>\n",
       "      <td>109.0</td>\n",
       "      <td>9.0</td>\n",
       "      <td>25.0</td>\n",
       "      <td>549.0</td>\n",
       "      <td>44.0</td>\n",
       "      <td>Juanna Vines</td>\n",
       "      <td>True</td>\n",
       "    </tr>\n",
       "    <tr>\n",
       "      <th>2</th>\n",
       "      <td>0003_01</td>\n",
       "      <td>Europa</td>\n",
       "      <td>False</td>\n",
       "      <td>A/0/S</td>\n",
       "      <td>TRAPPIST-1e</td>\n",
       "      <td>58.0</td>\n",
       "      <td>True</td>\n",
       "      <td>43.0</td>\n",
       "      <td>3576.0</td>\n",
       "      <td>0.0</td>\n",
       "      <td>6715.0</td>\n",
       "      <td>49.0</td>\n",
       "      <td>Altark Susent</td>\n",
       "      <td>False</td>\n",
       "    </tr>\n",
       "    <tr>\n",
       "      <th>3</th>\n",
       "      <td>0003_02</td>\n",
       "      <td>Europa</td>\n",
       "      <td>False</td>\n",
       "      <td>A/0/S</td>\n",
       "      <td>TRAPPIST-1e</td>\n",
       "      <td>33.0</td>\n",
       "      <td>False</td>\n",
       "      <td>0.0</td>\n",
       "      <td>1283.0</td>\n",
       "      <td>371.0</td>\n",
       "      <td>3329.0</td>\n",
       "      <td>193.0</td>\n",
       "      <td>Solam Susent</td>\n",
       "      <td>False</td>\n",
       "    </tr>\n",
       "    <tr>\n",
       "      <th>4</th>\n",
       "      <td>0004_01</td>\n",
       "      <td>Earth</td>\n",
       "      <td>False</td>\n",
       "      <td>F/1/S</td>\n",
       "      <td>TRAPPIST-1e</td>\n",
       "      <td>16.0</td>\n",
       "      <td>False</td>\n",
       "      <td>303.0</td>\n",
       "      <td>70.0</td>\n",
       "      <td>151.0</td>\n",
       "      <td>565.0</td>\n",
       "      <td>2.0</td>\n",
       "      <td>Willy Santantines</td>\n",
       "      <td>True</td>\n",
       "    </tr>\n",
       "  </tbody>\n",
       "</table>\n",
       "</div>"
      ],
      "text/plain": [
       "  PassengerId HomePlanet CryoSleep  Cabin  Destination   Age    VIP  \\\n",
       "0     0001_01     Europa     False  B/0/P  TRAPPIST-1e  39.0  False   \n",
       "1     0002_01      Earth     False  F/0/S  TRAPPIST-1e  24.0  False   \n",
       "2     0003_01     Europa     False  A/0/S  TRAPPIST-1e  58.0   True   \n",
       "3     0003_02     Europa     False  A/0/S  TRAPPIST-1e  33.0  False   \n",
       "4     0004_01      Earth     False  F/1/S  TRAPPIST-1e  16.0  False   \n",
       "\n",
       "   RoomService  FoodCourt  ShoppingMall     Spa  VRDeck               Name  \\\n",
       "0          0.0        0.0           0.0     0.0     0.0    Maham Ofracculy   \n",
       "1        109.0        9.0          25.0   549.0    44.0       Juanna Vines   \n",
       "2         43.0     3576.0           0.0  6715.0    49.0      Altark Susent   \n",
       "3          0.0     1283.0         371.0  3329.0   193.0       Solam Susent   \n",
       "4        303.0       70.0         151.0   565.0     2.0  Willy Santantines   \n",
       "\n",
       "   Transported  \n",
       "0        False  \n",
       "1         True  \n",
       "2        False  \n",
       "3        False  \n",
       "4         True  "
      ]
     },
     "execution_count": 2107,
     "metadata": {},
     "output_type": "execute_result"
    }
   ],
   "source": [
    "train_df.head(5)"
   ]
  },
  {
   "cell_type": "markdown",
   "metadata": {},
   "source": [
    "#### __Which features are mixed types?__"
   ]
  },
  {
   "cell_type": "markdown",
   "metadata": {},
   "source": [
    "Numerical, alphanumerical data within same feature."
   ]
  },
  {
   "cell_type": "markdown",
   "metadata": {},
   "source": [
    "* Alphanumerical\n",
    "    * Cabin"
   ]
  },
  {
   "cell_type": "markdown",
   "metadata": {},
   "source": [
    "#### __Which feature may contain errors of typos?__"
   ]
  },
  {
   "cell_type": "markdown",
   "metadata": {},
   "source": [
    "None of feature contain errors still"
   ]
  },
  {
   "cell_type": "markdown",
   "metadata": {},
   "source": [
    "#### __Which feature contain blank, null, empty values?__"
   ]
  },
  {
   "cell_type": "markdown",
   "metadata": {},
   "source": [
    "* In train data set,\n",
    "    * HomePlanet      201\n",
    "    * CryoSleep       217\n",
    "    * Cabin           199\n",
    "    * Destination     182\n",
    "    * Age             179\n",
    "    * VIP             203\n",
    "    * RoomService     181\n",
    "    * FoodCourt       183\n",
    "    * ShoppingMall    208\n",
    "    * Spa             183\n",
    "    * VRDeck          188\n",
    "    * Name            200\n",
    "* In test data set,\n",
    "    * HomePlanet       87\n",
    "    * CryoSleep        93\n",
    "    * Cabin           100\n",
    "    * Destination      92\n",
    "    * Age              91\n",
    "    * VIP              93\n",
    "    * RoomService      82\n",
    "    * FoodCourt       106\n",
    "    * ShoppingMall     98\n",
    "    * Spa             101\n",
    "    * VRDeck           80\n",
    "    * Name             94"
   ]
  },
  {
   "cell_type": "code",
   "execution_count": 2108,
   "metadata": {},
   "outputs": [
    {
     "data": {
      "text/plain": [
       "PassengerId       0\n",
       "HomePlanet      201\n",
       "CryoSleep       217\n",
       "Cabin           199\n",
       "Destination     182\n",
       "Age             179\n",
       "VIP             203\n",
       "RoomService     181\n",
       "FoodCourt       183\n",
       "ShoppingMall    208\n",
       "Spa             183\n",
       "VRDeck          188\n",
       "Name            200\n",
       "Transported       0\n",
       "dtype: int64"
      ]
     },
     "execution_count": 2108,
     "metadata": {},
     "output_type": "execute_result"
    }
   ],
   "source": [
    "train_df.isnull().sum()"
   ]
  },
  {
   "cell_type": "code",
   "execution_count": 2109,
   "metadata": {},
   "outputs": [
    {
     "data": {
      "text/plain": [
       "PassengerId       0\n",
       "HomePlanet       87\n",
       "CryoSleep        93\n",
       "Cabin           100\n",
       "Destination      92\n",
       "Age              91\n",
       "VIP              93\n",
       "RoomService      82\n",
       "FoodCourt       106\n",
       "ShoppingMall     98\n",
       "Spa             101\n",
       "VRDeck           80\n",
       "Name             94\n",
       "dtype: int64"
      ]
     },
     "execution_count": 2109,
     "metadata": {},
     "output_type": "execute_result"
    }
   ],
   "source": [
    "test_df.isnull().sum()"
   ]
  },
  {
   "cell_type": "markdown",
   "metadata": {},
   "source": [
    "#### __What are the data types for various features.?__"
   ]
  },
  {
   "cell_type": "markdown",
   "metadata": {},
   "source": [
    "* 6 features are float\n",
    "* 7 features are object(strings)\n",
    "* 1 feature is boolian (bool)"
   ]
  },
  {
   "cell_type": "code",
   "execution_count": 2110,
   "metadata": {},
   "outputs": [
    {
     "name": "stdout",
     "output_type": "stream",
     "text": [
      "<class 'pandas.core.frame.DataFrame'>\n",
      "RangeIndex: 8693 entries, 0 to 8692\n",
      "Data columns (total 14 columns):\n",
      " #   Column        Non-Null Count  Dtype  \n",
      "---  ------        --------------  -----  \n",
      " 0   PassengerId   8693 non-null   object \n",
      " 1   HomePlanet    8492 non-null   object \n",
      " 2   CryoSleep     8476 non-null   object \n",
      " 3   Cabin         8494 non-null   object \n",
      " 4   Destination   8511 non-null   object \n",
      " 5   Age           8514 non-null   float64\n",
      " 6   VIP           8490 non-null   object \n",
      " 7   RoomService   8512 non-null   float64\n",
      " 8   FoodCourt     8510 non-null   float64\n",
      " 9   ShoppingMall  8485 non-null   float64\n",
      " 10  Spa           8510 non-null   float64\n",
      " 11  VRDeck        8505 non-null   float64\n",
      " 12  Name          8493 non-null   object \n",
      " 13  Transported   8693 non-null   bool   \n",
      "dtypes: bool(1), float64(6), object(7)\n",
      "memory usage: 891.5+ KB\n"
     ]
    }
   ],
   "source": [
    "train_df.info()"
   ]
  },
  {
   "cell_type": "markdown",
   "metadata": {},
   "source": [
    "#### __What is the distribution of numerical feature values across the sample?__"
   ]
  },
  {
   "cell_type": "markdown",
   "metadata": {},
   "source": [
    "* This dataset has 8693 samples\n",
    "* A very few elders  within age range 60-79"
   ]
  },
  {
   "cell_type": "code",
   "execution_count": 2111,
   "metadata": {},
   "outputs": [
    {
     "data": {
      "text/plain": [
       "(8693, 14)"
      ]
     },
     "execution_count": 2111,
     "metadata": {},
     "output_type": "execute_result"
    }
   ],
   "source": [
    "train_df.shape"
   ]
  },
  {
   "cell_type": "code",
   "execution_count": 2112,
   "metadata": {},
   "outputs": [
    {
     "data": {
      "text/html": [
       "<div>\n",
       "<style scoped>\n",
       "    .dataframe tbody tr th:only-of-type {\n",
       "        vertical-align: middle;\n",
       "    }\n",
       "\n",
       "    .dataframe tbody tr th {\n",
       "        vertical-align: top;\n",
       "    }\n",
       "\n",
       "    .dataframe thead th {\n",
       "        text-align: right;\n",
       "    }\n",
       "</style>\n",
       "<table border=\"1\" class=\"dataframe\">\n",
       "  <thead>\n",
       "    <tr style=\"text-align: right;\">\n",
       "      <th></th>\n",
       "      <th>Age</th>\n",
       "      <th>RoomService</th>\n",
       "      <th>FoodCourt</th>\n",
       "      <th>ShoppingMall</th>\n",
       "      <th>Spa</th>\n",
       "      <th>VRDeck</th>\n",
       "    </tr>\n",
       "  </thead>\n",
       "  <tbody>\n",
       "    <tr>\n",
       "      <th>count</th>\n",
       "      <td>8514.000000</td>\n",
       "      <td>8512.000000</td>\n",
       "      <td>8510.000000</td>\n",
       "      <td>8485.000000</td>\n",
       "      <td>8510.000000</td>\n",
       "      <td>8505.000000</td>\n",
       "    </tr>\n",
       "    <tr>\n",
       "      <th>mean</th>\n",
       "      <td>28.827930</td>\n",
       "      <td>224.687617</td>\n",
       "      <td>458.077203</td>\n",
       "      <td>173.729169</td>\n",
       "      <td>311.138778</td>\n",
       "      <td>304.854791</td>\n",
       "    </tr>\n",
       "    <tr>\n",
       "      <th>std</th>\n",
       "      <td>14.489021</td>\n",
       "      <td>666.717663</td>\n",
       "      <td>1611.489240</td>\n",
       "      <td>604.696458</td>\n",
       "      <td>1136.705535</td>\n",
       "      <td>1145.717189</td>\n",
       "    </tr>\n",
       "    <tr>\n",
       "      <th>min</th>\n",
       "      <td>0.000000</td>\n",
       "      <td>0.000000</td>\n",
       "      <td>0.000000</td>\n",
       "      <td>0.000000</td>\n",
       "      <td>0.000000</td>\n",
       "      <td>0.000000</td>\n",
       "    </tr>\n",
       "    <tr>\n",
       "      <th>25%</th>\n",
       "      <td>19.000000</td>\n",
       "      <td>0.000000</td>\n",
       "      <td>0.000000</td>\n",
       "      <td>0.000000</td>\n",
       "      <td>0.000000</td>\n",
       "      <td>0.000000</td>\n",
       "    </tr>\n",
       "    <tr>\n",
       "      <th>50%</th>\n",
       "      <td>27.000000</td>\n",
       "      <td>0.000000</td>\n",
       "      <td>0.000000</td>\n",
       "      <td>0.000000</td>\n",
       "      <td>0.000000</td>\n",
       "      <td>0.000000</td>\n",
       "    </tr>\n",
       "    <tr>\n",
       "      <th>75%</th>\n",
       "      <td>38.000000</td>\n",
       "      <td>47.000000</td>\n",
       "      <td>76.000000</td>\n",
       "      <td>27.000000</td>\n",
       "      <td>59.000000</td>\n",
       "      <td>46.000000</td>\n",
       "    </tr>\n",
       "    <tr>\n",
       "      <th>max</th>\n",
       "      <td>79.000000</td>\n",
       "      <td>14327.000000</td>\n",
       "      <td>29813.000000</td>\n",
       "      <td>23492.000000</td>\n",
       "      <td>22408.000000</td>\n",
       "      <td>24133.000000</td>\n",
       "    </tr>\n",
       "  </tbody>\n",
       "</table>\n",
       "</div>"
      ],
      "text/plain": [
       "               Age   RoomService     FoodCourt  ShoppingMall           Spa  \\\n",
       "count  8514.000000   8512.000000   8510.000000   8485.000000   8510.000000   \n",
       "mean     28.827930    224.687617    458.077203    173.729169    311.138778   \n",
       "std      14.489021    666.717663   1611.489240    604.696458   1136.705535   \n",
       "min       0.000000      0.000000      0.000000      0.000000      0.000000   \n",
       "25%      19.000000      0.000000      0.000000      0.000000      0.000000   \n",
       "50%      27.000000      0.000000      0.000000      0.000000      0.000000   \n",
       "75%      38.000000     47.000000     76.000000     27.000000     59.000000   \n",
       "max      79.000000  14327.000000  29813.000000  23492.000000  22408.000000   \n",
       "\n",
       "             VRDeck  \n",
       "count   8505.000000  \n",
       "mean     304.854791  \n",
       "std     1145.717189  \n",
       "min        0.000000  \n",
       "25%        0.000000  \n",
       "50%        0.000000  \n",
       "75%       46.000000  \n",
       "max    24133.000000  "
      ]
     },
     "execution_count": 2112,
     "metadata": {},
     "output_type": "execute_result"
    }
   ],
   "source": [
    "train_df.describe()"
   ]
  },
  {
   "cell_type": "markdown",
   "metadata": {},
   "source": [
    "#### __What is the distribution of categorical features?__"
   ]
  },
  {
   "cell_type": "markdown",
   "metadata": {},
   "source": [
    "* Most of Names are unique but only 2 samples not\n",
    "* Earth is the Home planet of most passangers\n",
    "* 5439 out of 8492, passangers didn't in CryoSleep\n",
    "* There are 6560 cabins\n",
    "* Most Passangers wasn't VIP\n",
    "* Around half of the samples(4378) were transported"
   ]
  },
  {
   "cell_type": "code",
   "execution_count": 2113,
   "metadata": {},
   "outputs": [
    {
     "data": {
      "text/html": [
       "<div>\n",
       "<style scoped>\n",
       "    .dataframe tbody tr th:only-of-type {\n",
       "        vertical-align: middle;\n",
       "    }\n",
       "\n",
       "    .dataframe tbody tr th {\n",
       "        vertical-align: top;\n",
       "    }\n",
       "\n",
       "    .dataframe thead th {\n",
       "        text-align: right;\n",
       "    }\n",
       "</style>\n",
       "<table border=\"1\" class=\"dataframe\">\n",
       "  <thead>\n",
       "    <tr style=\"text-align: right;\">\n",
       "      <th></th>\n",
       "      <th>PassengerId</th>\n",
       "      <th>HomePlanet</th>\n",
       "      <th>CryoSleep</th>\n",
       "      <th>Cabin</th>\n",
       "      <th>Destination</th>\n",
       "      <th>VIP</th>\n",
       "      <th>Name</th>\n",
       "      <th>Transported</th>\n",
       "    </tr>\n",
       "  </thead>\n",
       "  <tbody>\n",
       "    <tr>\n",
       "      <th>count</th>\n",
       "      <td>8693</td>\n",
       "      <td>8492</td>\n",
       "      <td>8476</td>\n",
       "      <td>8494</td>\n",
       "      <td>8511</td>\n",
       "      <td>8490</td>\n",
       "      <td>8493</td>\n",
       "      <td>8693</td>\n",
       "    </tr>\n",
       "    <tr>\n",
       "      <th>unique</th>\n",
       "      <td>8693</td>\n",
       "      <td>3</td>\n",
       "      <td>2</td>\n",
       "      <td>6560</td>\n",
       "      <td>3</td>\n",
       "      <td>2</td>\n",
       "      <td>8473</td>\n",
       "      <td>2</td>\n",
       "    </tr>\n",
       "    <tr>\n",
       "      <th>top</th>\n",
       "      <td>0001_01</td>\n",
       "      <td>Earth</td>\n",
       "      <td>False</td>\n",
       "      <td>G/734/S</td>\n",
       "      <td>TRAPPIST-1e</td>\n",
       "      <td>False</td>\n",
       "      <td>Gollux Reedall</td>\n",
       "      <td>True</td>\n",
       "    </tr>\n",
       "    <tr>\n",
       "      <th>freq</th>\n",
       "      <td>1</td>\n",
       "      <td>4602</td>\n",
       "      <td>5439</td>\n",
       "      <td>8</td>\n",
       "      <td>5915</td>\n",
       "      <td>8291</td>\n",
       "      <td>2</td>\n",
       "      <td>4378</td>\n",
       "    </tr>\n",
       "  </tbody>\n",
       "</table>\n",
       "</div>"
      ],
      "text/plain": [
       "       PassengerId HomePlanet CryoSleep    Cabin  Destination    VIP  \\\n",
       "count         8693       8492      8476     8494         8511   8490   \n",
       "unique        8693          3         2     6560            3      2   \n",
       "top        0001_01      Earth     False  G/734/S  TRAPPIST-1e  False   \n",
       "freq             1       4602      5439        8         5915   8291   \n",
       "\n",
       "                  Name Transported  \n",
       "count             8493        8693  \n",
       "unique            8473           2  \n",
       "top     Gollux Reedall        True  \n",
       "freq                 2        4378  "
      ]
     },
     "execution_count": 2113,
     "metadata": {},
     "output_type": "execute_result"
    }
   ],
   "source": [
    "train_df.describe(include=['O', bool])"
   ]
  },
  {
   "cell_type": "markdown",
   "metadata": {},
   "source": [
    "## __Assumptions based on data analysis__"
   ]
  },
  {
   "cell_type": "markdown",
   "metadata": {},
   "source": [
    "We arrived following assumptions based on data analysis so far."
   ]
  },
  {
   "cell_type": "markdown",
   "metadata": {},
   "source": [
    "* __Correlation__ : We want to know how well does each feature correlated with Transport"
   ]
  },
  {
   "cell_type": "markdown",
   "metadata": {},
   "source": [
    "* __Completeting__: We want to complete HomePlanet, CryoSleep, Cabin, Destination, Age, VIP, RoomService, FoodCourt, ShoppingMall, Spa, VRDeck features. I think they are correlated with transport"
   ]
  },
  {
   "cell_type": "markdown",
   "metadata": {},
   "source": [
    "* __Creating__:\n",
    "    * We should create a value ranges for Age, RoomService, FoodCourt, ShoppingMall, Spa, VRDeck features"
   ]
  },
  {
   "cell_type": "markdown",
   "metadata": {},
   "source": [
    "## __Analyze by pivolating features__"
   ]
  },
  {
   "cell_type": "markdown",
   "metadata": {},
   "source": [
    "We can analyze our feature correlation by pivolating features against each other. So we can use HomePlanet, CryoSleep, Destination, VIP features against transported feature."
   ]
  },
  {
   "cell_type": "markdown",
   "metadata": {},
   "source": [
    "* __HomePlanet__ We can observe significant correlation among HomePlanet=Europa. So we decide to use HomePlanet feature for our model training.\n",
    "\n",
    "* __CryoSleep__ We can see cryo sleepers had higher transport rate\n",
    "\n",
    "* __Destination__ 55 Cancri e had higher transport rate. So we consider destination feature also in the model training.\n",
    "\n",
    "* __VIP__ Non vip passangers also had higher transport rate."
   ]
  },
  {
   "cell_type": "code",
   "execution_count": 2114,
   "metadata": {},
   "outputs": [
    {
     "data": {
      "text/html": [
       "<div>\n",
       "<style scoped>\n",
       "    .dataframe tbody tr th:only-of-type {\n",
       "        vertical-align: middle;\n",
       "    }\n",
       "\n",
       "    .dataframe tbody tr th {\n",
       "        vertical-align: top;\n",
       "    }\n",
       "\n",
       "    .dataframe thead th {\n",
       "        text-align: right;\n",
       "    }\n",
       "</style>\n",
       "<table border=\"1\" class=\"dataframe\">\n",
       "  <thead>\n",
       "    <tr style=\"text-align: right;\">\n",
       "      <th></th>\n",
       "      <th>HomePlanet</th>\n",
       "      <th>Transported</th>\n",
       "    </tr>\n",
       "  </thead>\n",
       "  <tbody>\n",
       "    <tr>\n",
       "      <th>1</th>\n",
       "      <td>Europa</td>\n",
       "      <td>0.658846</td>\n",
       "    </tr>\n",
       "    <tr>\n",
       "      <th>2</th>\n",
       "      <td>Mars</td>\n",
       "      <td>0.523024</td>\n",
       "    </tr>\n",
       "    <tr>\n",
       "      <th>0</th>\n",
       "      <td>Earth</td>\n",
       "      <td>0.423946</td>\n",
       "    </tr>\n",
       "  </tbody>\n",
       "</table>\n",
       "</div>"
      ],
      "text/plain": [
       "  HomePlanet  Transported\n",
       "1     Europa     0.658846\n",
       "2       Mars     0.523024\n",
       "0      Earth     0.423946"
      ]
     },
     "execution_count": 2114,
     "metadata": {},
     "output_type": "execute_result"
    }
   ],
   "source": [
    "train_df[['HomePlanet','Transported']].groupby(['HomePlanet'], as_index=False).mean().sort_values(by='Transported', ascending=False)"
   ]
  },
  {
   "cell_type": "code",
   "execution_count": 2115,
   "metadata": {},
   "outputs": [
    {
     "data": {
      "text/html": [
       "<div>\n",
       "<style scoped>\n",
       "    .dataframe tbody tr th:only-of-type {\n",
       "        vertical-align: middle;\n",
       "    }\n",
       "\n",
       "    .dataframe tbody tr th {\n",
       "        vertical-align: top;\n",
       "    }\n",
       "\n",
       "    .dataframe thead th {\n",
       "        text-align: right;\n",
       "    }\n",
       "</style>\n",
       "<table border=\"1\" class=\"dataframe\">\n",
       "  <thead>\n",
       "    <tr style=\"text-align: right;\">\n",
       "      <th></th>\n",
       "      <th>CryoSleep</th>\n",
       "      <th>Transported</th>\n",
       "    </tr>\n",
       "  </thead>\n",
       "  <tbody>\n",
       "    <tr>\n",
       "      <th>1</th>\n",
       "      <td>True</td>\n",
       "      <td>0.817583</td>\n",
       "    </tr>\n",
       "    <tr>\n",
       "      <th>0</th>\n",
       "      <td>False</td>\n",
       "      <td>0.328921</td>\n",
       "    </tr>\n",
       "  </tbody>\n",
       "</table>\n",
       "</div>"
      ],
      "text/plain": [
       "   CryoSleep  Transported\n",
       "1       True     0.817583\n",
       "0      False     0.328921"
      ]
     },
     "execution_count": 2115,
     "metadata": {},
     "output_type": "execute_result"
    }
   ],
   "source": [
    "train_df[['CryoSleep', 'Transported']].groupby(['CryoSleep'], as_index=False).mean().sort_values(by='Transported', ascending=False)"
   ]
  },
  {
   "cell_type": "code",
   "execution_count": 2116,
   "metadata": {},
   "outputs": [
    {
     "data": {
      "text/html": [
       "<div>\n",
       "<style scoped>\n",
       "    .dataframe tbody tr th:only-of-type {\n",
       "        vertical-align: middle;\n",
       "    }\n",
       "\n",
       "    .dataframe tbody tr th {\n",
       "        vertical-align: top;\n",
       "    }\n",
       "\n",
       "    .dataframe thead th {\n",
       "        text-align: right;\n",
       "    }\n",
       "</style>\n",
       "<table border=\"1\" class=\"dataframe\">\n",
       "  <thead>\n",
       "    <tr style=\"text-align: right;\">\n",
       "      <th></th>\n",
       "      <th>Destination</th>\n",
       "      <th>Transported</th>\n",
       "    </tr>\n",
       "  </thead>\n",
       "  <tbody>\n",
       "    <tr>\n",
       "      <th>0</th>\n",
       "      <td>55 Cancri e</td>\n",
       "      <td>0.610000</td>\n",
       "    </tr>\n",
       "    <tr>\n",
       "      <th>1</th>\n",
       "      <td>PSO J318.5-22</td>\n",
       "      <td>0.503769</td>\n",
       "    </tr>\n",
       "    <tr>\n",
       "      <th>2</th>\n",
       "      <td>TRAPPIST-1e</td>\n",
       "      <td>0.471175</td>\n",
       "    </tr>\n",
       "  </tbody>\n",
       "</table>\n",
       "</div>"
      ],
      "text/plain": [
       "     Destination  Transported\n",
       "0    55 Cancri e     0.610000\n",
       "1  PSO J318.5-22     0.503769\n",
       "2    TRAPPIST-1e     0.471175"
      ]
     },
     "execution_count": 2116,
     "metadata": {},
     "output_type": "execute_result"
    }
   ],
   "source": [
    "train_df[['Destination', 'Transported']].groupby(['Destination'], as_index=False).mean().sort_values(by='Transported', ascending=False)"
   ]
  },
  {
   "cell_type": "code",
   "execution_count": 2117,
   "metadata": {},
   "outputs": [
    {
     "data": {
      "text/html": [
       "<div>\n",
       "<style scoped>\n",
       "    .dataframe tbody tr th:only-of-type {\n",
       "        vertical-align: middle;\n",
       "    }\n",
       "\n",
       "    .dataframe tbody tr th {\n",
       "        vertical-align: top;\n",
       "    }\n",
       "\n",
       "    .dataframe thead th {\n",
       "        text-align: right;\n",
       "    }\n",
       "</style>\n",
       "<table border=\"1\" class=\"dataframe\">\n",
       "  <thead>\n",
       "    <tr style=\"text-align: right;\">\n",
       "      <th></th>\n",
       "      <th>VIP</th>\n",
       "      <th>Transported</th>\n",
       "    </tr>\n",
       "  </thead>\n",
       "  <tbody>\n",
       "    <tr>\n",
       "      <th>0</th>\n",
       "      <td>False</td>\n",
       "      <td>0.506332</td>\n",
       "    </tr>\n",
       "    <tr>\n",
       "      <th>1</th>\n",
       "      <td>True</td>\n",
       "      <td>0.381910</td>\n",
       "    </tr>\n",
       "  </tbody>\n",
       "</table>\n",
       "</div>"
      ],
      "text/plain": [
       "     VIP  Transported\n",
       "0  False     0.506332\n",
       "1   True     0.381910"
      ]
     },
     "execution_count": 2117,
     "metadata": {},
     "output_type": "execute_result"
    }
   ],
   "source": [
    "train_df[['VIP', 'Transported']].groupby(['VIP'], as_index=False).mean().sort_values(by='Transported', ascending=False)"
   ]
  },
  {
   "cell_type": "markdown",
   "metadata": {},
   "source": [
    "## __Analyze by visualizing data__"
   ]
  },
  {
   "cell_type": "markdown",
   "metadata": {},
   "source": [
    "We can continue our assumptions using visualizing data"
   ]
  },
  {
   "cell_type": "markdown",
   "metadata": {},
   "source": [
    "#### __Correlation numerical features__"
   ]
  },
  {
   "cell_type": "markdown",
   "metadata": {},
   "source": [
    "* __Observations__\n",
    "    * Age < 4 had Higher transport rate\n",
    "    * Most passangers were in 15-40 Age range\n",
    "    * Passangers who belongs to age 20-30 did not transported"
   ]
  },
  {
   "cell_type": "markdown",
   "metadata": {},
   "source": [
    "* __Decisions__\n",
    "    * Consider Age feature for model training\n",
    "    * Create a age range"
   ]
  },
  {
   "cell_type": "code",
   "execution_count": 2118,
   "metadata": {},
   "outputs": [
    {
     "data": {
      "text/plain": [
       "<seaborn.axisgrid.FacetGrid at 0x15d5b4422c0>"
      ]
     },
     "execution_count": 2118,
     "metadata": {},
     "output_type": "execute_result"
    },
    {
     "data": {
      "image/png": "[encoded data removed]",
      "text/plain": [
       "<Figure size 432x216 with 2 Axes>"
      ]
     },
     "metadata": {
      "needs_background": "light"
     },
     "output_type": "display_data"
    }
   ],
   "source": [
    "grid = sns.FacetGrid(train_df,col='Transported')\n",
    "grid.map(plt.hist, 'Age', bins=20)"
   ]
  },
  {
   "cell_type": "markdown",
   "metadata": {},
   "source": [
    "#### __Correlation numerical and categorical features__"
   ]
  },
  {
   "cell_type": "markdown",
   "metadata": {},
   "source": [
    "* __Observations__\n",
    "    * Passangers who ware HomePlannet Earth had low Transport rate\n",
    "    * HomePlannet mars and Earth passengers who belongs to age < 4 mostly Transported\n",
    "    * There is a correlation between VIP and Transport\n",
    "    \n",
    "* __Decisions__\n",
    "    * Consider HomePlanet feature for model training\n",
    "    * Introduce VIP and Destination Features also for model training"
   ]
  },
  {
   "cell_type": "markdown",
   "metadata": {},
   "source": [
    "We can combine multiple features for identify correlation using a single plot. This can be done with numeric and categorical features which have nymeric values"
   ]
  },
  {
   "cell_type": "code",
   "execution_count": 2119,
   "metadata": {},
   "outputs": [
    {
     "name": "stderr",
     "output_type": "stream",
     "text": [
      "c:\\Users\\Anjana Kavidu\\AppData\\Local\\Programs\\Python\\Python310\\lib\\site-packages\\seaborn\\axisgrid.py:337: UserWarning: The `size` parameter has been renamed to `height`; please update your code.\n",
      "  warnings.warn(msg, UserWarning)\n"
     ]
    },
    {
     "data": {
      "text/plain": [
       "<seaborn.axisgrid.FacetGrid at 0x15d5b440790>"
      ]
     },
     "execution_count": 2119,
     "metadata": {},
     "output_type": "execute_result"
    },
    {
     "data": {
      "image/png": "[encoded data removed]",
      "text/plain": [
       "<Figure size 514.88x475.2 with 6 Axes>"
      ]
     },
     "metadata": {
      "needs_background": "light"
     },
     "output_type": "display_data"
    }
   ],
   "source": [
    "grid = sns.FacetGrid(train_df, col='Transported', row='HomePlanet', size=2.2, aspect=1.6)\n",
    "grid.map(plt.hist, 'Age', alpha=.5, bins=20)\n",
    "grid.add_legend()"
   ]
  },
  {
   "cell_type": "code",
   "execution_count": 2120,
   "metadata": {},
   "outputs": [
    {
     "name": "stderr",
     "output_type": "stream",
     "text": [
      "c:\\Users\\Anjana Kavidu\\AppData\\Local\\Programs\\Python\\Python310\\lib\\site-packages\\seaborn\\axisgrid.py:337: UserWarning: The `size` parameter has been renamed to `height`; please update your code.\n",
      "  warnings.warn(msg, UserWarning)\n"
     ]
    },
    {
     "data": {
      "text/plain": [
       "<seaborn.axisgrid.FacetGrid at 0x15d5b4e6590>"
      ]
     },
     "execution_count": 2120,
     "metadata": {},
     "output_type": "execute_result"
    },
    {
     "data": {
      "image/png": "[encoded data removed]",
      "text/plain": [
       "<Figure size 514.88x475.2 with 6 Axes>"
      ]
     },
     "metadata": {
      "needs_background": "light"
     },
     "output_type": "display_data"
    }
   ],
   "source": [
    "grid = sns.FacetGrid(train_df, col='Transported', row='Destination', size=2.2, aspect=1.6)\n",
    "grid.map(plt.hist, 'Age', alpha=.5, bins=20)\n",
    "grid.add_legend()"
   ]
  },
  {
   "cell_type": "code",
   "execution_count": 2121,
   "metadata": {},
   "outputs": [
    {
     "name": "stderr",
     "output_type": "stream",
     "text": [
      "c:\\Users\\Anjana Kavidu\\AppData\\Local\\Programs\\Python\\Python310\\lib\\site-packages\\seaborn\\axisgrid.py:337: UserWarning: The `size` parameter has been renamed to `height`; please update your code.\n",
      "  warnings.warn(msg, UserWarning)\n",
      "c:\\Users\\Anjana Kavidu\\AppData\\Local\\Programs\\Python\\Python310\\lib\\site-packages\\seaborn\\axisgrid.py:670: UserWarning: Using the barplot function without specifying `order` is likely to produce an incorrect plot.\n",
      "  warnings.warn(warning)\n"
     ]
    },
    {
     "data": {
      "text/plain": [
       "<seaborn.axisgrid.FacetGrid at 0x15d5bb21150>"
      ]
     },
     "execution_count": 2121,
     "metadata": {},
     "output_type": "execute_result"
    },
    {
     "data": {
      "image/png": "[encoded data removed]",
      "text/plain": [
       "<Figure size 506.88x475.2 with 6 Axes>"
      ]
     },
     "metadata": {
      "needs_background": "light"
     },
     "output_type": "display_data"
    }
   ],
   "source": [
    "grid = sns.FacetGrid(train_df, row='Destination', col='Transported', size=2.2, aspect=1.6)\n",
    "grid.map(sns.barplot, 'VIP', 'Age', alpha=.5, ci=None)"
   ]
  },
  {
   "cell_type": "markdown",
   "metadata": {},
   "source": [
    "#### __Correlation categorical features__"
   ]
  },
  {
   "cell_type": "markdown",
   "metadata": {},
   "source": [
    "* __Observations__\n",
    "    * Mars value is changing one Destination to another\n",
    "    * We can see all 3 destination Cryo sleepers were transported\n",
    "\n",
    "* __Decisions__\n",
    "    * Use CryoSleep to our model training"
   ]
  },
  {
   "cell_type": "code",
   "execution_count": 2122,
   "metadata": {},
   "outputs": [
    {
     "name": "stderr",
     "output_type": "stream",
     "text": [
      "c:\\Users\\Anjana Kavidu\\AppData\\Local\\Programs\\Python\\Python310\\lib\\site-packages\\seaborn\\axisgrid.py:337: UserWarning: The `size` parameter has been renamed to `height`; please update your code.\n",
      "  warnings.warn(msg, UserWarning)\n",
      "c:\\Users\\Anjana Kavidu\\AppData\\Local\\Programs\\Python\\Python310\\lib\\site-packages\\seaborn\\axisgrid.py:670: UserWarning: Using the pointplot function without specifying `order` is likely to produce an incorrect plot.\n",
      "  warnings.warn(warning)\n",
      "c:\\Users\\Anjana Kavidu\\AppData\\Local\\Programs\\Python\\Python310\\lib\\site-packages\\seaborn\\axisgrid.py:675: UserWarning: Using the pointplot function without specifying `hue_order` is likely to produce an incorrect plot.\n",
      "  warnings.warn(warning)\n"
     ]
    },
    {
     "data": {
      "text/plain": [
       "<seaborn.axisgrid.FacetGrid at 0x15d5bb20640>"
      ]
     },
     "execution_count": 2122,
     "metadata": {},
     "output_type": "execute_result"
    },
    {
     "data": {
      "image/png": "[encoded data removed]",
      "text/plain": [
       "<Figure size 314.69x475.2 with 3 Axes>"
      ]
     },
     "metadata": {
      "needs_background": "light"
     },
     "output_type": "display_data"
    }
   ],
   "source": [
    "grid = sns.FacetGrid(train_df, row='Destination', size=2.2, aspect=1.6)\n",
    "grid.map(sns.pointplot, 'HomePlanet', 'Transported', 'CryoSleep', pallete='deep')\n",
    "grid.add_legend()"
   ]
  },
  {
   "cell_type": "markdown",
   "metadata": {},
   "source": [
    "## __Wrangle data__"
   ]
  },
  {
   "cell_type": "markdown",
   "metadata": {},
   "source": [
    "We are collected several assumptions and decisions regarding our datasets and solution requirements. So far we did not change any value or any feature. Lets execute our decisions and assumptions for correcting, creating, and completing goals."
   ]
  },
  {
   "cell_type": "markdown",
   "metadata": {},
   "source": [
    "#### __Correcting by dropping features__"
   ]
  },
  {
   "cell_type": "markdown",
   "metadata": {},
   "source": [
    "Based on our assumptions we want to drop Name feature"
   ]
  },
  {
   "cell_type": "code",
   "execution_count": 2123,
   "metadata": {},
   "outputs": [],
   "source": [
    "train_df = train_df.drop('Name', axis=1)\n",
    "test_df = test_df.drop('Name', axis=1)\n",
    "combine = [train_df,test_df]"
   ]
  },
  {
   "cell_type": "code",
   "execution_count": 2124,
   "metadata": {},
   "outputs": [
    {
     "data": {
      "text/plain": [
       "((8693, 13), (4277, 12))"
      ]
     },
     "execution_count": 2124,
     "metadata": {},
     "output_type": "execute_result"
    }
   ],
   "source": [
    "train_df.shape, test_df.shape"
   ]
  },
  {
   "cell_type": "markdown",
   "metadata": {},
   "source": [
    "#### __Creating new feature extracting from existing__"
   ]
  },
  {
   "cell_type": "markdown",
   "metadata": {},
   "source": [
    "Before dropping Cabin feature we want to create a new feature called CabinLetter by extracting the first Capital letter and last letter in the Cabin feature"
   ]
  },
  {
   "cell_type": "markdown",
   "metadata": {},
   "source": [
    "* __Observations__\n",
    "    * It seems there might be correlation between CabinLetter and Transported rate\n",
    "    * CabinLetter B had higher Transported rate"
   ]
  },
  {
   "cell_type": "markdown",
   "metadata": {},
   "source": [
    "* __Decisions__\n",
    "    * Consider CabinLatter1 and 2 for model training"
   ]
  },
  {
   "cell_type": "code",
   "execution_count": 2125,
   "metadata": {},
   "outputs": [],
   "source": [
    "train_df['CabinLetter1'] = train_df['Cabin'].apply(lambda x: str(x).split('/')[0])\n",
    "test_df['CabinLetter1'] = test_df['Cabin'].apply(lambda x: str(x).split('/')[0])\n",
    "train_df['CabinLetter2'] = train_df['Cabin'].apply(lambda x: str(x).split('/')[-1])\n",
    "test_df['CabinLetter2'] = test_df['Cabin'].apply(lambda x: str(x).split('/')[-1])\n"
   ]
  },
  {
   "cell_type": "code",
   "execution_count": 2126,
   "metadata": {},
   "outputs": [],
   "source": [
    "for dataset in combine:\n",
    "    dataset['CabinNumber'] = dataset.Cabin.str.extract('([0-9999].)', expand=False)\n",
    "    dataset['CabinNumber'] = dataset['CabinNumber'].apply(lambda x: str(x).split('/')[0])\n",
    "combine = [train_df,test_df]"
   ]
  },
  {
   "cell_type": "code",
   "execution_count": 2127,
   "metadata": {},
   "outputs": [
    {
     "data": {
      "text/html": [
       "<div>\n",
       "<style scoped>\n",
       "    .dataframe tbody tr th:only-of-type {\n",
       "        vertical-align: middle;\n",
       "    }\n",
       "\n",
       "    .dataframe tbody tr th {\n",
       "        vertical-align: top;\n",
       "    }\n",
       "\n",
       "    .dataframe thead th {\n",
       "        text-align: right;\n",
       "    }\n",
       "</style>\n",
       "<table border=\"1\" class=\"dataframe\">\n",
       "  <thead>\n",
       "    <tr style=\"text-align: right;\">\n",
       "      <th></th>\n",
       "      <th>PassengerId</th>\n",
       "      <th>HomePlanet</th>\n",
       "      <th>CryoSleep</th>\n",
       "      <th>Cabin</th>\n",
       "      <th>Destination</th>\n",
       "      <th>Age</th>\n",
       "      <th>VIP</th>\n",
       "      <th>RoomService</th>\n",
       "      <th>FoodCourt</th>\n",
       "      <th>ShoppingMall</th>\n",
       "      <th>Spa</th>\n",
       "      <th>VRDeck</th>\n",
       "      <th>Transported</th>\n",
       "      <th>CabinLetter1</th>\n",
       "      <th>CabinLetter2</th>\n",
       "      <th>CabinNumber</th>\n",
       "    </tr>\n",
       "  </thead>\n",
       "  <tbody>\n",
       "    <tr>\n",
       "      <th>0</th>\n",
       "      <td>0001_01</td>\n",
       "      <td>Europa</td>\n",
       "      <td>False</td>\n",
       "      <td>B/0/P</td>\n",
       "      <td>TRAPPIST-1e</td>\n",
       "      <td>39.0</td>\n",
       "      <td>False</td>\n",
       "      <td>0.0</td>\n",
       "      <td>0.0</td>\n",
       "      <td>0.0</td>\n",
       "      <td>0.0</td>\n",
       "      <td>0.0</td>\n",
       "      <td>False</td>\n",
       "      <td>B</td>\n",
       "      <td>P</td>\n",
       "      <td>0</td>\n",
       "    </tr>\n",
       "    <tr>\n",
       "      <th>1</th>\n",
       "      <td>0002_01</td>\n",
       "      <td>Earth</td>\n",
       "      <td>False</td>\n",
       "      <td>F/0/S</td>\n",
       "      <td>TRAPPIST-1e</td>\n",
       "      <td>24.0</td>\n",
       "      <td>False</td>\n",
       "      <td>109.0</td>\n",
       "      <td>9.0</td>\n",
       "      <td>25.0</td>\n",
       "      <td>549.0</td>\n",
       "      <td>44.0</td>\n",
       "      <td>True</td>\n",
       "      <td>F</td>\n",
       "      <td>S</td>\n",
       "      <td>0</td>\n",
       "    </tr>\n",
       "    <tr>\n",
       "      <th>2</th>\n",
       "      <td>0003_01</td>\n",
       "      <td>Europa</td>\n",
       "      <td>False</td>\n",
       "      <td>A/0/S</td>\n",
       "      <td>TRAPPIST-1e</td>\n",
       "      <td>58.0</td>\n",
       "      <td>True</td>\n",
       "      <td>43.0</td>\n",
       "      <td>3576.0</td>\n",
       "      <td>0.0</td>\n",
       "      <td>6715.0</td>\n",
       "      <td>49.0</td>\n",
       "      <td>False</td>\n",
       "      <td>A</td>\n",
       "      <td>S</td>\n",
       "      <td>0</td>\n",
       "    </tr>\n",
       "    <tr>\n",
       "      <th>3</th>\n",
       "      <td>0003_02</td>\n",
       "      <td>Europa</td>\n",
       "      <td>False</td>\n",
       "      <td>A/0/S</td>\n",
       "      <td>TRAPPIST-1e</td>\n",
       "      <td>33.0</td>\n",
       "      <td>False</td>\n",
       "      <td>0.0</td>\n",
       "      <td>1283.0</td>\n",
       "      <td>371.0</td>\n",
       "      <td>3329.0</td>\n",
       "      <td>193.0</td>\n",
       "      <td>False</td>\n",
       "      <td>A</td>\n",
       "      <td>S</td>\n",
       "      <td>0</td>\n",
       "    </tr>\n",
       "    <tr>\n",
       "      <th>4</th>\n",
       "      <td>0004_01</td>\n",
       "      <td>Earth</td>\n",
       "      <td>False</td>\n",
       "      <td>F/1/S</td>\n",
       "      <td>TRAPPIST-1e</td>\n",
       "      <td>16.0</td>\n",
       "      <td>False</td>\n",
       "      <td>303.0</td>\n",
       "      <td>70.0</td>\n",
       "      <td>151.0</td>\n",
       "      <td>565.0</td>\n",
       "      <td>2.0</td>\n",
       "      <td>True</td>\n",
       "      <td>F</td>\n",
       "      <td>S</td>\n",
       "      <td>1</td>\n",
       "    </tr>\n",
       "  </tbody>\n",
       "</table>\n",
       "</div>"
      ],
      "text/plain": [
       "  PassengerId HomePlanet CryoSleep  Cabin  Destination   Age    VIP  \\\n",
       "0     0001_01     Europa     False  B/0/P  TRAPPIST-1e  39.0  False   \n",
       "1     0002_01      Earth     False  F/0/S  TRAPPIST-1e  24.0  False   \n",
       "2     0003_01     Europa     False  A/0/S  TRAPPIST-1e  58.0   True   \n",
       "3     0003_02     Europa     False  A/0/S  TRAPPIST-1e  33.0  False   \n",
       "4     0004_01      Earth     False  F/1/S  TRAPPIST-1e  16.0  False   \n",
       "\n",
       "   RoomService  FoodCourt  ShoppingMall     Spa  VRDeck  Transported  \\\n",
       "0          0.0        0.0           0.0     0.0     0.0        False   \n",
       "1        109.0        9.0          25.0   549.0    44.0         True   \n",
       "2         43.0     3576.0           0.0  6715.0    49.0        False   \n",
       "3          0.0     1283.0         371.0  3329.0   193.0        False   \n",
       "4        303.0       70.0         151.0   565.0     2.0         True   \n",
       "\n",
       "  CabinLetter1 CabinLetter2 CabinNumber  \n",
       "0            B            P           0  \n",
       "1            F            S           0  \n",
       "2            A            S           0  \n",
       "3            A            S           0  \n",
       "4            F            S           1  "
      ]
     },
     "execution_count": 2127,
     "metadata": {},
     "output_type": "execute_result"
    }
   ],
   "source": [
    "train_df.head()"
   ]
  },
  {
   "cell_type": "code",
   "execution_count": 2128,
   "metadata": {},
   "outputs": [
    {
     "data": {
      "text/html": [
       "<div>\n",
       "<style scoped>\n",
       "    .dataframe tbody tr th:only-of-type {\n",
       "        vertical-align: middle;\n",
       "    }\n",
       "\n",
       "    .dataframe tbody tr th {\n",
       "        vertical-align: top;\n",
       "    }\n",
       "\n",
       "    .dataframe thead th {\n",
       "        text-align: right;\n",
       "    }\n",
       "</style>\n",
       "<table border=\"1\" class=\"dataframe\">\n",
       "  <thead>\n",
       "    <tr style=\"text-align: right;\">\n",
       "      <th></th>\n",
       "      <th>CabinLetter1</th>\n",
       "      <th>Transported</th>\n",
       "    </tr>\n",
       "  </thead>\n",
       "  <tbody>\n",
       "    <tr>\n",
       "      <th>0</th>\n",
       "      <td>A</td>\n",
       "      <td>0.496094</td>\n",
       "    </tr>\n",
       "    <tr>\n",
       "      <th>1</th>\n",
       "      <td>B</td>\n",
       "      <td>0.734275</td>\n",
       "    </tr>\n",
       "    <tr>\n",
       "      <th>2</th>\n",
       "      <td>C</td>\n",
       "      <td>0.680054</td>\n",
       "    </tr>\n",
       "    <tr>\n",
       "      <th>3</th>\n",
       "      <td>D</td>\n",
       "      <td>0.433054</td>\n",
       "    </tr>\n",
       "    <tr>\n",
       "      <th>4</th>\n",
       "      <td>E</td>\n",
       "      <td>0.357306</td>\n",
       "    </tr>\n",
       "    <tr>\n",
       "      <th>5</th>\n",
       "      <td>F</td>\n",
       "      <td>0.439871</td>\n",
       "    </tr>\n",
       "    <tr>\n",
       "      <th>6</th>\n",
       "      <td>G</td>\n",
       "      <td>0.516217</td>\n",
       "    </tr>\n",
       "    <tr>\n",
       "      <th>7</th>\n",
       "      <td>T</td>\n",
       "      <td>0.200000</td>\n",
       "    </tr>\n",
       "    <tr>\n",
       "      <th>8</th>\n",
       "      <td>nan</td>\n",
       "      <td>0.502513</td>\n",
       "    </tr>\n",
       "  </tbody>\n",
       "</table>\n",
       "</div>"
      ],
      "text/plain": [
       "  CabinLetter1  Transported\n",
       "0            A     0.496094\n",
       "1            B     0.734275\n",
       "2            C     0.680054\n",
       "3            D     0.433054\n",
       "4            E     0.357306\n",
       "5            F     0.439871\n",
       "6            G     0.516217\n",
       "7            T     0.200000\n",
       "8          nan     0.502513"
      ]
     },
     "execution_count": 2128,
     "metadata": {},
     "output_type": "execute_result"
    }
   ],
   "source": [
    "train_df[['CabinLetter1', 'Transported']].groupby(['CabinLetter1'], as_index=False).mean()"
   ]
  },
  {
   "cell_type": "code",
   "execution_count": 2129,
   "metadata": {},
   "outputs": [
    {
     "data": {
      "text/html": [
       "<div>\n",
       "<style scoped>\n",
       "    .dataframe tbody tr th:only-of-type {\n",
       "        vertical-align: middle;\n",
       "    }\n",
       "\n",
       "    .dataframe tbody tr th {\n",
       "        vertical-align: top;\n",
       "    }\n",
       "\n",
       "    .dataframe thead th {\n",
       "        text-align: right;\n",
       "    }\n",
       "</style>\n",
       "<table border=\"1\" class=\"dataframe\">\n",
       "  <thead>\n",
       "    <tr style=\"text-align: right;\">\n",
       "      <th></th>\n",
       "      <th>CabinLetter2</th>\n",
       "      <th>Transported</th>\n",
       "    </tr>\n",
       "  </thead>\n",
       "  <tbody>\n",
       "    <tr>\n",
       "      <th>0</th>\n",
       "      <td>P</td>\n",
       "      <td>0.451260</td>\n",
       "    </tr>\n",
       "    <tr>\n",
       "      <th>1</th>\n",
       "      <td>S</td>\n",
       "      <td>0.555037</td>\n",
       "    </tr>\n",
       "    <tr>\n",
       "      <th>2</th>\n",
       "      <td>nan</td>\n",
       "      <td>0.502513</td>\n",
       "    </tr>\n",
       "  </tbody>\n",
       "</table>\n",
       "</div>"
      ],
      "text/plain": [
       "  CabinLetter2  Transported\n",
       "0            P     0.451260\n",
       "1            S     0.555037\n",
       "2          nan     0.502513"
      ]
     },
     "execution_count": 2129,
     "metadata": {},
     "output_type": "execute_result"
    }
   ],
   "source": [
    "train_df[['CabinLetter2', 'Transported']].groupby(['CabinLetter2'], as_index=False).mean()"
   ]
  },
  {
   "cell_type": "markdown",
   "metadata": {},
   "source": [
    "Lets drop Cabin feature. It's no need now"
   ]
  },
  {
   "cell_type": "code",
   "execution_count": 2130,
   "metadata": {},
   "outputs": [],
   "source": [
    "for dataset in combine:\n",
    "    dataset.drop('Cabin', axis=1, inplace=True)\n",
    "combine = [train_df,test_df]"
   ]
  },
  {
   "cell_type": "markdown",
   "metadata": {},
   "source": [
    "#### __Completing a categorical feature__"
   ]
  },
  {
   "cell_type": "markdown",
   "metadata": {},
   "source": [
    "But there is a problem with Cabbin letters and Cabin number features. Because there are some missing values. So we want to fill these with most frequently values."
   ]
  },
  {
   "cell_type": "code",
   "execution_count": 2131,
   "metadata": {},
   "outputs": [
    {
     "data": {
      "text/plain": [
       "PassengerId       0\n",
       "HomePlanet      201\n",
       "CryoSleep       217\n",
       "Destination     182\n",
       "Age             179\n",
       "VIP             203\n",
       "RoomService     181\n",
       "FoodCourt       183\n",
       "ShoppingMall    208\n",
       "Spa             183\n",
       "VRDeck          188\n",
       "Transported       0\n",
       "CabinLetter1      0\n",
       "CabinLetter2      0\n",
       "CabinNumber       0\n",
       "dtype: int64"
      ]
     },
     "execution_count": 2131,
     "metadata": {},
     "output_type": "execute_result"
    }
   ],
   "source": [
    "train_df.isnull().sum()"
   ]
  },
  {
   "cell_type": "markdown",
   "metadata": {},
   "source": [
    "This shows there isn't any null values in CabinLetter features. So let's change their values manually"
   ]
  },
  {
   "cell_type": "code",
   "execution_count": 2132,
   "metadata": {},
   "outputs": [
    {
     "data": {
      "text/plain": [
       "('F', 'S')"
      ]
     },
     "execution_count": 2132,
     "metadata": {},
     "output_type": "execute_result"
    }
   ],
   "source": [
    "freq_cb1 = train_df.CabinLetter1.dropna().mode()[0]\n",
    "freq_cb2 = train_df.CabinLetter2.dropna().mode()[0]\n",
    "freq_cb1, freq_cb2"
   ]
  },
  {
   "cell_type": "code",
   "execution_count": 2133,
   "metadata": {},
   "outputs": [],
   "source": [
    "for dataset in combine:\n",
    "    dataset['CabinLetter1'] = dataset.CabinLetter1.replace('nan', freq_cb1)\n",
    "    dataset['CabinLetter2'] = dataset.CabinLetter2.replace('nan', freq_cb2)\n",
    "    dataset['CabinNumber'] = (dataset['CabinNumber'].replace('nan', dataset.CabinNumber.median())).astype(int)\n",
    "combine = [train_df,test_df]\n"
   ]
  },
  {
   "cell_type": "code",
   "execution_count": 2134,
   "metadata": {},
   "outputs": [
    {
     "data": {
      "text/plain": [
       "array(['B', 'F', 'A', 'G', 'E', 'D', 'C', 'T'], dtype=object)"
      ]
     },
     "execution_count": 2134,
     "metadata": {},
     "output_type": "execute_result"
    }
   ],
   "source": [
    "train_df.CabinLetter1.unique()"
   ]
  },
  {
   "cell_type": "code",
   "execution_count": 2135,
   "metadata": {},
   "outputs": [
    {
     "data": {
      "text/plain": [
       "array(['P', 'S'], dtype=object)"
      ]
     },
     "execution_count": 2135,
     "metadata": {},
     "output_type": "execute_result"
    }
   ],
   "source": [
    "train_df.CabinLetter2.unique()"
   ]
  },
  {
   "cell_type": "markdown",
   "metadata": {},
   "source": [
    "#### __Complleting Categorical features__"
   ]
  },
  {
   "cell_type": "code",
   "execution_count": 2136,
   "metadata": {},
   "outputs": [
    {
     "data": {
      "text/plain": [
       "PassengerId       0\n",
       "HomePlanet      201\n",
       "CryoSleep       217\n",
       "Destination     182\n",
       "Age             179\n",
       "VIP             203\n",
       "RoomService     181\n",
       "FoodCourt       183\n",
       "ShoppingMall    208\n",
       "Spa             183\n",
       "VRDeck          188\n",
       "Transported       0\n",
       "CabinLetter1      0\n",
       "CabinLetter2      0\n",
       "CabinNumber       0\n",
       "dtype: int64"
      ]
     },
     "execution_count": 2136,
     "metadata": {},
     "output_type": "execute_result"
    }
   ],
   "source": [
    "train_df.isnull().sum()"
   ]
  },
  {
   "cell_type": "markdown",
   "metadata": {},
   "source": [
    "__HomePlanet__"
   ]
  },
  {
   "cell_type": "markdown",
   "metadata": {},
   "source": [
    "Lets fill empty values in HomePlanet feature with freq planet."
   ]
  },
  {
   "cell_type": "code",
   "execution_count": 2137,
   "metadata": {},
   "outputs": [],
   "source": [
    "freq_planet = train_df.HomePlanet.dropna().mode()[0]"
   ]
  },
  {
   "cell_type": "code",
   "execution_count": 2138,
   "metadata": {},
   "outputs": [
    {
     "data": {
      "text/html": [
       "<div>\n",
       "<style scoped>\n",
       "    .dataframe tbody tr th:only-of-type {\n",
       "        vertical-align: middle;\n",
       "    }\n",
       "\n",
       "    .dataframe tbody tr th {\n",
       "        vertical-align: top;\n",
       "    }\n",
       "\n",
       "    .dataframe thead th {\n",
       "        text-align: right;\n",
       "    }\n",
       "</style>\n",
       "<table border=\"1\" class=\"dataframe\">\n",
       "  <thead>\n",
       "    <tr style=\"text-align: right;\">\n",
       "      <th></th>\n",
       "      <th>HomePlanet</th>\n",
       "      <th>Transported</th>\n",
       "    </tr>\n",
       "  </thead>\n",
       "  <tbody>\n",
       "    <tr>\n",
       "      <th>1</th>\n",
       "      <td>Europa</td>\n",
       "      <td>0.658846</td>\n",
       "    </tr>\n",
       "    <tr>\n",
       "      <th>2</th>\n",
       "      <td>Mars</td>\n",
       "      <td>0.523024</td>\n",
       "    </tr>\n",
       "    <tr>\n",
       "      <th>0</th>\n",
       "      <td>Earth</td>\n",
       "      <td>0.427649</td>\n",
       "    </tr>\n",
       "  </tbody>\n",
       "</table>\n",
       "</div>"
      ],
      "text/plain": [
       "  HomePlanet  Transported\n",
       "1     Europa     0.658846\n",
       "2       Mars     0.523024\n",
       "0      Earth     0.427649"
      ]
     },
     "execution_count": 2138,
     "metadata": {},
     "output_type": "execute_result"
    }
   ],
   "source": [
    "for dataset in combine:\n",
    "    dataset['HomePlanet'] = dataset['HomePlanet'].fillna(freq_planet)\n",
    "combine = [train_df,test_df]\n",
    "train_df[['HomePlanet', 'Transported']].groupby(['HomePlanet'], as_index=False).mean().sort_values(by='Transported', ascending=False)"
   ]
  },
  {
   "cell_type": "markdown",
   "metadata": {},
   "source": [
    "__CryoSleep__"
   ]
  },
  {
   "cell_type": "markdown",
   "metadata": {},
   "source": [
    "Most passangers were in  without cryo sleeping. So lets fill empty cryosleep values with false"
   ]
  },
  {
   "cell_type": "code",
   "execution_count": 2139,
   "metadata": {},
   "outputs": [
    {
     "data": {
      "text/plain": [
       "False"
      ]
     },
     "execution_count": 2139,
     "metadata": {},
     "output_type": "execute_result"
    }
   ],
   "source": [
    "freq_sleep = train_df.CryoSleep.dropna().mode()[0]\n",
    "freq_sleep"
   ]
  },
  {
   "cell_type": "code",
   "execution_count": 2140,
   "metadata": {},
   "outputs": [
    {
     "name": "stderr",
     "output_type": "stream",
     "text": [
      "c:\\Users\\Anjana Kavidu\\AppData\\Local\\Programs\\Python\\Python310\\lib\\site-packages\\IPython\\core\\displayhook.py:275: UserWarning: Output cache limit (currently 1000 entries) hit.\n",
      "Flushing oldest 200 entries.\n",
      "  warn('Output cache limit (currently {sz} entries) hit.\\n'\n"
     ]
    },
    {
     "data": {
      "text/html": [
       "<div>\n",
       "<style scoped>\n",
       "    .dataframe tbody tr th:only-of-type {\n",
       "        vertical-align: middle;\n",
       "    }\n",
       "\n",
       "    .dataframe tbody tr th {\n",
       "        vertical-align: top;\n",
       "    }\n",
       "\n",
       "    .dataframe thead th {\n",
       "        text-align: right;\n",
       "    }\n",
       "</style>\n",
       "<table border=\"1\" class=\"dataframe\">\n",
       "  <thead>\n",
       "    <tr style=\"text-align: right;\">\n",
       "      <th></th>\n",
       "      <th>CryoSleep</th>\n",
       "      <th>Transported</th>\n",
       "    </tr>\n",
       "  </thead>\n",
       "  <tbody>\n",
       "    <tr>\n",
       "      <th>1</th>\n",
       "      <td>True</td>\n",
       "      <td>0.817583</td>\n",
       "    </tr>\n",
       "    <tr>\n",
       "      <th>0</th>\n",
       "      <td>False</td>\n",
       "      <td>0.335042</td>\n",
       "    </tr>\n",
       "  </tbody>\n",
       "</table>\n",
       "</div>"
      ],
      "text/plain": [
       "   CryoSleep  Transported\n",
       "1       True     0.817583\n",
       "0      False     0.335042"
      ]
     },
     "execution_count": 2140,
     "metadata": {},
     "output_type": "execute_result"
    }
   ],
   "source": [
    "for dataset in combine:\n",
    "    dataset['CryoSleep'] = dataset['CryoSleep'].fillna(freq_sleep)\n",
    "combine = [train_df,test_df]\n",
    "train_df[['CryoSleep', 'Transported']].groupby(['CryoSleep'], as_index=False).mean().sort_values(by='Transported', ascending=False)"
   ]
  },
  {
   "cell_type": "markdown",
   "metadata": {},
   "source": [
    "__Destination__"
   ]
  },
  {
   "cell_type": "markdown",
   "metadata": {},
   "source": [
    "Also fill empty destination values with frequently destination"
   ]
  },
  {
   "cell_type": "code",
   "execution_count": 2141,
   "metadata": {},
   "outputs": [
    {
     "data": {
      "text/plain": [
       "'TRAPPIST-1e'"
      ]
     },
     "execution_count": 2141,
     "metadata": {},
     "output_type": "execute_result"
    }
   ],
   "source": [
    "freq_destination = train_df.Destination.dropna().mode()[0]\n",
    "freq_destination"
   ]
  },
  {
   "cell_type": "code",
   "execution_count": 2142,
   "metadata": {},
   "outputs": [
    {
     "data": {
      "text/html": [
       "<div>\n",
       "<style scoped>\n",
       "    .dataframe tbody tr th:only-of-type {\n",
       "        vertical-align: middle;\n",
       "    }\n",
       "\n",
       "    .dataframe tbody tr th {\n",
       "        vertical-align: top;\n",
       "    }\n",
       "\n",
       "    .dataframe thead th {\n",
       "        text-align: right;\n",
       "    }\n",
       "</style>\n",
       "<table border=\"1\" class=\"dataframe\">\n",
       "  <thead>\n",
       "    <tr style=\"text-align: right;\">\n",
       "      <th></th>\n",
       "      <th>Destination</th>\n",
       "      <th>Transported</th>\n",
       "    </tr>\n",
       "  </thead>\n",
       "  <tbody>\n",
       "    <tr>\n",
       "      <th>0</th>\n",
       "      <td>55 Cancri e</td>\n",
       "      <td>0.610000</td>\n",
       "    </tr>\n",
       "    <tr>\n",
       "      <th>1</th>\n",
       "      <td>PSO J318.5-22</td>\n",
       "      <td>0.503769</td>\n",
       "    </tr>\n",
       "    <tr>\n",
       "      <th>2</th>\n",
       "      <td>TRAPPIST-1e</td>\n",
       "      <td>0.472199</td>\n",
       "    </tr>\n",
       "  </tbody>\n",
       "</table>\n",
       "</div>"
      ],
      "text/plain": [
       "     Destination  Transported\n",
       "0    55 Cancri e     0.610000\n",
       "1  PSO J318.5-22     0.503769\n",
       "2    TRAPPIST-1e     0.472199"
      ]
     },
     "execution_count": 2142,
     "metadata": {},
     "output_type": "execute_result"
    }
   ],
   "source": [
    "for dataset in combine:\n",
    "    dataset['Destination'] = dataset['Destination'].fillna(freq_destination)\n",
    "combine = [train_df,test_df]\n",
    "train_df[['Destination', 'Transported']].groupby(['Destination'], as_index=False).mean().sort_values(by='Transported', ascending=False)"
   ]
  },
  {
   "cell_type": "markdown",
   "metadata": {},
   "source": [
    "__VIP__"
   ]
  },
  {
   "cell_type": "markdown",
   "metadata": {},
   "source": [
    "Fill vip empty values with most frequency choice"
   ]
  },
  {
   "cell_type": "code",
   "execution_count": 2143,
   "metadata": {},
   "outputs": [
    {
     "data": {
      "text/plain": [
       "False"
      ]
     },
     "execution_count": 2143,
     "metadata": {},
     "output_type": "execute_result"
    }
   ],
   "source": [
    "freq_vip = train_df['VIP'].dropna().mode()[0]\n",
    "freq_vip"
   ]
  },
  {
   "cell_type": "code",
   "execution_count": 2144,
   "metadata": {},
   "outputs": [
    {
     "data": {
      "text/html": [
       "<div>\n",
       "<style scoped>\n",
       "    .dataframe tbody tr th:only-of-type {\n",
       "        vertical-align: middle;\n",
       "    }\n",
       "\n",
       "    .dataframe tbody tr th {\n",
       "        vertical-align: top;\n",
       "    }\n",
       "\n",
       "    .dataframe thead th {\n",
       "        text-align: right;\n",
       "    }\n",
       "</style>\n",
       "<table border=\"1\" class=\"dataframe\">\n",
       "  <thead>\n",
       "    <tr style=\"text-align: right;\">\n",
       "      <th></th>\n",
       "      <th>VIP</th>\n",
       "      <th>Transported</th>\n",
       "    </tr>\n",
       "  </thead>\n",
       "  <tbody>\n",
       "    <tr>\n",
       "      <th>0</th>\n",
       "      <td>False</td>\n",
       "      <td>0.506475</td>\n",
       "    </tr>\n",
       "    <tr>\n",
       "      <th>1</th>\n",
       "      <td>True</td>\n",
       "      <td>0.381910</td>\n",
       "    </tr>\n",
       "  </tbody>\n",
       "</table>\n",
       "</div>"
      ],
      "text/plain": [
       "     VIP  Transported\n",
       "0  False     0.506475\n",
       "1   True     0.381910"
      ]
     },
     "execution_count": 2144,
     "metadata": {},
     "output_type": "execute_result"
    }
   ],
   "source": [
    "for dataset in combine:\n",
    "    dataset['VIP'] = dataset['VIP'].fillna(freq_vip)\n",
    "combine = [train_df,test_df]\n",
    "train_df[['VIP', 'Transported']].groupby(['VIP'], as_index=False).mean().sort_values(by='Transported', ascending=False)"
   ]
  },
  {
   "cell_type": "markdown",
   "metadata": {},
   "source": [
    "#### __Complete Numerical features__"
   ]
  },
  {
   "cell_type": "markdown",
   "metadata": {},
   "source": [
    "Now we should fill null empty values in numerical features. There are several ways doing that"
   ]
  },
  {
   "cell_type": "markdown",
   "metadata": {},
   "source": [
    "1. Generate random value between mean and standard deviation.\n",
    "2. Guessing missing values by using other correlated features.(Gender, Pclass)\n",
    "3. Combining 1 and 2 methods and use random value between mean and std base on set of Pclass and Gender combinations"
   ]
  },
  {
   "cell_type": "markdown",
   "metadata": {},
   "source": [
    "Method 1 introduce a random noice for our dataset. But for method 2 and 3 still I can't find a good correlation between numerical features. So I fill these numeric empty values using their median"
   ]
  },
  {
   "cell_type": "markdown",
   "metadata": {},
   "source": [
    "__Instead of filling one by one I'll fill all with their median__"
   ]
  },
  {
   "cell_type": "code",
   "execution_count": 2145,
   "metadata": {},
   "outputs": [],
   "source": [
    "for dataset in combine:\n",
    "    dataset['Age'] = dataset['Age'].fillna(dataset.Age.median())\n",
    "    dataset['RoomService'] = dataset['RoomService'].fillna(dataset.RoomService.median())\n",
    "    dataset['FoodCourt'] = dataset['FoodCourt'].fillna(dataset.FoodCourt.median())\n",
    "    dataset['ShoppingMall'] = dataset['ShoppingMall'].fillna(dataset.ShoppingMall.median())\n",
    "    dataset['Spa'] = dataset['Spa'].fillna(dataset.Spa.median())\n",
    "    dataset['VRDeck'] = dataset['VRDeck'].fillna(dataset.VRDeck.median())\n",
    "combine =[train_df,test_df]"
   ]
  },
  {
   "cell_type": "code",
   "execution_count": 2146,
   "metadata": {},
   "outputs": [
    {
     "data": {
      "text/plain": [
       "PassengerId     0\n",
       "HomePlanet      0\n",
       "CryoSleep       0\n",
       "Destination     0\n",
       "Age             0\n",
       "VIP             0\n",
       "RoomService     0\n",
       "FoodCourt       0\n",
       "ShoppingMall    0\n",
       "Spa             0\n",
       "VRDeck          0\n",
       "Transported     0\n",
       "CabinLetter1    0\n",
       "CabinLetter2    0\n",
       "CabinNumber     0\n",
       "dtype: int64"
      ]
     },
     "execution_count": 2146,
     "metadata": {},
     "output_type": "execute_result"
    }
   ],
   "source": [
    "train_df.isnull().sum()"
   ]
  },
  {
   "cell_type": "markdown",
   "metadata": {},
   "source": [
    "#### __Creating and converting numerical features__"
   ]
  },
  {
   "cell_type": "markdown",
   "metadata": {},
   "source": [
    "There are huge range for numerical features.(outliers) So we can create a ranges for each of them and change their values according to ranges."
   ]
  },
  {
   "cell_type": "markdown",
   "metadata": {},
   "source": [
    "* We hope to do this for these features. \n",
    "    * Age\n",
    "    * RoomService\n",
    "    * FoodCourt\n",
    "    * ShoppingMall\n",
    "    * Spa\n",
    "    * VRDeck\n",
    "    * CabinNumber"
   ]
  },
  {
   "cell_type": "markdown",
   "metadata": {},
   "source": [
    "__Age__"
   ]
  },
  {
   "cell_type": "markdown",
   "metadata": {},
   "source": [
    "Create a AgeBand feature"
   ]
  },
  {
   "cell_type": "code",
   "execution_count": 2147,
   "metadata": {},
   "outputs": [
    {
     "data": {
      "text/html": [
       "<div>\n",
       "<style scoped>\n",
       "    .dataframe tbody tr th:only-of-type {\n",
       "        vertical-align: middle;\n",
       "    }\n",
       "\n",
       "    .dataframe tbody tr th {\n",
       "        vertical-align: top;\n",
       "    }\n",
       "\n",
       "    .dataframe thead th {\n",
       "        text-align: right;\n",
       "    }\n",
       "</style>\n",
       "<table border=\"1\" class=\"dataframe\">\n",
       "  <thead>\n",
       "    <tr style=\"text-align: right;\">\n",
       "      <th></th>\n",
       "      <th>AgeBand</th>\n",
       "      <th>Transported</th>\n",
       "    </tr>\n",
       "  </thead>\n",
       "  <tbody>\n",
       "    <tr>\n",
       "      <th>0</th>\n",
       "      <td>(-0.079, 9.875]</td>\n",
       "      <td>0.711340</td>\n",
       "    </tr>\n",
       "    <tr>\n",
       "      <th>1</th>\n",
       "      <td>(9.875, 19.75]</td>\n",
       "      <td>0.532792</td>\n",
       "    </tr>\n",
       "    <tr>\n",
       "      <th>2</th>\n",
       "      <td>(19.75, 29.625]</td>\n",
       "      <td>0.471268</td>\n",
       "    </tr>\n",
       "    <tr>\n",
       "      <th>3</th>\n",
       "      <td>(29.625, 39.5]</td>\n",
       "      <td>0.458790</td>\n",
       "    </tr>\n",
       "    <tr>\n",
       "      <th>4</th>\n",
       "      <td>(39.5, 49.375]</td>\n",
       "      <td>0.506679</td>\n",
       "    </tr>\n",
       "    <tr>\n",
       "      <th>5</th>\n",
       "      <td>(49.375, 59.25]</td>\n",
       "      <td>0.493716</td>\n",
       "    </tr>\n",
       "    <tr>\n",
       "      <th>6</th>\n",
       "      <td>(59.25, 69.125]</td>\n",
       "      <td>0.475962</td>\n",
       "    </tr>\n",
       "    <tr>\n",
       "      <th>7</th>\n",
       "      <td>(69.125, 79.0]</td>\n",
       "      <td>0.434783</td>\n",
       "    </tr>\n",
       "  </tbody>\n",
       "</table>\n",
       "</div>"
      ],
      "text/plain": [
       "           AgeBand  Transported\n",
       "0  (-0.079, 9.875]     0.711340\n",
       "1   (9.875, 19.75]     0.532792\n",
       "2  (19.75, 29.625]     0.471268\n",
       "3   (29.625, 39.5]     0.458790\n",
       "4   (39.5, 49.375]     0.506679\n",
       "5  (49.375, 59.25]     0.493716\n",
       "6  (59.25, 69.125]     0.475962\n",
       "7   (69.125, 79.0]     0.434783"
      ]
     },
     "execution_count": 2147,
     "metadata": {},
     "output_type": "execute_result"
    }
   ],
   "source": [
    "train_df['AgeBand'] = pd.cut(train_df['Age'], 8)\n",
    "train_df[['AgeBand', 'Transported']].groupby(['AgeBand'], as_index=False).mean().sort_values(by='AgeBand', ascending=True)"
   ]
  },
  {
   "cell_type": "markdown",
   "metadata": {},
   "source": [
    "Convert Age using AgeBand feature and drop it after"
   ]
  },
  {
   "cell_type": "code",
   "execution_count": 2148,
   "metadata": {},
   "outputs": [
    {
     "data": {
      "text/html": [
       "<div>\n",
       "<style scoped>\n",
       "    .dataframe tbody tr th:only-of-type {\n",
       "        vertical-align: middle;\n",
       "    }\n",
       "\n",
       "    .dataframe tbody tr th {\n",
       "        vertical-align: top;\n",
       "    }\n",
       "\n",
       "    .dataframe thead th {\n",
       "        text-align: right;\n",
       "    }\n",
       "</style>\n",
       "<table border=\"1\" class=\"dataframe\">\n",
       "  <thead>\n",
       "    <tr style=\"text-align: right;\">\n",
       "      <th></th>\n",
       "      <th>PassengerId</th>\n",
       "      <th>HomePlanet</th>\n",
       "      <th>CryoSleep</th>\n",
       "      <th>Destination</th>\n",
       "      <th>Age</th>\n",
       "      <th>VIP</th>\n",
       "      <th>RoomService</th>\n",
       "      <th>FoodCourt</th>\n",
       "      <th>ShoppingMall</th>\n",
       "      <th>Spa</th>\n",
       "      <th>VRDeck</th>\n",
       "      <th>Transported</th>\n",
       "      <th>CabinLetter1</th>\n",
       "      <th>CabinLetter2</th>\n",
       "      <th>CabinNumber</th>\n",
       "      <th>AgeBand</th>\n",
       "    </tr>\n",
       "  </thead>\n",
       "  <tbody>\n",
       "    <tr>\n",
       "      <th>0</th>\n",
       "      <td>0001_01</td>\n",
       "      <td>Europa</td>\n",
       "      <td>False</td>\n",
       "      <td>TRAPPIST-1e</td>\n",
       "      <td>3</td>\n",
       "      <td>False</td>\n",
       "      <td>0.0</td>\n",
       "      <td>0.0</td>\n",
       "      <td>0.0</td>\n",
       "      <td>0.0</td>\n",
       "      <td>0.0</td>\n",
       "      <td>False</td>\n",
       "      <td>B</td>\n",
       "      <td>P</td>\n",
       "      <td>0</td>\n",
       "      <td>(29.625, 39.5]</td>\n",
       "    </tr>\n",
       "    <tr>\n",
       "      <th>1</th>\n",
       "      <td>0002_01</td>\n",
       "      <td>Earth</td>\n",
       "      <td>False</td>\n",
       "      <td>TRAPPIST-1e</td>\n",
       "      <td>2</td>\n",
       "      <td>False</td>\n",
       "      <td>109.0</td>\n",
       "      <td>9.0</td>\n",
       "      <td>25.0</td>\n",
       "      <td>549.0</td>\n",
       "      <td>44.0</td>\n",
       "      <td>True</td>\n",
       "      <td>F</td>\n",
       "      <td>S</td>\n",
       "      <td>0</td>\n",
       "      <td>(19.75, 29.625]</td>\n",
       "    </tr>\n",
       "    <tr>\n",
       "      <th>2</th>\n",
       "      <td>0003_01</td>\n",
       "      <td>Europa</td>\n",
       "      <td>False</td>\n",
       "      <td>TRAPPIST-1e</td>\n",
       "      <td>5</td>\n",
       "      <td>True</td>\n",
       "      <td>43.0</td>\n",
       "      <td>3576.0</td>\n",
       "      <td>0.0</td>\n",
       "      <td>6715.0</td>\n",
       "      <td>49.0</td>\n",
       "      <td>False</td>\n",
       "      <td>A</td>\n",
       "      <td>S</td>\n",
       "      <td>0</td>\n",
       "      <td>(49.375, 59.25]</td>\n",
       "    </tr>\n",
       "    <tr>\n",
       "      <th>3</th>\n",
       "      <td>0003_02</td>\n",
       "      <td>Europa</td>\n",
       "      <td>False</td>\n",
       "      <td>TRAPPIST-1e</td>\n",
       "      <td>3</td>\n",
       "      <td>False</td>\n",
       "      <td>0.0</td>\n",
       "      <td>1283.0</td>\n",
       "      <td>371.0</td>\n",
       "      <td>3329.0</td>\n",
       "      <td>193.0</td>\n",
       "      <td>False</td>\n",
       "      <td>A</td>\n",
       "      <td>S</td>\n",
       "      <td>0</td>\n",
       "      <td>(29.625, 39.5]</td>\n",
       "    </tr>\n",
       "    <tr>\n",
       "      <th>4</th>\n",
       "      <td>0004_01</td>\n",
       "      <td>Earth</td>\n",
       "      <td>False</td>\n",
       "      <td>TRAPPIST-1e</td>\n",
       "      <td>1</td>\n",
       "      <td>False</td>\n",
       "      <td>303.0</td>\n",
       "      <td>70.0</td>\n",
       "      <td>151.0</td>\n",
       "      <td>565.0</td>\n",
       "      <td>2.0</td>\n",
       "      <td>True</td>\n",
       "      <td>F</td>\n",
       "      <td>S</td>\n",
       "      <td>1</td>\n",
       "      <td>(9.875, 19.75]</td>\n",
       "    </tr>\n",
       "  </tbody>\n",
       "</table>\n",
       "</div>"
      ],
      "text/plain": [
       "  PassengerId HomePlanet  CryoSleep  Destination  Age    VIP  RoomService  \\\n",
       "0     0001_01     Europa      False  TRAPPIST-1e    3  False          0.0   \n",
       "1     0002_01      Earth      False  TRAPPIST-1e    2  False        109.0   \n",
       "2     0003_01     Europa      False  TRAPPIST-1e    5   True         43.0   \n",
       "3     0003_02     Europa      False  TRAPPIST-1e    3  False          0.0   \n",
       "4     0004_01      Earth      False  TRAPPIST-1e    1  False        303.0   \n",
       "\n",
       "   FoodCourt  ShoppingMall     Spa  VRDeck  Transported CabinLetter1  \\\n",
       "0        0.0           0.0     0.0     0.0        False            B   \n",
       "1        9.0          25.0   549.0    44.0         True            F   \n",
       "2     3576.0           0.0  6715.0    49.0        False            A   \n",
       "3     1283.0         371.0  3329.0   193.0        False            A   \n",
       "4       70.0         151.0   565.0     2.0         True            F   \n",
       "\n",
       "  CabinLetter2  CabinNumber          AgeBand  \n",
       "0            P            0   (29.625, 39.5]  \n",
       "1            S            0  (19.75, 29.625]  \n",
       "2            S            0  (49.375, 59.25]  \n",
       "3            S            0   (29.625, 39.5]  \n",
       "4            S            1   (9.875, 19.75]  "
      ]
     },
     "execution_count": 2148,
     "metadata": {},
     "output_type": "execute_result"
    }
   ],
   "source": [
    "for dataset in combine:\n",
    "    dataset.loc[dataset['Age'] <= 9.8, 'Age'] = 0\n",
    "    dataset.loc[(dataset['Age'] > 9.8) & (dataset['Age'] <= 19.7), 'Age'] = 1\n",
    "    dataset.loc[(dataset['Age'] > 19.7) & (dataset['Age'] <= 29.6), 'Age'] = 2\n",
    "    dataset.loc[(dataset['Age'] > 29.6) & (dataset['Age'] <= 39.5), 'Age'] = 3\n",
    "    dataset.loc[(dataset['Age'] > 39.5) & (dataset['Age'] <= 49.3), 'Age'] = 4\n",
    "    dataset.loc[(dataset['Age'] > 49.3) & (dataset['Age'] <= 59.2), 'Age'] = 5\n",
    "    dataset.loc[(dataset['Age'] > 59.2) & (dataset['Age'] <= 69.1), 'Age'] = 6\n",
    "    dataset.loc[dataset['Age'] > 69.1, 'Age'] = 7\n",
    "    dataset['Age'] = dataset['Age'].astype(int)\n",
    "combine = [train_df,test_df]\n",
    "train_df.head()"
   ]
  },
  {
   "cell_type": "markdown",
   "metadata": {},
   "source": [
    "__RoomService__"
   ]
  },
  {
   "cell_type": "markdown",
   "metadata": {},
   "source": [
    "Lets create a RoomService range feature"
   ]
  },
  {
   "cell_type": "code",
   "execution_count": 2149,
   "metadata": {},
   "outputs": [
    {
     "data": {
      "text/html": [
       "<div>\n",
       "<style scoped>\n",
       "    .dataframe tbody tr th:only-of-type {\n",
       "        vertical-align: middle;\n",
       "    }\n",
       "\n",
       "    .dataframe tbody tr th {\n",
       "        vertical-align: top;\n",
       "    }\n",
       "\n",
       "    .dataframe thead th {\n",
       "        text-align: right;\n",
       "    }\n",
       "</style>\n",
       "<table border=\"1\" class=\"dataframe\">\n",
       "  <thead>\n",
       "    <tr style=\"text-align: right;\">\n",
       "      <th></th>\n",
       "      <th>RSRange</th>\n",
       "      <th>Transported</th>\n",
       "    </tr>\n",
       "  </thead>\n",
       "  <tbody>\n",
       "    <tr>\n",
       "      <th>0</th>\n",
       "      <td>(-14.327, 1432.7]</td>\n",
       "      <td>0.520331</td>\n",
       "    </tr>\n",
       "    <tr>\n",
       "      <th>1</th>\n",
       "      <td>(1432.7, 2865.4]</td>\n",
       "      <td>0.129921</td>\n",
       "    </tr>\n",
       "    <tr>\n",
       "      <th>2</th>\n",
       "      <td>(2865.4, 4298.1]</td>\n",
       "      <td>0.107692</td>\n",
       "    </tr>\n",
       "    <tr>\n",
       "      <th>3</th>\n",
       "      <td>(4298.1, 5730.8]</td>\n",
       "      <td>0.000000</td>\n",
       "    </tr>\n",
       "    <tr>\n",
       "      <th>4</th>\n",
       "      <td>(5730.8, 7163.5]</td>\n",
       "      <td>0.000000</td>\n",
       "    </tr>\n",
       "    <tr>\n",
       "      <th>5</th>\n",
       "      <td>(7163.5, 8596.2]</td>\n",
       "      <td>0.000000</td>\n",
       "    </tr>\n",
       "    <tr>\n",
       "      <th>6</th>\n",
       "      <td>(8596.2, 10028.9]</td>\n",
       "      <td>0.000000</td>\n",
       "    </tr>\n",
       "    <tr>\n",
       "      <th>7</th>\n",
       "      <td>(10028.9, 11461.6]</td>\n",
       "      <td>NaN</td>\n",
       "    </tr>\n",
       "    <tr>\n",
       "      <th>8</th>\n",
       "      <td>(11461.6, 12894.3]</td>\n",
       "      <td>NaN</td>\n",
       "    </tr>\n",
       "    <tr>\n",
       "      <th>9</th>\n",
       "      <td>(12894.3, 14327.0]</td>\n",
       "      <td>0.000000</td>\n",
       "    </tr>\n",
       "  </tbody>\n",
       "</table>\n",
       "</div>"
      ],
      "text/plain": [
       "              RSRange  Transported\n",
       "0   (-14.327, 1432.7]     0.520331\n",
       "1    (1432.7, 2865.4]     0.129921\n",
       "2    (2865.4, 4298.1]     0.107692\n",
       "3    (4298.1, 5730.8]     0.000000\n",
       "4    (5730.8, 7163.5]     0.000000\n",
       "5    (7163.5, 8596.2]     0.000000\n",
       "6   (8596.2, 10028.9]     0.000000\n",
       "7  (10028.9, 11461.6]          NaN\n",
       "8  (11461.6, 12894.3]          NaN\n",
       "9  (12894.3, 14327.0]     0.000000"
      ]
     },
     "execution_count": 2149,
     "metadata": {},
     "output_type": "execute_result"
    }
   ],
   "source": [
    "train_df['RSRange'] = pd.cut(train_df['RoomService'], 10)\n",
    "train_df[['RSRange', 'Transported']].groupby(['RSRange'], as_index=False).mean().sort_values(by='RSRange', ascending=True)"
   ]
  },
  {
   "cell_type": "markdown",
   "metadata": {},
   "source": [
    "Lets convert RoomService values using RS range"
   ]
  },
  {
   "cell_type": "code",
   "execution_count": 2150,
   "metadata": {},
   "outputs": [
    {
     "data": {
      "text/html": [
       "<div>\n",
       "<style scoped>\n",
       "    .dataframe tbody tr th:only-of-type {\n",
       "        vertical-align: middle;\n",
       "    }\n",
       "\n",
       "    .dataframe tbody tr th {\n",
       "        vertical-align: top;\n",
       "    }\n",
       "\n",
       "    .dataframe thead th {\n",
       "        text-align: right;\n",
       "    }\n",
       "</style>\n",
       "<table border=\"1\" class=\"dataframe\">\n",
       "  <thead>\n",
       "    <tr style=\"text-align: right;\">\n",
       "      <th></th>\n",
       "      <th>PassengerId</th>\n",
       "      <th>HomePlanet</th>\n",
       "      <th>CryoSleep</th>\n",
       "      <th>Destination</th>\n",
       "      <th>Age</th>\n",
       "      <th>VIP</th>\n",
       "      <th>RoomService</th>\n",
       "      <th>FoodCourt</th>\n",
       "      <th>ShoppingMall</th>\n",
       "      <th>Spa</th>\n",
       "      <th>VRDeck</th>\n",
       "      <th>Transported</th>\n",
       "      <th>CabinLetter1</th>\n",
       "      <th>CabinLetter2</th>\n",
       "      <th>CabinNumber</th>\n",
       "      <th>AgeBand</th>\n",
       "      <th>RSRange</th>\n",
       "    </tr>\n",
       "  </thead>\n",
       "  <tbody>\n",
       "    <tr>\n",
       "      <th>0</th>\n",
       "      <td>0001_01</td>\n",
       "      <td>Europa</td>\n",
       "      <td>False</td>\n",
       "      <td>TRAPPIST-1e</td>\n",
       "      <td>3</td>\n",
       "      <td>False</td>\n",
       "      <td>0</td>\n",
       "      <td>0.0</td>\n",
       "      <td>0.0</td>\n",
       "      <td>0.0</td>\n",
       "      <td>0.0</td>\n",
       "      <td>False</td>\n",
       "      <td>B</td>\n",
       "      <td>P</td>\n",
       "      <td>0</td>\n",
       "      <td>(29.625, 39.5]</td>\n",
       "      <td>(-14.327, 1432.7]</td>\n",
       "    </tr>\n",
       "    <tr>\n",
       "      <th>1</th>\n",
       "      <td>0002_01</td>\n",
       "      <td>Earth</td>\n",
       "      <td>False</td>\n",
       "      <td>TRAPPIST-1e</td>\n",
       "      <td>2</td>\n",
       "      <td>False</td>\n",
       "      <td>0</td>\n",
       "      <td>9.0</td>\n",
       "      <td>25.0</td>\n",
       "      <td>549.0</td>\n",
       "      <td>44.0</td>\n",
       "      <td>True</td>\n",
       "      <td>F</td>\n",
       "      <td>S</td>\n",
       "      <td>0</td>\n",
       "      <td>(19.75, 29.625]</td>\n",
       "      <td>(-14.327, 1432.7]</td>\n",
       "    </tr>\n",
       "    <tr>\n",
       "      <th>2</th>\n",
       "      <td>0003_01</td>\n",
       "      <td>Europa</td>\n",
       "      <td>False</td>\n",
       "      <td>TRAPPIST-1e</td>\n",
       "      <td>5</td>\n",
       "      <td>True</td>\n",
       "      <td>0</td>\n",
       "      <td>3576.0</td>\n",
       "      <td>0.0</td>\n",
       "      <td>6715.0</td>\n",
       "      <td>49.0</td>\n",
       "      <td>False</td>\n",
       "      <td>A</td>\n",
       "      <td>S</td>\n",
       "      <td>0</td>\n",
       "      <td>(49.375, 59.25]</td>\n",
       "      <td>(-14.327, 1432.7]</td>\n",
       "    </tr>\n",
       "    <tr>\n",
       "      <th>3</th>\n",
       "      <td>0003_02</td>\n",
       "      <td>Europa</td>\n",
       "      <td>False</td>\n",
       "      <td>TRAPPIST-1e</td>\n",
       "      <td>3</td>\n",
       "      <td>False</td>\n",
       "      <td>0</td>\n",
       "      <td>1283.0</td>\n",
       "      <td>371.0</td>\n",
       "      <td>3329.0</td>\n",
       "      <td>193.0</td>\n",
       "      <td>False</td>\n",
       "      <td>A</td>\n",
       "      <td>S</td>\n",
       "      <td>0</td>\n",
       "      <td>(29.625, 39.5]</td>\n",
       "      <td>(-14.327, 1432.7]</td>\n",
       "    </tr>\n",
       "    <tr>\n",
       "      <th>4</th>\n",
       "      <td>0004_01</td>\n",
       "      <td>Earth</td>\n",
       "      <td>False</td>\n",
       "      <td>TRAPPIST-1e</td>\n",
       "      <td>1</td>\n",
       "      <td>False</td>\n",
       "      <td>0</td>\n",
       "      <td>70.0</td>\n",
       "      <td>151.0</td>\n",
       "      <td>565.0</td>\n",
       "      <td>2.0</td>\n",
       "      <td>True</td>\n",
       "      <td>F</td>\n",
       "      <td>S</td>\n",
       "      <td>1</td>\n",
       "      <td>(9.875, 19.75]</td>\n",
       "      <td>(-14.327, 1432.7]</td>\n",
       "    </tr>\n",
       "  </tbody>\n",
       "</table>\n",
       "</div>"
      ],
      "text/plain": [
       "  PassengerId HomePlanet  CryoSleep  Destination  Age    VIP  RoomService  \\\n",
       "0     0001_01     Europa      False  TRAPPIST-1e    3  False            0   \n",
       "1     0002_01      Earth      False  TRAPPIST-1e    2  False            0   \n",
       "2     0003_01     Europa      False  TRAPPIST-1e    5   True            0   \n",
       "3     0003_02     Europa      False  TRAPPIST-1e    3  False            0   \n",
       "4     0004_01      Earth      False  TRAPPIST-1e    1  False            0   \n",
       "\n",
       "   FoodCourt  ShoppingMall     Spa  VRDeck  Transported CabinLetter1  \\\n",
       "0        0.0           0.0     0.0     0.0        False            B   \n",
       "1        9.0          25.0   549.0    44.0         True            F   \n",
       "2     3576.0           0.0  6715.0    49.0        False            A   \n",
       "3     1283.0         371.0  3329.0   193.0        False            A   \n",
       "4       70.0         151.0   565.0     2.0         True            F   \n",
       "\n",
       "  CabinLetter2  CabinNumber          AgeBand            RSRange  \n",
       "0            P            0   (29.625, 39.5]  (-14.327, 1432.7]  \n",
       "1            S            0  (19.75, 29.625]  (-14.327, 1432.7]  \n",
       "2            S            0  (49.375, 59.25]  (-14.327, 1432.7]  \n",
       "3            S            0   (29.625, 39.5]  (-14.327, 1432.7]  \n",
       "4            S            1   (9.875, 19.75]  (-14.327, 1432.7]  "
      ]
     },
     "execution_count": 2150,
     "metadata": {},
     "output_type": "execute_result"
    }
   ],
   "source": [
    "for dataset in combine:\n",
    "    dataset.loc[dataset['RoomService'] <= 1432.7, 'RoomService'] = 0\n",
    "    dataset.loc[(dataset['RoomService'] > 1432.7) & (dataset['RoomService'] <= 2865.4), 'RoomService'] = 1\n",
    "    dataset.loc[(dataset['RoomService'] > 2865.4) & (dataset['RoomService'] <= 4298.1), 'RoomService'] = 2\n",
    "    dataset.loc[(dataset['RoomService'] > 4298.1) & (dataset['RoomService'] <= 5730.8), 'RoomService'] = 3\n",
    "    dataset.loc[(dataset['RoomService'] > 5730.8) & (dataset['RoomService'] <= 7163.5), 'RoomService'] = 4\n",
    "    dataset.loc[(dataset['RoomService'] > 7163.5) & (dataset['RoomService'] <= 8596.2), 'RoomService'] = 5\n",
    "    dataset.loc[(dataset['RoomService'] > 8596.2) & (dataset['RoomService'] <= 10028.9), 'RoomService'] = 6\n",
    "    dataset.loc[(dataset['RoomService'] > 10028.9) & (dataset['RoomService'] <= 11461.6), 'RoomService'] = 7\n",
    "    dataset.loc[(dataset['RoomService'] > 11461.6) & (dataset['RoomService'] <= 12894.3), 'RoomService'] = 8\n",
    "    dataset.loc[dataset['RoomService'] > 12894.3, 'RoomService'] = 9\n",
    "    dataset['RoomService'] = dataset['RoomService'].astype(int)\n",
    "combine = [train_df,test_df]\n",
    "train_df.head()"
   ]
  },
  {
   "cell_type": "markdown",
   "metadata": {},
   "source": [
    "__FoodCourt__"
   ]
  },
  {
   "cell_type": "markdown",
   "metadata": {},
   "source": [
    "Create a FoodCourt range called FCRange"
   ]
  },
  {
   "cell_type": "code",
   "execution_count": 2151,
   "metadata": {},
   "outputs": [
    {
     "data": {
      "text/html": [
       "<div>\n",
       "<style scoped>\n",
       "    .dataframe tbody tr th:only-of-type {\n",
       "        vertical-align: middle;\n",
       "    }\n",
       "\n",
       "    .dataframe tbody tr th {\n",
       "        vertical-align: top;\n",
       "    }\n",
       "\n",
       "    .dataframe thead th {\n",
       "        text-align: right;\n",
       "    }\n",
       "</style>\n",
       "<table border=\"1\" class=\"dataframe\">\n",
       "  <thead>\n",
       "    <tr style=\"text-align: right;\">\n",
       "      <th></th>\n",
       "      <th>FCRange</th>\n",
       "      <th>Transported</th>\n",
       "    </tr>\n",
       "  </thead>\n",
       "  <tbody>\n",
       "    <tr>\n",
       "      <th>0</th>\n",
       "      <td>(-29.813, 2981.3]</td>\n",
       "      <td>0.496927</td>\n",
       "    </tr>\n",
       "    <tr>\n",
       "      <th>1</th>\n",
       "      <td>(2981.3, 5962.6]</td>\n",
       "      <td>0.632000</td>\n",
       "    </tr>\n",
       "    <tr>\n",
       "      <th>2</th>\n",
       "      <td>(5962.6, 8943.9]</td>\n",
       "      <td>0.612500</td>\n",
       "    </tr>\n",
       "    <tr>\n",
       "      <th>3</th>\n",
       "      <td>(8943.9, 11925.2]</td>\n",
       "      <td>0.676471</td>\n",
       "    </tr>\n",
       "    <tr>\n",
       "      <th>4</th>\n",
       "      <td>(11925.2, 14906.5]</td>\n",
       "      <td>0.600000</td>\n",
       "    </tr>\n",
       "    <tr>\n",
       "      <th>5</th>\n",
       "      <td>(14906.5, 17887.8]</td>\n",
       "      <td>0.888889</td>\n",
       "    </tr>\n",
       "    <tr>\n",
       "      <th>6</th>\n",
       "      <td>(17887.8, 20869.1]</td>\n",
       "      <td>1.000000</td>\n",
       "    </tr>\n",
       "    <tr>\n",
       "      <th>7</th>\n",
       "      <td>(20869.1, 23850.4]</td>\n",
       "      <td>1.000000</td>\n",
       "    </tr>\n",
       "    <tr>\n",
       "      <th>8</th>\n",
       "      <td>(23850.4, 26831.7]</td>\n",
       "      <td>1.000000</td>\n",
       "    </tr>\n",
       "    <tr>\n",
       "      <th>9</th>\n",
       "      <td>(26831.7, 29813.0]</td>\n",
       "      <td>1.000000</td>\n",
       "    </tr>\n",
       "  </tbody>\n",
       "</table>\n",
       "</div>"
      ],
      "text/plain": [
       "              FCRange  Transported\n",
       "0   (-29.813, 2981.3]     0.496927\n",
       "1    (2981.3, 5962.6]     0.632000\n",
       "2    (5962.6, 8943.9]     0.612500\n",
       "3   (8943.9, 11925.2]     0.676471\n",
       "4  (11925.2, 14906.5]     0.600000\n",
       "5  (14906.5, 17887.8]     0.888889\n",
       "6  (17887.8, 20869.1]     1.000000\n",
       "7  (20869.1, 23850.4]     1.000000\n",
       "8  (23850.4, 26831.7]     1.000000\n",
       "9  (26831.7, 29813.0]     1.000000"
      ]
     },
     "execution_count": 2151,
     "metadata": {},
     "output_type": "execute_result"
    }
   ],
   "source": [
    "train_df['FCRange'] = pd.cut(train_df['FoodCourt'], 10)\n",
    "train_df[['FCRange', 'Transported']].groupby(['FCRange'], as_index=False).mean().sort_values(by='FCRange', ascending=True)"
   ]
  },
  {
   "cell_type": "markdown",
   "metadata": {},
   "source": [
    "Convert FoodCourt values according to it's range"
   ]
  },
  {
   "cell_type": "code",
   "execution_count": 2152,
   "metadata": {},
   "outputs": [
    {
     "data": {
      "text/html": [
       "<div>\n",
       "<style scoped>\n",
       "    .dataframe tbody tr th:only-of-type {\n",
       "        vertical-align: middle;\n",
       "    }\n",
       "\n",
       "    .dataframe tbody tr th {\n",
       "        vertical-align: top;\n",
       "    }\n",
       "\n",
       "    .dataframe thead th {\n",
       "        text-align: right;\n",
       "    }\n",
       "</style>\n",
       "<table border=\"1\" class=\"dataframe\">\n",
       "  <thead>\n",
       "    <tr style=\"text-align: right;\">\n",
       "      <th></th>\n",
       "      <th>PassengerId</th>\n",
       "      <th>HomePlanet</th>\n",
       "      <th>CryoSleep</th>\n",
       "      <th>Destination</th>\n",
       "      <th>Age</th>\n",
       "      <th>VIP</th>\n",
       "      <th>RoomService</th>\n",
       "      <th>FoodCourt</th>\n",
       "      <th>ShoppingMall</th>\n",
       "      <th>Spa</th>\n",
       "      <th>VRDeck</th>\n",
       "      <th>Transported</th>\n",
       "      <th>CabinLetter1</th>\n",
       "      <th>CabinLetter2</th>\n",
       "      <th>CabinNumber</th>\n",
       "      <th>AgeBand</th>\n",
       "      <th>RSRange</th>\n",
       "      <th>FCRange</th>\n",
       "    </tr>\n",
       "  </thead>\n",
       "  <tbody>\n",
       "    <tr>\n",
       "      <th>0</th>\n",
       "      <td>0001_01</td>\n",
       "      <td>Europa</td>\n",
       "      <td>False</td>\n",
       "      <td>TRAPPIST-1e</td>\n",
       "      <td>3</td>\n",
       "      <td>False</td>\n",
       "      <td>0</td>\n",
       "      <td>0</td>\n",
       "      <td>0.0</td>\n",
       "      <td>0.0</td>\n",
       "      <td>0.0</td>\n",
       "      <td>False</td>\n",
       "      <td>B</td>\n",
       "      <td>P</td>\n",
       "      <td>0</td>\n",
       "      <td>(29.625, 39.5]</td>\n",
       "      <td>(-14.327, 1432.7]</td>\n",
       "      <td>(-29.813, 2981.3]</td>\n",
       "    </tr>\n",
       "    <tr>\n",
       "      <th>1</th>\n",
       "      <td>0002_01</td>\n",
       "      <td>Earth</td>\n",
       "      <td>False</td>\n",
       "      <td>TRAPPIST-1e</td>\n",
       "      <td>2</td>\n",
       "      <td>False</td>\n",
       "      <td>0</td>\n",
       "      <td>0</td>\n",
       "      <td>25.0</td>\n",
       "      <td>549.0</td>\n",
       "      <td>44.0</td>\n",
       "      <td>True</td>\n",
       "      <td>F</td>\n",
       "      <td>S</td>\n",
       "      <td>0</td>\n",
       "      <td>(19.75, 29.625]</td>\n",
       "      <td>(-14.327, 1432.7]</td>\n",
       "      <td>(-29.813, 2981.3]</td>\n",
       "    </tr>\n",
       "    <tr>\n",
       "      <th>2</th>\n",
       "      <td>0003_01</td>\n",
       "      <td>Europa</td>\n",
       "      <td>False</td>\n",
       "      <td>TRAPPIST-1e</td>\n",
       "      <td>5</td>\n",
       "      <td>True</td>\n",
       "      <td>0</td>\n",
       "      <td>1</td>\n",
       "      <td>0.0</td>\n",
       "      <td>6715.0</td>\n",
       "      <td>49.0</td>\n",
       "      <td>False</td>\n",
       "      <td>A</td>\n",
       "      <td>S</td>\n",
       "      <td>0</td>\n",
       "      <td>(49.375, 59.25]</td>\n",
       "      <td>(-14.327, 1432.7]</td>\n",
       "      <td>(2981.3, 5962.6]</td>\n",
       "    </tr>\n",
       "    <tr>\n",
       "      <th>3</th>\n",
       "      <td>0003_02</td>\n",
       "      <td>Europa</td>\n",
       "      <td>False</td>\n",
       "      <td>TRAPPIST-1e</td>\n",
       "      <td>3</td>\n",
       "      <td>False</td>\n",
       "      <td>0</td>\n",
       "      <td>0</td>\n",
       "      <td>371.0</td>\n",
       "      <td>3329.0</td>\n",
       "      <td>193.0</td>\n",
       "      <td>False</td>\n",
       "      <td>A</td>\n",
       "      <td>S</td>\n",
       "      <td>0</td>\n",
       "      <td>(29.625, 39.5]</td>\n",
       "      <td>(-14.327, 1432.7]</td>\n",
       "      <td>(-29.813, 2981.3]</td>\n",
       "    </tr>\n",
       "    <tr>\n",
       "      <th>4</th>\n",
       "      <td>0004_01</td>\n",
       "      <td>Earth</td>\n",
       "      <td>False</td>\n",
       "      <td>TRAPPIST-1e</td>\n",
       "      <td>1</td>\n",
       "      <td>False</td>\n",
       "      <td>0</td>\n",
       "      <td>0</td>\n",
       "      <td>151.0</td>\n",
       "      <td>565.0</td>\n",
       "      <td>2.0</td>\n",
       "      <td>True</td>\n",
       "      <td>F</td>\n",
       "      <td>S</td>\n",
       "      <td>1</td>\n",
       "      <td>(9.875, 19.75]</td>\n",
       "      <td>(-14.327, 1432.7]</td>\n",
       "      <td>(-29.813, 2981.3]</td>\n",
       "    </tr>\n",
       "  </tbody>\n",
       "</table>\n",
       "</div>"
      ],
      "text/plain": [
       "  PassengerId HomePlanet  CryoSleep  Destination  Age    VIP  RoomService  \\\n",
       "0     0001_01     Europa      False  TRAPPIST-1e    3  False            0   \n",
       "1     0002_01      Earth      False  TRAPPIST-1e    2  False            0   \n",
       "2     0003_01     Europa      False  TRAPPIST-1e    5   True            0   \n",
       "3     0003_02     Europa      False  TRAPPIST-1e    3  False            0   \n",
       "4     0004_01      Earth      False  TRAPPIST-1e    1  False            0   \n",
       "\n",
       "   FoodCourt  ShoppingMall     Spa  VRDeck  Transported CabinLetter1  \\\n",
       "0          0           0.0     0.0     0.0        False            B   \n",
       "1          0          25.0   549.0    44.0         True            F   \n",
       "2          1           0.0  6715.0    49.0        False            A   \n",
       "3          0         371.0  3329.0   193.0        False            A   \n",
       "4          0         151.0   565.0     2.0         True            F   \n",
       "\n",
       "  CabinLetter2  CabinNumber          AgeBand            RSRange  \\\n",
       "0            P            0   (29.625, 39.5]  (-14.327, 1432.7]   \n",
       "1            S            0  (19.75, 29.625]  (-14.327, 1432.7]   \n",
       "2            S            0  (49.375, 59.25]  (-14.327, 1432.7]   \n",
       "3            S            0   (29.625, 39.5]  (-14.327, 1432.7]   \n",
       "4            S            1   (9.875, 19.75]  (-14.327, 1432.7]   \n",
       "\n",
       "             FCRange  \n",
       "0  (-29.813, 2981.3]  \n",
       "1  (-29.813, 2981.3]  \n",
       "2   (2981.3, 5962.6]  \n",
       "3  (-29.813, 2981.3]  \n",
       "4  (-29.813, 2981.3]  "
      ]
     },
     "execution_count": 2152,
     "metadata": {},
     "output_type": "execute_result"
    }
   ],
   "source": [
    "for dataset in combine:\n",
    "    dataset.loc[dataset['FoodCourt'] <= 2981.3, 'FoodCourt'] = 0\n",
    "    dataset.loc[(dataset['FoodCourt'] > 2981.3) & (dataset['FoodCourt'] <= 5962.6), 'FoodCourt'] = 1\n",
    "    dataset.loc[(dataset['FoodCourt'] > 5962.6) & (dataset['FoodCourt'] <= 8943.9), 'FoodCourt'] = 2\n",
    "    dataset.loc[(dataset['FoodCourt'] > 8943.9) & (dataset['FoodCourt'] <= 11925.2), 'FoodCourt'] = 3\n",
    "    dataset.loc[(dataset['FoodCourt'] > 11925.2) & (dataset['FoodCourt'] <= 14906.5), 'FoodCourt'] = 4\n",
    "    dataset.loc[(dataset['FoodCourt'] > 14906.5) & (dataset['FoodCourt'] <= 17887.8), 'FoodCourt'] = 5\n",
    "    dataset.loc[(dataset['FoodCourt'] > 17887.8) & (dataset['FoodCourt'] <= 20869.1), 'FoodCourt'] = 6\n",
    "    dataset.loc[(dataset['FoodCourt'] > 20869.1) & (dataset['FoodCourt'] <= 23850.4), 'FoodCourt'] = 7\n",
    "    dataset.loc[(dataset['FoodCourt'] > 23850.4) & (dataset['FoodCourt'] <= 26831.7), 'FoodCourt'] = 8\n",
    "    dataset.loc[dataset['FoodCourt'] > 26831.7, 'FoodCourt'] = 9\n",
    "    dataset['FoodCourt'] = dataset['FoodCourt'].astype(int)\n",
    "combine = [train_df,test_df]\n",
    "train_df.head()"
   ]
  },
  {
   "cell_type": "markdown",
   "metadata": {},
   "source": [
    "__ShoppingMall__"
   ]
  },
  {
   "cell_type": "markdown",
   "metadata": {},
   "source": [
    "Create a shopping mall value rane feature"
   ]
  },
  {
   "cell_type": "code",
   "execution_count": 2153,
   "metadata": {},
   "outputs": [
    {
     "data": {
      "text/html": [
       "<div>\n",
       "<style scoped>\n",
       "    .dataframe tbody tr th:only-of-type {\n",
       "        vertical-align: middle;\n",
       "    }\n",
       "\n",
       "    .dataframe tbody tr th {\n",
       "        vertical-align: top;\n",
       "    }\n",
       "\n",
       "    .dataframe thead th {\n",
       "        text-align: right;\n",
       "    }\n",
       "</style>\n",
       "<table border=\"1\" class=\"dataframe\">\n",
       "  <thead>\n",
       "    <tr style=\"text-align: right;\">\n",
       "      <th></th>\n",
       "      <th>SMRange</th>\n",
       "      <th>Transported</th>\n",
       "    </tr>\n",
       "  </thead>\n",
       "  <tbody>\n",
       "    <tr>\n",
       "      <th>0</th>\n",
       "      <td>(-23.492, 2349.2]</td>\n",
       "      <td>0.501917</td>\n",
       "    </tr>\n",
       "    <tr>\n",
       "      <th>1</th>\n",
       "      <td>(2349.2, 4698.4]</td>\n",
       "      <td>0.629032</td>\n",
       "    </tr>\n",
       "    <tr>\n",
       "      <th>2</th>\n",
       "      <td>(4698.4, 7047.6]</td>\n",
       "      <td>0.846154</td>\n",
       "    </tr>\n",
       "    <tr>\n",
       "      <th>3</th>\n",
       "      <td>(7047.6, 9396.8]</td>\n",
       "      <td>1.000000</td>\n",
       "    </tr>\n",
       "    <tr>\n",
       "      <th>4</th>\n",
       "      <td>(9396.8, 11746.0]</td>\n",
       "      <td>0.000000</td>\n",
       "    </tr>\n",
       "    <tr>\n",
       "      <th>5</th>\n",
       "      <td>(11746.0, 14095.2]</td>\n",
       "      <td>1.000000</td>\n",
       "    </tr>\n",
       "    <tr>\n",
       "      <th>6</th>\n",
       "      <td>(14095.2, 16444.4]</td>\n",
       "      <td>NaN</td>\n",
       "    </tr>\n",
       "    <tr>\n",
       "      <th>7</th>\n",
       "      <td>(16444.4, 18793.6]</td>\n",
       "      <td>NaN</td>\n",
       "    </tr>\n",
       "    <tr>\n",
       "      <th>8</th>\n",
       "      <td>(18793.6, 21142.8]</td>\n",
       "      <td>NaN</td>\n",
       "    </tr>\n",
       "    <tr>\n",
       "      <th>9</th>\n",
       "      <td>(21142.8, 23492.0]</td>\n",
       "      <td>1.000000</td>\n",
       "    </tr>\n",
       "  </tbody>\n",
       "</table>\n",
       "</div>"
      ],
      "text/plain": [
       "              SMRange  Transported\n",
       "0   (-23.492, 2349.2]     0.501917\n",
       "1    (2349.2, 4698.4]     0.629032\n",
       "2    (4698.4, 7047.6]     0.846154\n",
       "3    (7047.6, 9396.8]     1.000000\n",
       "4   (9396.8, 11746.0]     0.000000\n",
       "5  (11746.0, 14095.2]     1.000000\n",
       "6  (14095.2, 16444.4]          NaN\n",
       "7  (16444.4, 18793.6]          NaN\n",
       "8  (18793.6, 21142.8]          NaN\n",
       "9  (21142.8, 23492.0]     1.000000"
      ]
     },
     "execution_count": 2153,
     "metadata": {},
     "output_type": "execute_result"
    }
   ],
   "source": [
    "train_df['SMRange'] = pd.cut(train_df['ShoppingMall'], 10)\n",
    "train_df[['SMRange', 'Transported']].groupby(['SMRange'], as_index=False).mean().sort_values(by='SMRange', ascending=True)"
   ]
  },
  {
   "cell_type": "markdown",
   "metadata": {},
   "source": [
    "convert shopping mall values using smrange"
   ]
  },
  {
   "cell_type": "code",
   "execution_count": 2154,
   "metadata": {},
   "outputs": [
    {
     "data": {
      "text/html": [
       "<div>\n",
       "<style scoped>\n",
       "    .dataframe tbody tr th:only-of-type {\n",
       "        vertical-align: middle;\n",
       "    }\n",
       "\n",
       "    .dataframe tbody tr th {\n",
       "        vertical-align: top;\n",
       "    }\n",
       "\n",
       "    .dataframe thead th {\n",
       "        text-align: right;\n",
       "    }\n",
       "</style>\n",
       "<table border=\"1\" class=\"dataframe\">\n",
       "  <thead>\n",
       "    <tr style=\"text-align: right;\">\n",
       "      <th></th>\n",
       "      <th>PassengerId</th>\n",
       "      <th>HomePlanet</th>\n",
       "      <th>CryoSleep</th>\n",
       "      <th>Destination</th>\n",
       "      <th>Age</th>\n",
       "      <th>VIP</th>\n",
       "      <th>RoomService</th>\n",
       "      <th>FoodCourt</th>\n",
       "      <th>ShoppingMall</th>\n",
       "      <th>Spa</th>\n",
       "      <th>VRDeck</th>\n",
       "      <th>Transported</th>\n",
       "      <th>CabinLetter1</th>\n",
       "      <th>CabinLetter2</th>\n",
       "      <th>CabinNumber</th>\n",
       "      <th>AgeBand</th>\n",
       "      <th>RSRange</th>\n",
       "      <th>FCRange</th>\n",
       "      <th>SMRange</th>\n",
       "    </tr>\n",
       "  </thead>\n",
       "  <tbody>\n",
       "    <tr>\n",
       "      <th>0</th>\n",
       "      <td>0001_01</td>\n",
       "      <td>Europa</td>\n",
       "      <td>False</td>\n",
       "      <td>TRAPPIST-1e</td>\n",
       "      <td>3</td>\n",
       "      <td>False</td>\n",
       "      <td>0</td>\n",
       "      <td>0</td>\n",
       "      <td>0</td>\n",
       "      <td>0.0</td>\n",
       "      <td>0.0</td>\n",
       "      <td>False</td>\n",
       "      <td>B</td>\n",
       "      <td>P</td>\n",
       "      <td>0</td>\n",
       "      <td>(29.625, 39.5]</td>\n",
       "      <td>(-14.327, 1432.7]</td>\n",
       "      <td>(-29.813, 2981.3]</td>\n",
       "      <td>(-23.492, 2349.2]</td>\n",
       "    </tr>\n",
       "    <tr>\n",
       "      <th>1</th>\n",
       "      <td>0002_01</td>\n",
       "      <td>Earth</td>\n",
       "      <td>False</td>\n",
       "      <td>TRAPPIST-1e</td>\n",
       "      <td>2</td>\n",
       "      <td>False</td>\n",
       "      <td>0</td>\n",
       "      <td>0</td>\n",
       "      <td>0</td>\n",
       "      <td>549.0</td>\n",
       "      <td>44.0</td>\n",
       "      <td>True</td>\n",
       "      <td>F</td>\n",
       "      <td>S</td>\n",
       "      <td>0</td>\n",
       "      <td>(19.75, 29.625]</td>\n",
       "      <td>(-14.327, 1432.7]</td>\n",
       "      <td>(-29.813, 2981.3]</td>\n",
       "      <td>(-23.492, 2349.2]</td>\n",
       "    </tr>\n",
       "    <tr>\n",
       "      <th>2</th>\n",
       "      <td>0003_01</td>\n",
       "      <td>Europa</td>\n",
       "      <td>False</td>\n",
       "      <td>TRAPPIST-1e</td>\n",
       "      <td>5</td>\n",
       "      <td>True</td>\n",
       "      <td>0</td>\n",
       "      <td>1</td>\n",
       "      <td>0</td>\n",
       "      <td>6715.0</td>\n",
       "      <td>49.0</td>\n",
       "      <td>False</td>\n",
       "      <td>A</td>\n",
       "      <td>S</td>\n",
       "      <td>0</td>\n",
       "      <td>(49.375, 59.25]</td>\n",
       "      <td>(-14.327, 1432.7]</td>\n",
       "      <td>(2981.3, 5962.6]</td>\n",
       "      <td>(-23.492, 2349.2]</td>\n",
       "    </tr>\n",
       "    <tr>\n",
       "      <th>3</th>\n",
       "      <td>0003_02</td>\n",
       "      <td>Europa</td>\n",
       "      <td>False</td>\n",
       "      <td>TRAPPIST-1e</td>\n",
       "      <td>3</td>\n",
       "      <td>False</td>\n",
       "      <td>0</td>\n",
       "      <td>0</td>\n",
       "      <td>0</td>\n",
       "      <td>3329.0</td>\n",
       "      <td>193.0</td>\n",
       "      <td>False</td>\n",
       "      <td>A</td>\n",
       "      <td>S</td>\n",
       "      <td>0</td>\n",
       "      <td>(29.625, 39.5]</td>\n",
       "      <td>(-14.327, 1432.7]</td>\n",
       "      <td>(-29.813, 2981.3]</td>\n",
       "      <td>(-23.492, 2349.2]</td>\n",
       "    </tr>\n",
       "    <tr>\n",
       "      <th>4</th>\n",
       "      <td>0004_01</td>\n",
       "      <td>Earth</td>\n",
       "      <td>False</td>\n",
       "      <td>TRAPPIST-1e</td>\n",
       "      <td>1</td>\n",
       "      <td>False</td>\n",
       "      <td>0</td>\n",
       "      <td>0</td>\n",
       "      <td>0</td>\n",
       "      <td>565.0</td>\n",
       "      <td>2.0</td>\n",
       "      <td>True</td>\n",
       "      <td>F</td>\n",
       "      <td>S</td>\n",
       "      <td>1</td>\n",
       "      <td>(9.875, 19.75]</td>\n",
       "      <td>(-14.327, 1432.7]</td>\n",
       "      <td>(-29.813, 2981.3]</td>\n",
       "      <td>(-23.492, 2349.2]</td>\n",
       "    </tr>\n",
       "  </tbody>\n",
       "</table>\n",
       "</div>"
      ],
      "text/plain": [
       "  PassengerId HomePlanet  CryoSleep  Destination  Age    VIP  RoomService  \\\n",
       "0     0001_01     Europa      False  TRAPPIST-1e    3  False            0   \n",
       "1     0002_01      Earth      False  TRAPPIST-1e    2  False            0   \n",
       "2     0003_01     Europa      False  TRAPPIST-1e    5   True            0   \n",
       "3     0003_02     Europa      False  TRAPPIST-1e    3  False            0   \n",
       "4     0004_01      Earth      False  TRAPPIST-1e    1  False            0   \n",
       "\n",
       "   FoodCourt  ShoppingMall     Spa  VRDeck  Transported CabinLetter1  \\\n",
       "0          0             0     0.0     0.0        False            B   \n",
       "1          0             0   549.0    44.0         True            F   \n",
       "2          1             0  6715.0    49.0        False            A   \n",
       "3          0             0  3329.0   193.0        False            A   \n",
       "4          0             0   565.0     2.0         True            F   \n",
       "\n",
       "  CabinLetter2  CabinNumber          AgeBand            RSRange  \\\n",
       "0            P            0   (29.625, 39.5]  (-14.327, 1432.7]   \n",
       "1            S            0  (19.75, 29.625]  (-14.327, 1432.7]   \n",
       "2            S            0  (49.375, 59.25]  (-14.327, 1432.7]   \n",
       "3            S            0   (29.625, 39.5]  (-14.327, 1432.7]   \n",
       "4            S            1   (9.875, 19.75]  (-14.327, 1432.7]   \n",
       "\n",
       "             FCRange            SMRange  \n",
       "0  (-29.813, 2981.3]  (-23.492, 2349.2]  \n",
       "1  (-29.813, 2981.3]  (-23.492, 2349.2]  \n",
       "2   (2981.3, 5962.6]  (-23.492, 2349.2]  \n",
       "3  (-29.813, 2981.3]  (-23.492, 2349.2]  \n",
       "4  (-29.813, 2981.3]  (-23.492, 2349.2]  "
      ]
     },
     "execution_count": 2154,
     "metadata": {},
     "output_type": "execute_result"
    }
   ],
   "source": [
    "for dataset in combine:\n",
    "    dataset.loc[dataset['ShoppingMall'] <= 2349.2, 'ShoppingMall'] = 0\n",
    "    dataset.loc[(dataset['ShoppingMall'] > 2349.2) & (dataset['ShoppingMall'] <= 4698.4), 'ShoppingMall'] = 1\n",
    "    dataset.loc[(dataset['ShoppingMall'] > 4698.4) & (dataset['ShoppingMall'] <= 7047.6), 'ShoppingMall'] = 2\n",
    "    dataset.loc[(dataset['ShoppingMall'] > 7047.6) & (dataset['ShoppingMall'] <= 9396.8), 'ShoppingMall'] = 3\n",
    "    dataset.loc[(dataset['ShoppingMall'] > 9396.8) & (dataset['ShoppingMall'] <= 11746.0), 'ShoppingMall'] = 4\n",
    "    dataset.loc[(dataset['ShoppingMall'] > 11746.0) & (dataset['ShoppingMall'] <= 14095.2), 'ShoppingMall'] = 5\n",
    "    dataset.loc[(dataset['ShoppingMall'] > 14095.2) & (dataset['ShoppingMall'] <= 16444.4), 'ShoppingMall'] = 6\n",
    "    dataset.loc[(dataset['ShoppingMall'] > 16444.4) & (dataset['ShoppingMall'] <= 18793.6), 'ShoppingMall'] = 7\n",
    "    dataset.loc[(dataset['ShoppingMall'] > 18793.6) & (dataset['ShoppingMall'] <= 21142.8), 'ShoppingMall'] = 8\n",
    "    dataset.loc[dataset['ShoppingMall'] > 21142.8, 'ShoppingMall'] = 9\n",
    "    dataset['ShoppingMall'] = dataset['ShoppingMall'].astype(int)\n",
    "combine = [train_df,test_df]\n",
    "train_df.head()"
   ]
  },
  {
   "cell_type": "markdown",
   "metadata": {},
   "source": [
    "__Spa__"
   ]
  },
  {
   "cell_type": "markdown",
   "metadata": {},
   "source": [
    "Create a feature for spa ranges"
   ]
  },
  {
   "cell_type": "code",
   "execution_count": 2155,
   "metadata": {},
   "outputs": [
    {
     "data": {
      "text/html": [
       "<div>\n",
       "<style scoped>\n",
       "    .dataframe tbody tr th:only-of-type {\n",
       "        vertical-align: middle;\n",
       "    }\n",
       "\n",
       "    .dataframe tbody tr th {\n",
       "        vertical-align: top;\n",
       "    }\n",
       "\n",
       "    .dataframe thead th {\n",
       "        text-align: right;\n",
       "    }\n",
       "</style>\n",
       "<table border=\"1\" class=\"dataframe\">\n",
       "  <thead>\n",
       "    <tr style=\"text-align: right;\">\n",
       "      <th></th>\n",
       "      <th>SpRange</th>\n",
       "      <th>Transported</th>\n",
       "    </tr>\n",
       "  </thead>\n",
       "  <tbody>\n",
       "    <tr>\n",
       "      <th>0</th>\n",
       "      <td>(-22.408, 2240.8]</td>\n",
       "      <td>0.520329</td>\n",
       "    </tr>\n",
       "    <tr>\n",
       "      <th>1</th>\n",
       "      <td>(2240.8, 4481.6]</td>\n",
       "      <td>0.077778</td>\n",
       "    </tr>\n",
       "    <tr>\n",
       "      <th>2</th>\n",
       "      <td>(4481.6, 6722.4]</td>\n",
       "      <td>0.000000</td>\n",
       "    </tr>\n",
       "    <tr>\n",
       "      <th>3</th>\n",
       "      <td>(6722.4, 8963.2]</td>\n",
       "      <td>0.000000</td>\n",
       "    </tr>\n",
       "    <tr>\n",
       "      <th>4</th>\n",
       "      <td>(8963.2, 11204.0]</td>\n",
       "      <td>0.000000</td>\n",
       "    </tr>\n",
       "    <tr>\n",
       "      <th>5</th>\n",
       "      <td>(11204.0, 13444.8]</td>\n",
       "      <td>0.000000</td>\n",
       "    </tr>\n",
       "    <tr>\n",
       "      <th>6</th>\n",
       "      <td>(13444.8, 15685.6]</td>\n",
       "      <td>0.000000</td>\n",
       "    </tr>\n",
       "    <tr>\n",
       "      <th>7</th>\n",
       "      <td>(15685.6, 17926.4]</td>\n",
       "      <td>0.000000</td>\n",
       "    </tr>\n",
       "    <tr>\n",
       "      <th>8</th>\n",
       "      <td>(17926.4, 20167.2]</td>\n",
       "      <td>0.000000</td>\n",
       "    </tr>\n",
       "    <tr>\n",
       "      <th>9</th>\n",
       "      <td>(20167.2, 22408.0]</td>\n",
       "      <td>0.000000</td>\n",
       "    </tr>\n",
       "  </tbody>\n",
       "</table>\n",
       "</div>"
      ],
      "text/plain": [
       "              SpRange  Transported\n",
       "0   (-22.408, 2240.8]     0.520329\n",
       "1    (2240.8, 4481.6]     0.077778\n",
       "2    (4481.6, 6722.4]     0.000000\n",
       "3    (6722.4, 8963.2]     0.000000\n",
       "4   (8963.2, 11204.0]     0.000000\n",
       "5  (11204.0, 13444.8]     0.000000\n",
       "6  (13444.8, 15685.6]     0.000000\n",
       "7  (15685.6, 17926.4]     0.000000\n",
       "8  (17926.4, 20167.2]     0.000000\n",
       "9  (20167.2, 22408.0]     0.000000"
      ]
     },
     "execution_count": 2155,
     "metadata": {},
     "output_type": "execute_result"
    }
   ],
   "source": [
    "train_df['SpRange'] = pd.cut(train_df['Spa'], 10)\n",
    "train_df[['SpRange', 'Transported']].groupby(['SpRange'], as_index=False).mean().sort_values(by='SpRange', ascending=True)"
   ]
  },
  {
   "cell_type": "markdown",
   "metadata": {},
   "source": [
    "Converting Spa values with help of its range feature"
   ]
  },
  {
   "cell_type": "code",
   "execution_count": 2156,
   "metadata": {},
   "outputs": [
    {
     "data": {
      "text/html": [
       "<div>\n",
       "<style scoped>\n",
       "    .dataframe tbody tr th:only-of-type {\n",
       "        vertical-align: middle;\n",
       "    }\n",
       "\n",
       "    .dataframe tbody tr th {\n",
       "        vertical-align: top;\n",
       "    }\n",
       "\n",
       "    .dataframe thead th {\n",
       "        text-align: right;\n",
       "    }\n",
       "</style>\n",
       "<table border=\"1\" class=\"dataframe\">\n",
       "  <thead>\n",
       "    <tr style=\"text-align: right;\">\n",
       "      <th></th>\n",
       "      <th>PassengerId</th>\n",
       "      <th>HomePlanet</th>\n",
       "      <th>CryoSleep</th>\n",
       "      <th>Destination</th>\n",
       "      <th>Age</th>\n",
       "      <th>VIP</th>\n",
       "      <th>RoomService</th>\n",
       "      <th>FoodCourt</th>\n",
       "      <th>ShoppingMall</th>\n",
       "      <th>Spa</th>\n",
       "      <th>VRDeck</th>\n",
       "      <th>Transported</th>\n",
       "      <th>CabinLetter1</th>\n",
       "      <th>CabinLetter2</th>\n",
       "      <th>CabinNumber</th>\n",
       "      <th>AgeBand</th>\n",
       "      <th>RSRange</th>\n",
       "      <th>FCRange</th>\n",
       "      <th>SMRange</th>\n",
       "      <th>SpRange</th>\n",
       "    </tr>\n",
       "  </thead>\n",
       "  <tbody>\n",
       "    <tr>\n",
       "      <th>0</th>\n",
       "      <td>0001_01</td>\n",
       "      <td>Europa</td>\n",
       "      <td>False</td>\n",
       "      <td>TRAPPIST-1e</td>\n",
       "      <td>3</td>\n",
       "      <td>False</td>\n",
       "      <td>0</td>\n",
       "      <td>0</td>\n",
       "      <td>0</td>\n",
       "      <td>0</td>\n",
       "      <td>0.0</td>\n",
       "      <td>False</td>\n",
       "      <td>B</td>\n",
       "      <td>P</td>\n",
       "      <td>0</td>\n",
       "      <td>(29.625, 39.5]</td>\n",
       "      <td>(-14.327, 1432.7]</td>\n",
       "      <td>(-29.813, 2981.3]</td>\n",
       "      <td>(-23.492, 2349.2]</td>\n",
       "      <td>(-22.408, 2240.8]</td>\n",
       "    </tr>\n",
       "    <tr>\n",
       "      <th>1</th>\n",
       "      <td>0002_01</td>\n",
       "      <td>Earth</td>\n",
       "      <td>False</td>\n",
       "      <td>TRAPPIST-1e</td>\n",
       "      <td>2</td>\n",
       "      <td>False</td>\n",
       "      <td>0</td>\n",
       "      <td>0</td>\n",
       "      <td>0</td>\n",
       "      <td>0</td>\n",
       "      <td>44.0</td>\n",
       "      <td>True</td>\n",
       "      <td>F</td>\n",
       "      <td>S</td>\n",
       "      <td>0</td>\n",
       "      <td>(19.75, 29.625]</td>\n",
       "      <td>(-14.327, 1432.7]</td>\n",
       "      <td>(-29.813, 2981.3]</td>\n",
       "      <td>(-23.492, 2349.2]</td>\n",
       "      <td>(-22.408, 2240.8]</td>\n",
       "    </tr>\n",
       "    <tr>\n",
       "      <th>2</th>\n",
       "      <td>0003_01</td>\n",
       "      <td>Europa</td>\n",
       "      <td>False</td>\n",
       "      <td>TRAPPIST-1e</td>\n",
       "      <td>5</td>\n",
       "      <td>True</td>\n",
       "      <td>0</td>\n",
       "      <td>1</td>\n",
       "      <td>0</td>\n",
       "      <td>2</td>\n",
       "      <td>49.0</td>\n",
       "      <td>False</td>\n",
       "      <td>A</td>\n",
       "      <td>S</td>\n",
       "      <td>0</td>\n",
       "      <td>(49.375, 59.25]</td>\n",
       "      <td>(-14.327, 1432.7]</td>\n",
       "      <td>(2981.3, 5962.6]</td>\n",
       "      <td>(-23.492, 2349.2]</td>\n",
       "      <td>(4481.6, 6722.4]</td>\n",
       "    </tr>\n",
       "    <tr>\n",
       "      <th>3</th>\n",
       "      <td>0003_02</td>\n",
       "      <td>Europa</td>\n",
       "      <td>False</td>\n",
       "      <td>TRAPPIST-1e</td>\n",
       "      <td>3</td>\n",
       "      <td>False</td>\n",
       "      <td>0</td>\n",
       "      <td>0</td>\n",
       "      <td>0</td>\n",
       "      <td>1</td>\n",
       "      <td>193.0</td>\n",
       "      <td>False</td>\n",
       "      <td>A</td>\n",
       "      <td>S</td>\n",
       "      <td>0</td>\n",
       "      <td>(29.625, 39.5]</td>\n",
       "      <td>(-14.327, 1432.7]</td>\n",
       "      <td>(-29.813, 2981.3]</td>\n",
       "      <td>(-23.492, 2349.2]</td>\n",
       "      <td>(2240.8, 4481.6]</td>\n",
       "    </tr>\n",
       "    <tr>\n",
       "      <th>4</th>\n",
       "      <td>0004_01</td>\n",
       "      <td>Earth</td>\n",
       "      <td>False</td>\n",
       "      <td>TRAPPIST-1e</td>\n",
       "      <td>1</td>\n",
       "      <td>False</td>\n",
       "      <td>0</td>\n",
       "      <td>0</td>\n",
       "      <td>0</td>\n",
       "      <td>0</td>\n",
       "      <td>2.0</td>\n",
       "      <td>True</td>\n",
       "      <td>F</td>\n",
       "      <td>S</td>\n",
       "      <td>1</td>\n",
       "      <td>(9.875, 19.75]</td>\n",
       "      <td>(-14.327, 1432.7]</td>\n",
       "      <td>(-29.813, 2981.3]</td>\n",
       "      <td>(-23.492, 2349.2]</td>\n",
       "      <td>(-22.408, 2240.8]</td>\n",
       "    </tr>\n",
       "  </tbody>\n",
       "</table>\n",
       "</div>"
      ],
      "text/plain": [
       "  PassengerId HomePlanet  CryoSleep  Destination  Age    VIP  RoomService  \\\n",
       "0     0001_01     Europa      False  TRAPPIST-1e    3  False            0   \n",
       "1     0002_01      Earth      False  TRAPPIST-1e    2  False            0   \n",
       "2     0003_01     Europa      False  TRAPPIST-1e    5   True            0   \n",
       "3     0003_02     Europa      False  TRAPPIST-1e    3  False            0   \n",
       "4     0004_01      Earth      False  TRAPPIST-1e    1  False            0   \n",
       "\n",
       "   FoodCourt  ShoppingMall  Spa  VRDeck  Transported CabinLetter1  \\\n",
       "0          0             0    0     0.0        False            B   \n",
       "1          0             0    0    44.0         True            F   \n",
       "2          1             0    2    49.0        False            A   \n",
       "3          0             0    1   193.0        False            A   \n",
       "4          0             0    0     2.0         True            F   \n",
       "\n",
       "  CabinLetter2  CabinNumber          AgeBand            RSRange  \\\n",
       "0            P            0   (29.625, 39.5]  (-14.327, 1432.7]   \n",
       "1            S            0  (19.75, 29.625]  (-14.327, 1432.7]   \n",
       "2            S            0  (49.375, 59.25]  (-14.327, 1432.7]   \n",
       "3            S            0   (29.625, 39.5]  (-14.327, 1432.7]   \n",
       "4            S            1   (9.875, 19.75]  (-14.327, 1432.7]   \n",
       "\n",
       "             FCRange            SMRange            SpRange  \n",
       "0  (-29.813, 2981.3]  (-23.492, 2349.2]  (-22.408, 2240.8]  \n",
       "1  (-29.813, 2981.3]  (-23.492, 2349.2]  (-22.408, 2240.8]  \n",
       "2   (2981.3, 5962.6]  (-23.492, 2349.2]   (4481.6, 6722.4]  \n",
       "3  (-29.813, 2981.3]  (-23.492, 2349.2]   (2240.8, 4481.6]  \n",
       "4  (-29.813, 2981.3]  (-23.492, 2349.2]  (-22.408, 2240.8]  "
      ]
     },
     "execution_count": 2156,
     "metadata": {},
     "output_type": "execute_result"
    }
   ],
   "source": [
    "for dataset in combine:\n",
    "    dataset.loc[dataset['Spa'] <= 2240.8, 'Spa'] = 0\n",
    "    dataset.loc[(dataset['Spa'] > 2240.8) & (dataset['Spa'] <= 4481.6), 'Spa'] = 1\n",
    "    dataset.loc[(dataset['Spa'] > 4481.6) & (dataset['Spa'] <= 6722.4), 'Spa'] = 2\n",
    "    dataset.loc[(dataset['Spa'] > 6722.4) & (dataset['Spa'] <= 8963.2), 'Spa'] = 3\n",
    "    dataset.loc[(dataset['Spa'] > 8963.2) & (dataset['Spa'] <= 11204.0), 'Spa'] = 4\n",
    "    dataset.loc[(dataset['Spa'] > 11204.0) & (dataset['Spa'] <= 13444.8), 'Spa'] = 5\n",
    "    dataset.loc[(dataset['Spa'] > 13444.8) & (dataset['Spa'] <= 15685.6), 'Spa'] = 6\n",
    "    dataset.loc[(dataset['Spa'] > 15685.6) & (dataset['Spa'] <= 17926.4), 'Spa'] = 7\n",
    "    dataset.loc[(dataset['Spa'] > 17926.4) & (dataset['Spa'] <=  20167.2), 'Spa'] = 8\n",
    "    dataset.loc[dataset['Spa'] >  20167.2, 'Spa'] = 9\n",
    "    dataset['Spa'] = dataset['Spa'].astype(int)\n",
    "combine = [train_df,test_df]\n",
    "train_df.head()"
   ]
  },
  {
   "cell_type": "markdown",
   "metadata": {},
   "source": [
    "__VRDeck__"
   ]
  },
  {
   "cell_type": "markdown",
   "metadata": {},
   "source": [
    "Create a range feature for vrdeck"
   ]
  },
  {
   "cell_type": "code",
   "execution_count": 2157,
   "metadata": {},
   "outputs": [
    {
     "data": {
      "text/html": [
       "<div>\n",
       "<style scoped>\n",
       "    .dataframe tbody tr th:only-of-type {\n",
       "        vertical-align: middle;\n",
       "    }\n",
       "\n",
       "    .dataframe tbody tr th {\n",
       "        vertical-align: top;\n",
       "    }\n",
       "\n",
       "    .dataframe thead th {\n",
       "        text-align: right;\n",
       "    }\n",
       "</style>\n",
       "<table border=\"1\" class=\"dataframe\">\n",
       "  <thead>\n",
       "    <tr style=\"text-align: right;\">\n",
       "      <th></th>\n",
       "      <th>VRDRange</th>\n",
       "      <th>Transported</th>\n",
       "    </tr>\n",
       "  </thead>\n",
       "  <tbody>\n",
       "    <tr>\n",
       "      <th>0</th>\n",
       "      <td>(-24.133, 2413.3]</td>\n",
       "      <td>0.517180</td>\n",
       "    </tr>\n",
       "    <tr>\n",
       "      <th>1</th>\n",
       "      <td>(2413.3, 4826.6]</td>\n",
       "      <td>0.088235</td>\n",
       "    </tr>\n",
       "    <tr>\n",
       "      <th>2</th>\n",
       "      <td>(4826.6, 7239.9]</td>\n",
       "      <td>0.016667</td>\n",
       "    </tr>\n",
       "    <tr>\n",
       "      <th>3</th>\n",
       "      <td>(7239.9, 9653.2]</td>\n",
       "      <td>0.000000</td>\n",
       "    </tr>\n",
       "    <tr>\n",
       "      <th>4</th>\n",
       "      <td>(9653.2, 12066.5]</td>\n",
       "      <td>0.000000</td>\n",
       "    </tr>\n",
       "    <tr>\n",
       "      <th>5</th>\n",
       "      <td>(12066.5, 14479.8]</td>\n",
       "      <td>0.000000</td>\n",
       "    </tr>\n",
       "    <tr>\n",
       "      <th>6</th>\n",
       "      <td>(14479.8, 16893.1]</td>\n",
       "      <td>0.000000</td>\n",
       "    </tr>\n",
       "    <tr>\n",
       "      <th>7</th>\n",
       "      <td>(16893.1, 19306.4]</td>\n",
       "      <td>0.000000</td>\n",
       "    </tr>\n",
       "    <tr>\n",
       "      <th>8</th>\n",
       "      <td>(19306.4, 21719.7]</td>\n",
       "      <td>0.000000</td>\n",
       "    </tr>\n",
       "    <tr>\n",
       "      <th>9</th>\n",
       "      <td>(21719.7, 24133.0]</td>\n",
       "      <td>0.000000</td>\n",
       "    </tr>\n",
       "  </tbody>\n",
       "</table>\n",
       "</div>"
      ],
      "text/plain": [
       "             VRDRange  Transported\n",
       "0   (-24.133, 2413.3]     0.517180\n",
       "1    (2413.3, 4826.6]     0.088235\n",
       "2    (4826.6, 7239.9]     0.016667\n",
       "3    (7239.9, 9653.2]     0.000000\n",
       "4   (9653.2, 12066.5]     0.000000\n",
       "5  (12066.5, 14479.8]     0.000000\n",
       "6  (14479.8, 16893.1]     0.000000\n",
       "7  (16893.1, 19306.4]     0.000000\n",
       "8  (19306.4, 21719.7]     0.000000\n",
       "9  (21719.7, 24133.0]     0.000000"
      ]
     },
     "execution_count": 2157,
     "metadata": {},
     "output_type": "execute_result"
    }
   ],
   "source": [
    "train_df['VRDRange'] = pd.cut(train_df['VRDeck'], 10)\n",
    "train_df[['VRDRange', 'Transported']].groupby(['VRDRange'], as_index=False).mean().sort_values(by='VRDRange', ascending=True)"
   ]
  },
  {
   "cell_type": "markdown",
   "metadata": {},
   "source": [
    "Convert VRDeck values using vrdrange feature"
   ]
  },
  {
   "cell_type": "code",
   "execution_count": 2158,
   "metadata": {},
   "outputs": [
    {
     "data": {
      "text/html": [
       "<div>\n",
       "<style scoped>\n",
       "    .dataframe tbody tr th:only-of-type {\n",
       "        vertical-align: middle;\n",
       "    }\n",
       "\n",
       "    .dataframe tbody tr th {\n",
       "        vertical-align: top;\n",
       "    }\n",
       "\n",
       "    .dataframe thead th {\n",
       "        text-align: right;\n",
       "    }\n",
       "</style>\n",
       "<table border=\"1\" class=\"dataframe\">\n",
       "  <thead>\n",
       "    <tr style=\"text-align: right;\">\n",
       "      <th></th>\n",
       "      <th>PassengerId</th>\n",
       "      <th>HomePlanet</th>\n",
       "      <th>CryoSleep</th>\n",
       "      <th>Destination</th>\n",
       "      <th>Age</th>\n",
       "      <th>VIP</th>\n",
       "      <th>RoomService</th>\n",
       "      <th>FoodCourt</th>\n",
       "      <th>ShoppingMall</th>\n",
       "      <th>Spa</th>\n",
       "      <th>...</th>\n",
       "      <th>Transported</th>\n",
       "      <th>CabinLetter1</th>\n",
       "      <th>CabinLetter2</th>\n",
       "      <th>CabinNumber</th>\n",
       "      <th>AgeBand</th>\n",
       "      <th>RSRange</th>\n",
       "      <th>FCRange</th>\n",
       "      <th>SMRange</th>\n",
       "      <th>SpRange</th>\n",
       "      <th>VRDRange</th>\n",
       "    </tr>\n",
       "  </thead>\n",
       "  <tbody>\n",
       "    <tr>\n",
       "      <th>0</th>\n",
       "      <td>0001_01</td>\n",
       "      <td>Europa</td>\n",
       "      <td>False</td>\n",
       "      <td>TRAPPIST-1e</td>\n",
       "      <td>3</td>\n",
       "      <td>False</td>\n",
       "      <td>0</td>\n",
       "      <td>0</td>\n",
       "      <td>0</td>\n",
       "      <td>0</td>\n",
       "      <td>...</td>\n",
       "      <td>False</td>\n",
       "      <td>B</td>\n",
       "      <td>P</td>\n",
       "      <td>0</td>\n",
       "      <td>(29.625, 39.5]</td>\n",
       "      <td>(-14.327, 1432.7]</td>\n",
       "      <td>(-29.813, 2981.3]</td>\n",
       "      <td>(-23.492, 2349.2]</td>\n",
       "      <td>(-22.408, 2240.8]</td>\n",
       "      <td>(-24.133, 2413.3]</td>\n",
       "    </tr>\n",
       "    <tr>\n",
       "      <th>1</th>\n",
       "      <td>0002_01</td>\n",
       "      <td>Earth</td>\n",
       "      <td>False</td>\n",
       "      <td>TRAPPIST-1e</td>\n",
       "      <td>2</td>\n",
       "      <td>False</td>\n",
       "      <td>0</td>\n",
       "      <td>0</td>\n",
       "      <td>0</td>\n",
       "      <td>0</td>\n",
       "      <td>...</td>\n",
       "      <td>True</td>\n",
       "      <td>F</td>\n",
       "      <td>S</td>\n",
       "      <td>0</td>\n",
       "      <td>(19.75, 29.625]</td>\n",
       "      <td>(-14.327, 1432.7]</td>\n",
       "      <td>(-29.813, 2981.3]</td>\n",
       "      <td>(-23.492, 2349.2]</td>\n",
       "      <td>(-22.408, 2240.8]</td>\n",
       "      <td>(-24.133, 2413.3]</td>\n",
       "    </tr>\n",
       "    <tr>\n",
       "      <th>2</th>\n",
       "      <td>0003_01</td>\n",
       "      <td>Europa</td>\n",
       "      <td>False</td>\n",
       "      <td>TRAPPIST-1e</td>\n",
       "      <td>5</td>\n",
       "      <td>True</td>\n",
       "      <td>0</td>\n",
       "      <td>1</td>\n",
       "      <td>0</td>\n",
       "      <td>2</td>\n",
       "      <td>...</td>\n",
       "      <td>False</td>\n",
       "      <td>A</td>\n",
       "      <td>S</td>\n",
       "      <td>0</td>\n",
       "      <td>(49.375, 59.25]</td>\n",
       "      <td>(-14.327, 1432.7]</td>\n",
       "      <td>(2981.3, 5962.6]</td>\n",
       "      <td>(-23.492, 2349.2]</td>\n",
       "      <td>(4481.6, 6722.4]</td>\n",
       "      <td>(-24.133, 2413.3]</td>\n",
       "    </tr>\n",
       "    <tr>\n",
       "      <th>3</th>\n",
       "      <td>0003_02</td>\n",
       "      <td>Europa</td>\n",
       "      <td>False</td>\n",
       "      <td>TRAPPIST-1e</td>\n",
       "      <td>3</td>\n",
       "      <td>False</td>\n",
       "      <td>0</td>\n",
       "      <td>0</td>\n",
       "      <td>0</td>\n",
       "      <td>1</td>\n",
       "      <td>...</td>\n",
       "      <td>False</td>\n",
       "      <td>A</td>\n",
       "      <td>S</td>\n",
       "      <td>0</td>\n",
       "      <td>(29.625, 39.5]</td>\n",
       "      <td>(-14.327, 1432.7]</td>\n",
       "      <td>(-29.813, 2981.3]</td>\n",
       "      <td>(-23.492, 2349.2]</td>\n",
       "      <td>(2240.8, 4481.6]</td>\n",
       "      <td>(-24.133, 2413.3]</td>\n",
       "    </tr>\n",
       "    <tr>\n",
       "      <th>4</th>\n",
       "      <td>0004_01</td>\n",
       "      <td>Earth</td>\n",
       "      <td>False</td>\n",
       "      <td>TRAPPIST-1e</td>\n",
       "      <td>1</td>\n",
       "      <td>False</td>\n",
       "      <td>0</td>\n",
       "      <td>0</td>\n",
       "      <td>0</td>\n",
       "      <td>0</td>\n",
       "      <td>...</td>\n",
       "      <td>True</td>\n",
       "      <td>F</td>\n",
       "      <td>S</td>\n",
       "      <td>1</td>\n",
       "      <td>(9.875, 19.75]</td>\n",
       "      <td>(-14.327, 1432.7]</td>\n",
       "      <td>(-29.813, 2981.3]</td>\n",
       "      <td>(-23.492, 2349.2]</td>\n",
       "      <td>(-22.408, 2240.8]</td>\n",
       "      <td>(-24.133, 2413.3]</td>\n",
       "    </tr>\n",
       "  </tbody>\n",
       "</table>\n",
       "<p>5 rows × 21 columns</p>\n",
       "</div>"
      ],
      "text/plain": [
       "  PassengerId HomePlanet  CryoSleep  Destination  Age    VIP  RoomService  \\\n",
       "0     0001_01     Europa      False  TRAPPIST-1e    3  False            0   \n",
       "1     0002_01      Earth      False  TRAPPIST-1e    2  False            0   \n",
       "2     0003_01     Europa      False  TRAPPIST-1e    5   True            0   \n",
       "3     0003_02     Europa      False  TRAPPIST-1e    3  False            0   \n",
       "4     0004_01      Earth      False  TRAPPIST-1e    1  False            0   \n",
       "\n",
       "   FoodCourt  ShoppingMall  Spa  ...  Transported  CabinLetter1 CabinLetter2  \\\n",
       "0          0             0    0  ...        False             B            P   \n",
       "1          0             0    0  ...         True             F            S   \n",
       "2          1             0    2  ...        False             A            S   \n",
       "3          0             0    1  ...        False             A            S   \n",
       "4          0             0    0  ...         True             F            S   \n",
       "\n",
       "  CabinNumber          AgeBand            RSRange            FCRange  \\\n",
       "0           0   (29.625, 39.5]  (-14.327, 1432.7]  (-29.813, 2981.3]   \n",
       "1           0  (19.75, 29.625]  (-14.327, 1432.7]  (-29.813, 2981.3]   \n",
       "2           0  (49.375, 59.25]  (-14.327, 1432.7]   (2981.3, 5962.6]   \n",
       "3           0   (29.625, 39.5]  (-14.327, 1432.7]  (-29.813, 2981.3]   \n",
       "4           1   (9.875, 19.75]  (-14.327, 1432.7]  (-29.813, 2981.3]   \n",
       "\n",
       "             SMRange            SpRange           VRDRange  \n",
       "0  (-23.492, 2349.2]  (-22.408, 2240.8]  (-24.133, 2413.3]  \n",
       "1  (-23.492, 2349.2]  (-22.408, 2240.8]  (-24.133, 2413.3]  \n",
       "2  (-23.492, 2349.2]   (4481.6, 6722.4]  (-24.133, 2413.3]  \n",
       "3  (-23.492, 2349.2]   (2240.8, 4481.6]  (-24.133, 2413.3]  \n",
       "4  (-23.492, 2349.2]  (-22.408, 2240.8]  (-24.133, 2413.3]  \n",
       "\n",
       "[5 rows x 21 columns]"
      ]
     },
     "execution_count": 2158,
     "metadata": {},
     "output_type": "execute_result"
    }
   ],
   "source": [
    "for dataset in combine:\n",
    "    dataset.loc[dataset['VRDeck'] <= 2413.3, 'VRDeck'] = 0\n",
    "    dataset.loc[(dataset['VRDeck'] > 2413.3) & (dataset['VRDeck'] <= 4826.6), 'VRDeck'] = 1\n",
    "    dataset.loc[(dataset['VRDeck'] > 4826.6) & (dataset['VRDeck'] <= 7239.9), 'VRDeck'] = 2\n",
    "    dataset.loc[(dataset['VRDeck'] > 7239.9) & (dataset['VRDeck'] <= 9653.2), 'VRDeck'] = 3\n",
    "    dataset.loc[(dataset['VRDeck'] > 9653.2) & (dataset['VRDeck'] <= 12066.5), 'VRDeck'] = 4\n",
    "    dataset.loc[(dataset['VRDeck'] > 12066.5) & (dataset['VRDeck'] <= 14479.8), 'VRDeck'] = 5\n",
    "    dataset.loc[(dataset['VRDeck'] > 14479.8) & (dataset['VRDeck'] <= 16893.1), 'VRDeck'] = 6\n",
    "    dataset.loc[(dataset['VRDeck'] > 16893.1) & (dataset['VRDeck'] <= 19306.4), 'VRDeck'] = 7\n",
    "    dataset.loc[(dataset['VRDeck'] > 19306.4) & (dataset['VRDeck'] <=  21719.7), 'VRDeck'] = 8\n",
    "    dataset.loc[dataset['VRDeck'] >  21719.7, 'VRDeck'] = 9\n",
    "    dataset['VRDeck'] = dataset['VRDeck'].astype(int)\n",
    "combine = [train_df,test_df]\n",
    "train_df.head()"
   ]
  },
  {
   "cell_type": "markdown",
   "metadata": {},
   "source": [
    "__Cabin Number__"
   ]
  },
  {
   "cell_type": "markdown",
   "metadata": {},
   "source": [
    "Create a Cabin number range called CBNRange by deviding cabin number to 10 peices"
   ]
  },
  {
   "cell_type": "code",
   "execution_count": 2159,
   "metadata": {},
   "outputs": [
    {
     "data": {
      "text/html": [
       "<div>\n",
       "<style scoped>\n",
       "    .dataframe tbody tr th:only-of-type {\n",
       "        vertical-align: middle;\n",
       "    }\n",
       "\n",
       "    .dataframe tbody tr th {\n",
       "        vertical-align: top;\n",
       "    }\n",
       "\n",
       "    .dataframe thead th {\n",
       "        text-align: right;\n",
       "    }\n",
       "</style>\n",
       "<table border=\"1\" class=\"dataframe\">\n",
       "  <thead>\n",
       "    <tr style=\"text-align: right;\">\n",
       "      <th></th>\n",
       "      <th>CBNRange</th>\n",
       "      <th>Transported</th>\n",
       "    </tr>\n",
       "  </thead>\n",
       "  <tbody>\n",
       "    <tr>\n",
       "      <th>0</th>\n",
       "      <td>(-0.099, 9.9]</td>\n",
       "      <td>0.530769</td>\n",
       "    </tr>\n",
       "    <tr>\n",
       "      <th>1</th>\n",
       "      <td>(9.9, 19.8]</td>\n",
       "      <td>0.494743</td>\n",
       "    </tr>\n",
       "    <tr>\n",
       "      <th>2</th>\n",
       "      <td>(19.8, 29.7]</td>\n",
       "      <td>0.535892</td>\n",
       "    </tr>\n",
       "    <tr>\n",
       "      <th>3</th>\n",
       "      <td>(29.7, 39.6]</td>\n",
       "      <td>0.444776</td>\n",
       "    </tr>\n",
       "    <tr>\n",
       "      <th>4</th>\n",
       "      <td>(39.6, 49.5]</td>\n",
       "      <td>0.396226</td>\n",
       "    </tr>\n",
       "    <tr>\n",
       "      <th>5</th>\n",
       "      <td>(49.5, 59.4]</td>\n",
       "      <td>0.455139</td>\n",
       "    </tr>\n",
       "    <tr>\n",
       "      <th>6</th>\n",
       "      <td>(59.4, 69.3]</td>\n",
       "      <td>0.512035</td>\n",
       "    </tr>\n",
       "    <tr>\n",
       "      <th>7</th>\n",
       "      <td>(69.3, 79.2]</td>\n",
       "      <td>0.539503</td>\n",
       "    </tr>\n",
       "    <tr>\n",
       "      <th>8</th>\n",
       "      <td>(79.2, 89.1]</td>\n",
       "      <td>0.564482</td>\n",
       "    </tr>\n",
       "    <tr>\n",
       "      <th>9</th>\n",
       "      <td>(89.1, 99.0]</td>\n",
       "      <td>0.634888</td>\n",
       "    </tr>\n",
       "  </tbody>\n",
       "</table>\n",
       "</div>"
      ],
      "text/plain": [
       "        CBNRange  Transported\n",
       "0  (-0.099, 9.9]     0.530769\n",
       "1    (9.9, 19.8]     0.494743\n",
       "2   (19.8, 29.7]     0.535892\n",
       "3   (29.7, 39.6]     0.444776\n",
       "4   (39.6, 49.5]     0.396226\n",
       "5   (49.5, 59.4]     0.455139\n",
       "6   (59.4, 69.3]     0.512035\n",
       "7   (69.3, 79.2]     0.539503\n",
       "8   (79.2, 89.1]     0.564482\n",
       "9   (89.1, 99.0]     0.634888"
      ]
     },
     "execution_count": 2159,
     "metadata": {},
     "output_type": "execute_result"
    }
   ],
   "source": [
    "train_df['CBNRange'] = pd.cut(train_df['CabinNumber'], 10)\n",
    "train_df[['CBNRange', 'Transported']].groupby(['CBNRange'], as_index=False).mean().sort_values(by='CBNRange', ascending=True)"
   ]
  },
  {
   "cell_type": "markdown",
   "metadata": {},
   "source": [
    "Change cabin number values according to CBNRange"
   ]
  },
  {
   "cell_type": "code",
   "execution_count": 2160,
   "metadata": {},
   "outputs": [
    {
     "data": {
      "text/html": [
       "<div>\n",
       "<style scoped>\n",
       "    .dataframe tbody tr th:only-of-type {\n",
       "        vertical-align: middle;\n",
       "    }\n",
       "\n",
       "    .dataframe tbody tr th {\n",
       "        vertical-align: top;\n",
       "    }\n",
       "\n",
       "    .dataframe thead th {\n",
       "        text-align: right;\n",
       "    }\n",
       "</style>\n",
       "<table border=\"1\" class=\"dataframe\">\n",
       "  <thead>\n",
       "    <tr style=\"text-align: right;\">\n",
       "      <th></th>\n",
       "      <th>PassengerId</th>\n",
       "      <th>HomePlanet</th>\n",
       "      <th>CryoSleep</th>\n",
       "      <th>Destination</th>\n",
       "      <th>Age</th>\n",
       "      <th>VIP</th>\n",
       "      <th>RoomService</th>\n",
       "      <th>FoodCourt</th>\n",
       "      <th>ShoppingMall</th>\n",
       "      <th>Spa</th>\n",
       "      <th>...</th>\n",
       "      <th>CabinLetter1</th>\n",
       "      <th>CabinLetter2</th>\n",
       "      <th>CabinNumber</th>\n",
       "      <th>AgeBand</th>\n",
       "      <th>RSRange</th>\n",
       "      <th>FCRange</th>\n",
       "      <th>SMRange</th>\n",
       "      <th>SpRange</th>\n",
       "      <th>VRDRange</th>\n",
       "      <th>CBNRange</th>\n",
       "    </tr>\n",
       "  </thead>\n",
       "  <tbody>\n",
       "    <tr>\n",
       "      <th>0</th>\n",
       "      <td>0001_01</td>\n",
       "      <td>Europa</td>\n",
       "      <td>False</td>\n",
       "      <td>TRAPPIST-1e</td>\n",
       "      <td>3</td>\n",
       "      <td>False</td>\n",
       "      <td>0</td>\n",
       "      <td>0</td>\n",
       "      <td>0</td>\n",
       "      <td>0</td>\n",
       "      <td>...</td>\n",
       "      <td>B</td>\n",
       "      <td>P</td>\n",
       "      <td>0</td>\n",
       "      <td>(29.625, 39.5]</td>\n",
       "      <td>(-14.327, 1432.7]</td>\n",
       "      <td>(-29.813, 2981.3]</td>\n",
       "      <td>(-23.492, 2349.2]</td>\n",
       "      <td>(-22.408, 2240.8]</td>\n",
       "      <td>(-24.133, 2413.3]</td>\n",
       "      <td>(-0.099, 9.9]</td>\n",
       "    </tr>\n",
       "    <tr>\n",
       "      <th>1</th>\n",
       "      <td>0002_01</td>\n",
       "      <td>Earth</td>\n",
       "      <td>False</td>\n",
       "      <td>TRAPPIST-1e</td>\n",
       "      <td>2</td>\n",
       "      <td>False</td>\n",
       "      <td>0</td>\n",
       "      <td>0</td>\n",
       "      <td>0</td>\n",
       "      <td>0</td>\n",
       "      <td>...</td>\n",
       "      <td>F</td>\n",
       "      <td>S</td>\n",
       "      <td>0</td>\n",
       "      <td>(19.75, 29.625]</td>\n",
       "      <td>(-14.327, 1432.7]</td>\n",
       "      <td>(-29.813, 2981.3]</td>\n",
       "      <td>(-23.492, 2349.2]</td>\n",
       "      <td>(-22.408, 2240.8]</td>\n",
       "      <td>(-24.133, 2413.3]</td>\n",
       "      <td>(-0.099, 9.9]</td>\n",
       "    </tr>\n",
       "    <tr>\n",
       "      <th>2</th>\n",
       "      <td>0003_01</td>\n",
       "      <td>Europa</td>\n",
       "      <td>False</td>\n",
       "      <td>TRAPPIST-1e</td>\n",
       "      <td>5</td>\n",
       "      <td>True</td>\n",
       "      <td>0</td>\n",
       "      <td>1</td>\n",
       "      <td>0</td>\n",
       "      <td>2</td>\n",
       "      <td>...</td>\n",
       "      <td>A</td>\n",
       "      <td>S</td>\n",
       "      <td>0</td>\n",
       "      <td>(49.375, 59.25]</td>\n",
       "      <td>(-14.327, 1432.7]</td>\n",
       "      <td>(2981.3, 5962.6]</td>\n",
       "      <td>(-23.492, 2349.2]</td>\n",
       "      <td>(4481.6, 6722.4]</td>\n",
       "      <td>(-24.133, 2413.3]</td>\n",
       "      <td>(-0.099, 9.9]</td>\n",
       "    </tr>\n",
       "    <tr>\n",
       "      <th>3</th>\n",
       "      <td>0003_02</td>\n",
       "      <td>Europa</td>\n",
       "      <td>False</td>\n",
       "      <td>TRAPPIST-1e</td>\n",
       "      <td>3</td>\n",
       "      <td>False</td>\n",
       "      <td>0</td>\n",
       "      <td>0</td>\n",
       "      <td>0</td>\n",
       "      <td>1</td>\n",
       "      <td>...</td>\n",
       "      <td>A</td>\n",
       "      <td>S</td>\n",
       "      <td>0</td>\n",
       "      <td>(29.625, 39.5]</td>\n",
       "      <td>(-14.327, 1432.7]</td>\n",
       "      <td>(-29.813, 2981.3]</td>\n",
       "      <td>(-23.492, 2349.2]</td>\n",
       "      <td>(2240.8, 4481.6]</td>\n",
       "      <td>(-24.133, 2413.3]</td>\n",
       "      <td>(-0.099, 9.9]</td>\n",
       "    </tr>\n",
       "    <tr>\n",
       "      <th>4</th>\n",
       "      <td>0004_01</td>\n",
       "      <td>Earth</td>\n",
       "      <td>False</td>\n",
       "      <td>TRAPPIST-1e</td>\n",
       "      <td>1</td>\n",
       "      <td>False</td>\n",
       "      <td>0</td>\n",
       "      <td>0</td>\n",
       "      <td>0</td>\n",
       "      <td>0</td>\n",
       "      <td>...</td>\n",
       "      <td>F</td>\n",
       "      <td>S</td>\n",
       "      <td>0</td>\n",
       "      <td>(9.875, 19.75]</td>\n",
       "      <td>(-14.327, 1432.7]</td>\n",
       "      <td>(-29.813, 2981.3]</td>\n",
       "      <td>(-23.492, 2349.2]</td>\n",
       "      <td>(-22.408, 2240.8]</td>\n",
       "      <td>(-24.133, 2413.3]</td>\n",
       "      <td>(-0.099, 9.9]</td>\n",
       "    </tr>\n",
       "  </tbody>\n",
       "</table>\n",
       "<p>5 rows × 22 columns</p>\n",
       "</div>"
      ],
      "text/plain": [
       "  PassengerId HomePlanet  CryoSleep  Destination  Age    VIP  RoomService  \\\n",
       "0     0001_01     Europa      False  TRAPPIST-1e    3  False            0   \n",
       "1     0002_01      Earth      False  TRAPPIST-1e    2  False            0   \n",
       "2     0003_01     Europa      False  TRAPPIST-1e    5   True            0   \n",
       "3     0003_02     Europa      False  TRAPPIST-1e    3  False            0   \n",
       "4     0004_01      Earth      False  TRAPPIST-1e    1  False            0   \n",
       "\n",
       "   FoodCourt  ShoppingMall  Spa  ...  CabinLetter1  CabinLetter2 CabinNumber  \\\n",
       "0          0             0    0  ...             B             P           0   \n",
       "1          0             0    0  ...             F             S           0   \n",
       "2          1             0    2  ...             A             S           0   \n",
       "3          0             0    1  ...             A             S           0   \n",
       "4          0             0    0  ...             F             S           0   \n",
       "\n",
       "           AgeBand            RSRange            FCRange            SMRange  \\\n",
       "0   (29.625, 39.5]  (-14.327, 1432.7]  (-29.813, 2981.3]  (-23.492, 2349.2]   \n",
       "1  (19.75, 29.625]  (-14.327, 1432.7]  (-29.813, 2981.3]  (-23.492, 2349.2]   \n",
       "2  (49.375, 59.25]  (-14.327, 1432.7]   (2981.3, 5962.6]  (-23.492, 2349.2]   \n",
       "3   (29.625, 39.5]  (-14.327, 1432.7]  (-29.813, 2981.3]  (-23.492, 2349.2]   \n",
       "4   (9.875, 19.75]  (-14.327, 1432.7]  (-29.813, 2981.3]  (-23.492, 2349.2]   \n",
       "\n",
       "             SpRange           VRDRange       CBNRange  \n",
       "0  (-22.408, 2240.8]  (-24.133, 2413.3]  (-0.099, 9.9]  \n",
       "1  (-22.408, 2240.8]  (-24.133, 2413.3]  (-0.099, 9.9]  \n",
       "2   (4481.6, 6722.4]  (-24.133, 2413.3]  (-0.099, 9.9]  \n",
       "3   (2240.8, 4481.6]  (-24.133, 2413.3]  (-0.099, 9.9]  \n",
       "4  (-22.408, 2240.8]  (-24.133, 2413.3]  (-0.099, 9.9]  \n",
       "\n",
       "[5 rows x 22 columns]"
      ]
     },
     "execution_count": 2160,
     "metadata": {},
     "output_type": "execute_result"
    }
   ],
   "source": [
    "for dataset in combine:\n",
    "    dataset.loc[dataset['CabinNumber'] <= 9.9, 'CabinNumber'] = 0\n",
    "    dataset.loc[(dataset['CabinNumber'] > 9.9) & (dataset['CabinNumber'] <= 19.8), 'CabinNumber'] = 1\n",
    "    dataset.loc[(dataset['CabinNumber'] > 19.8) & (dataset['CabinNumber'] <= 29.7), 'CabinNumber'] = 2\n",
    "    dataset.loc[(dataset['CabinNumber'] > 29.7) & (dataset['CabinNumber'] <= 39.6), 'CabinNumber'] = 3\n",
    "    dataset.loc[(dataset['CabinNumber'] > 39.6) & (dataset['CabinNumber'] <= 49.5), 'CabinNumber'] = 4\n",
    "    dataset.loc[(dataset['CabinNumber'] > 49.5) & (dataset['CabinNumber'] <= 59.4), 'CabinNumber'] = 5\n",
    "    dataset.loc[(dataset['CabinNumber'] > 59.4) & (dataset['CabinNumber'] <= 69.3), 'CabinNumber'] = 6\n",
    "    dataset.loc[(dataset['CabinNumber'] > 69.3) & (dataset['CabinNumber'] <= 79.2), 'CabinNumber'] = 7\n",
    "    dataset.loc[(dataset['CabinNumber'] > 79.2) & (dataset['CabinNumber'] <=  89.1), 'CabinNumber'] = 8\n",
    "    dataset.loc[dataset['CabinNumber'] >  89.1, 'CabinNumber'] = 9\n",
    "    dataset['CabinNumber'] = dataset['CabinNumber'].astype(int)\n",
    "combine = [train_df,test_df]\n",
    "train_df.head()"
   ]
  },
  {
   "cell_type": "markdown",
   "metadata": {},
   "source": [
    "__Lets drop all these range collumns which we create previously__"
   ]
  },
  {
   "cell_type": "code",
   "execution_count": 2161,
   "metadata": {},
   "outputs": [],
   "source": [
    "train_df.drop(['AgeBand','RSRange', 'FCRange', 'SMRange', 'SpRange', 'VRDRange', 'CBNRange'], axis=1, inplace=True)"
   ]
  },
  {
   "cell_type": "code",
   "execution_count": 2162,
   "metadata": {},
   "outputs": [
    {
     "data": {
      "text/html": [
       "<div>\n",
       "<style scoped>\n",
       "    .dataframe tbody tr th:only-of-type {\n",
       "        vertical-align: middle;\n",
       "    }\n",
       "\n",
       "    .dataframe tbody tr th {\n",
       "        vertical-align: top;\n",
       "    }\n",
       "\n",
       "    .dataframe thead th {\n",
       "        text-align: right;\n",
       "    }\n",
       "</style>\n",
       "<table border=\"1\" class=\"dataframe\">\n",
       "  <thead>\n",
       "    <tr style=\"text-align: right;\">\n",
       "      <th></th>\n",
       "      <th>PassengerId</th>\n",
       "      <th>HomePlanet</th>\n",
       "      <th>CryoSleep</th>\n",
       "      <th>Destination</th>\n",
       "      <th>Age</th>\n",
       "      <th>VIP</th>\n",
       "      <th>RoomService</th>\n",
       "      <th>FoodCourt</th>\n",
       "      <th>ShoppingMall</th>\n",
       "      <th>Spa</th>\n",
       "      <th>VRDeck</th>\n",
       "      <th>Transported</th>\n",
       "      <th>CabinLetter1</th>\n",
       "      <th>CabinLetter2</th>\n",
       "      <th>CabinNumber</th>\n",
       "    </tr>\n",
       "  </thead>\n",
       "  <tbody>\n",
       "    <tr>\n",
       "      <th>0</th>\n",
       "      <td>0001_01</td>\n",
       "      <td>Europa</td>\n",
       "      <td>False</td>\n",
       "      <td>TRAPPIST-1e</td>\n",
       "      <td>3</td>\n",
       "      <td>False</td>\n",
       "      <td>0</td>\n",
       "      <td>0</td>\n",
       "      <td>0</td>\n",
       "      <td>0</td>\n",
       "      <td>0</td>\n",
       "      <td>False</td>\n",
       "      <td>B</td>\n",
       "      <td>P</td>\n",
       "      <td>0</td>\n",
       "    </tr>\n",
       "    <tr>\n",
       "      <th>1</th>\n",
       "      <td>0002_01</td>\n",
       "      <td>Earth</td>\n",
       "      <td>False</td>\n",
       "      <td>TRAPPIST-1e</td>\n",
       "      <td>2</td>\n",
       "      <td>False</td>\n",
       "      <td>0</td>\n",
       "      <td>0</td>\n",
       "      <td>0</td>\n",
       "      <td>0</td>\n",
       "      <td>0</td>\n",
       "      <td>True</td>\n",
       "      <td>F</td>\n",
       "      <td>S</td>\n",
       "      <td>0</td>\n",
       "    </tr>\n",
       "    <tr>\n",
       "      <th>2</th>\n",
       "      <td>0003_01</td>\n",
       "      <td>Europa</td>\n",
       "      <td>False</td>\n",
       "      <td>TRAPPIST-1e</td>\n",
       "      <td>5</td>\n",
       "      <td>True</td>\n",
       "      <td>0</td>\n",
       "      <td>1</td>\n",
       "      <td>0</td>\n",
       "      <td>2</td>\n",
       "      <td>0</td>\n",
       "      <td>False</td>\n",
       "      <td>A</td>\n",
       "      <td>S</td>\n",
       "      <td>0</td>\n",
       "    </tr>\n",
       "    <tr>\n",
       "      <th>3</th>\n",
       "      <td>0003_02</td>\n",
       "      <td>Europa</td>\n",
       "      <td>False</td>\n",
       "      <td>TRAPPIST-1e</td>\n",
       "      <td>3</td>\n",
       "      <td>False</td>\n",
       "      <td>0</td>\n",
       "      <td>0</td>\n",
       "      <td>0</td>\n",
       "      <td>1</td>\n",
       "      <td>0</td>\n",
       "      <td>False</td>\n",
       "      <td>A</td>\n",
       "      <td>S</td>\n",
       "      <td>0</td>\n",
       "    </tr>\n",
       "    <tr>\n",
       "      <th>4</th>\n",
       "      <td>0004_01</td>\n",
       "      <td>Earth</td>\n",
       "      <td>False</td>\n",
       "      <td>TRAPPIST-1e</td>\n",
       "      <td>1</td>\n",
       "      <td>False</td>\n",
       "      <td>0</td>\n",
       "      <td>0</td>\n",
       "      <td>0</td>\n",
       "      <td>0</td>\n",
       "      <td>0</td>\n",
       "      <td>True</td>\n",
       "      <td>F</td>\n",
       "      <td>S</td>\n",
       "      <td>0</td>\n",
       "    </tr>\n",
       "  </tbody>\n",
       "</table>\n",
       "</div>"
      ],
      "text/plain": [
       "  PassengerId HomePlanet  CryoSleep  Destination  Age    VIP  RoomService  \\\n",
       "0     0001_01     Europa      False  TRAPPIST-1e    3  False            0   \n",
       "1     0002_01      Earth      False  TRAPPIST-1e    2  False            0   \n",
       "2     0003_01     Europa      False  TRAPPIST-1e    5   True            0   \n",
       "3     0003_02     Europa      False  TRAPPIST-1e    3  False            0   \n",
       "4     0004_01      Earth      False  TRAPPIST-1e    1  False            0   \n",
       "\n",
       "   FoodCourt  ShoppingMall  Spa  VRDeck  Transported CabinLetter1  \\\n",
       "0          0             0    0       0        False            B   \n",
       "1          0             0    0       0         True            F   \n",
       "2          1             0    2       0        False            A   \n",
       "3          0             0    1       0        False            A   \n",
       "4          0             0    0       0         True            F   \n",
       "\n",
       "  CabinLetter2  CabinNumber  \n",
       "0            P            0  \n",
       "1            S            0  \n",
       "2            S            0  \n",
       "3            S            0  \n",
       "4            S            0  "
      ]
     },
     "execution_count": 2162,
     "metadata": {},
     "output_type": "execute_result"
    }
   ],
   "source": [
    "train_df.head()"
   ]
  },
  {
   "cell_type": "code",
   "execution_count": 2163,
   "metadata": {},
   "outputs": [
    {
     "data": {
      "text/html": [
       "<div>\n",
       "<style scoped>\n",
       "    .dataframe tbody tr th:only-of-type {\n",
       "        vertical-align: middle;\n",
       "    }\n",
       "\n",
       "    .dataframe tbody tr th {\n",
       "        vertical-align: top;\n",
       "    }\n",
       "\n",
       "    .dataframe thead th {\n",
       "        text-align: right;\n",
       "    }\n",
       "</style>\n",
       "<table border=\"1\" class=\"dataframe\">\n",
       "  <thead>\n",
       "    <tr style=\"text-align: right;\">\n",
       "      <th></th>\n",
       "      <th>PassengerId</th>\n",
       "      <th>HomePlanet</th>\n",
       "      <th>CryoSleep</th>\n",
       "      <th>Destination</th>\n",
       "      <th>Age</th>\n",
       "      <th>VIP</th>\n",
       "      <th>RoomService</th>\n",
       "      <th>FoodCourt</th>\n",
       "      <th>ShoppingMall</th>\n",
       "      <th>Spa</th>\n",
       "      <th>VRDeck</th>\n",
       "      <th>CabinLetter1</th>\n",
       "      <th>CabinLetter2</th>\n",
       "      <th>CabinNumber</th>\n",
       "    </tr>\n",
       "  </thead>\n",
       "  <tbody>\n",
       "    <tr>\n",
       "      <th>0</th>\n",
       "      <td>0013_01</td>\n",
       "      <td>Earth</td>\n",
       "      <td>True</td>\n",
       "      <td>TRAPPIST-1e</td>\n",
       "      <td>2</td>\n",
       "      <td>False</td>\n",
       "      <td>0</td>\n",
       "      <td>0</td>\n",
       "      <td>0</td>\n",
       "      <td>0</td>\n",
       "      <td>0</td>\n",
       "      <td>G</td>\n",
       "      <td>S</td>\n",
       "      <td>0</td>\n",
       "    </tr>\n",
       "    <tr>\n",
       "      <th>1</th>\n",
       "      <td>0018_01</td>\n",
       "      <td>Earth</td>\n",
       "      <td>False</td>\n",
       "      <td>TRAPPIST-1e</td>\n",
       "      <td>1</td>\n",
       "      <td>False</td>\n",
       "      <td>0</td>\n",
       "      <td>0</td>\n",
       "      <td>0</td>\n",
       "      <td>1</td>\n",
       "      <td>0</td>\n",
       "      <td>F</td>\n",
       "      <td>S</td>\n",
       "      <td>0</td>\n",
       "    </tr>\n",
       "    <tr>\n",
       "      <th>2</th>\n",
       "      <td>0019_01</td>\n",
       "      <td>Europa</td>\n",
       "      <td>True</td>\n",
       "      <td>55 Cancri e</td>\n",
       "      <td>3</td>\n",
       "      <td>False</td>\n",
       "      <td>0</td>\n",
       "      <td>0</td>\n",
       "      <td>0</td>\n",
       "      <td>0</td>\n",
       "      <td>0</td>\n",
       "      <td>C</td>\n",
       "      <td>S</td>\n",
       "      <td>0</td>\n",
       "    </tr>\n",
       "    <tr>\n",
       "      <th>3</th>\n",
       "      <td>0021_01</td>\n",
       "      <td>Europa</td>\n",
       "      <td>False</td>\n",
       "      <td>TRAPPIST-1e</td>\n",
       "      <td>3</td>\n",
       "      <td>False</td>\n",
       "      <td>0</td>\n",
       "      <td>2</td>\n",
       "      <td>0</td>\n",
       "      <td>0</td>\n",
       "      <td>0</td>\n",
       "      <td>C</td>\n",
       "      <td>S</td>\n",
       "      <td>0</td>\n",
       "    </tr>\n",
       "    <tr>\n",
       "      <th>4</th>\n",
       "      <td>0023_01</td>\n",
       "      <td>Earth</td>\n",
       "      <td>False</td>\n",
       "      <td>TRAPPIST-1e</td>\n",
       "      <td>2</td>\n",
       "      <td>False</td>\n",
       "      <td>0</td>\n",
       "      <td>0</td>\n",
       "      <td>0</td>\n",
       "      <td>0</td>\n",
       "      <td>0</td>\n",
       "      <td>F</td>\n",
       "      <td>S</td>\n",
       "      <td>0</td>\n",
       "    </tr>\n",
       "  </tbody>\n",
       "</table>\n",
       "</div>"
      ],
      "text/plain": [
       "  PassengerId HomePlanet  CryoSleep  Destination  Age    VIP  RoomService  \\\n",
       "0     0013_01      Earth       True  TRAPPIST-1e    2  False            0   \n",
       "1     0018_01      Earth      False  TRAPPIST-1e    1  False            0   \n",
       "2     0019_01     Europa       True  55 Cancri e    3  False            0   \n",
       "3     0021_01     Europa      False  TRAPPIST-1e    3  False            0   \n",
       "4     0023_01      Earth      False  TRAPPIST-1e    2  False            0   \n",
       "\n",
       "   FoodCourt  ShoppingMall  Spa  VRDeck CabinLetter1 CabinLetter2  CabinNumber  \n",
       "0          0             0    0       0            G            S            0  \n",
       "1          0             0    1       0            F            S            0  \n",
       "2          0             0    0       0            C            S            0  \n",
       "3          2             0    0       0            C            S            0  \n",
       "4          0             0    0       0            F            S            0  "
      ]
     },
     "execution_count": 2163,
     "metadata": {},
     "output_type": "execute_result"
    }
   ],
   "source": [
    "test_df.head()"
   ]
  },
  {
   "cell_type": "code",
   "execution_count": 2164,
   "metadata": {},
   "outputs": [
    {
     "data": {
      "text/plain": [
       "array([0, 2, 1, 3, 4, 5, 6, 7, 8, 9])"
      ]
     },
     "execution_count": 2164,
     "metadata": {},
     "output_type": "execute_result"
    }
   ],
   "source": [
    "train_df.CabinNumber.unique()"
   ]
  },
  {
   "cell_type": "markdown",
   "metadata": {},
   "source": [
    "#### __Converting Categorical values to numeric__"
   ]
  },
  {
   "cell_type": "markdown",
   "metadata": {},
   "source": [
    "When machine learning we can only train numerical values. Therefore we should convert our categotical features to numeric. "
   ]
  },
  {
   "cell_type": "markdown",
   "metadata": {},
   "source": [
    "__HomePlanet__"
   ]
  },
  {
   "cell_type": "code",
   "execution_count": 2165,
   "metadata": {},
   "outputs": [
    {
     "data": {
      "text/plain": [
       "array(['Europa', 'Earth', 'Mars'], dtype=object)"
      ]
     },
     "execution_count": 2165,
     "metadata": {},
     "output_type": "execute_result"
    }
   ],
   "source": [
    "train_df.HomePlanet.unique()"
   ]
  },
  {
   "cell_type": "code",
   "execution_count": 2166,
   "metadata": {},
   "outputs": [],
   "source": [
    "mapping_hp = {'Europa':0, 'Earth':1, 'Mars':2}"
   ]
  },
  {
   "cell_type": "markdown",
   "metadata": {},
   "source": [
    "__CryoSleep__"
   ]
  },
  {
   "cell_type": "code",
   "execution_count": 2167,
   "metadata": {},
   "outputs": [
    {
     "data": {
      "text/plain": [
       "array([False,  True])"
      ]
     },
     "execution_count": 2167,
     "metadata": {},
     "output_type": "execute_result"
    }
   ],
   "source": [
    "train_df.CryoSleep.unique()"
   ]
  },
  {
   "cell_type": "code",
   "execution_count": 2168,
   "metadata": {},
   "outputs": [],
   "source": [
    "mapping_cs = {'False':0, 'True':1}"
   ]
  },
  {
   "cell_type": "markdown",
   "metadata": {},
   "source": [
    "__Destination__"
   ]
  },
  {
   "cell_type": "code",
   "execution_count": 2169,
   "metadata": {},
   "outputs": [
    {
     "data": {
      "text/plain": [
       "array(['TRAPPIST-1e', 'PSO J318.5-22', '55 Cancri e'], dtype=object)"
      ]
     },
     "execution_count": 2169,
     "metadata": {},
     "output_type": "execute_result"
    }
   ],
   "source": [
    "train_df.Destination.unique()"
   ]
  },
  {
   "cell_type": "code",
   "execution_count": 2170,
   "metadata": {},
   "outputs": [],
   "source": [
    "mapping_d = {'TRAPPIST-1e':0, 'PSO J318.5-22':1, '55 Cancri e':2}"
   ]
  },
  {
   "cell_type": "markdown",
   "metadata": {},
   "source": [
    "__VIP__"
   ]
  },
  {
   "cell_type": "code",
   "execution_count": 2171,
   "metadata": {},
   "outputs": [
    {
     "data": {
      "text/plain": [
       "array([False,  True])"
      ]
     },
     "execution_count": 2171,
     "metadata": {},
     "output_type": "execute_result"
    }
   ],
   "source": [
    "train_df.VIP.unique()"
   ]
  },
  {
   "cell_type": "code",
   "execution_count": 2172,
   "metadata": {},
   "outputs": [],
   "source": [
    "mapping_v = {'False':0, 'True':1}"
   ]
  },
  {
   "cell_type": "markdown",
   "metadata": {},
   "source": [
    "__Transported__"
   ]
  },
  {
   "cell_type": "code",
   "execution_count": 2173,
   "metadata": {},
   "outputs": [
    {
     "data": {
      "text/plain": [
       "array([False,  True])"
      ]
     },
     "execution_count": 2173,
     "metadata": {},
     "output_type": "execute_result"
    }
   ],
   "source": [
    "train_df.Transported.unique()"
   ]
  },
  {
   "cell_type": "code",
   "execution_count": 2174,
   "metadata": {},
   "outputs": [],
   "source": [
    "mapping_t = {'False':0, 'True':1}"
   ]
  },
  {
   "cell_type": "markdown",
   "metadata": {},
   "source": [
    "__CabinLetter1__"
   ]
  },
  {
   "cell_type": "code",
   "execution_count": 2175,
   "metadata": {},
   "outputs": [
    {
     "data": {
      "text/plain": [
       "array(['B', 'F', 'A', 'G', 'E', 'D', 'C', 'T'], dtype=object)"
      ]
     },
     "execution_count": 2175,
     "metadata": {},
     "output_type": "execute_result"
    }
   ],
   "source": [
    "train_df.CabinLetter1.unique()"
   ]
  },
  {
   "cell_type": "code",
   "execution_count": 2176,
   "metadata": {},
   "outputs": [],
   "source": [
    "mapping_cb1 = {'B':0, 'F':1, 'A':2, 'G':3, 'E':4, 'D':5, 'C':6, 'T':7}"
   ]
  },
  {
   "cell_type": "markdown",
   "metadata": {},
   "source": [
    "__CabinLetter2__"
   ]
  },
  {
   "cell_type": "code",
   "execution_count": 2177,
   "metadata": {},
   "outputs": [
    {
     "data": {
      "text/plain": [
       "array(['P', 'S'], dtype=object)"
      ]
     },
     "execution_count": 2177,
     "metadata": {},
     "output_type": "execute_result"
    }
   ],
   "source": [
    "train_df.CabinLetter2.unique()"
   ]
  },
  {
   "cell_type": "code",
   "execution_count": 2178,
   "metadata": {},
   "outputs": [],
   "source": [
    "mapping_cb2 = {'P':0, 'S':1}"
   ]
  },
  {
   "cell_type": "code",
   "execution_count": 2179,
   "metadata": {},
   "outputs": [
    {
     "name": "stdout",
     "output_type": "stream",
     "text": [
      "<class 'pandas.core.frame.DataFrame'>\n",
      "RangeIndex: 8693 entries, 0 to 8692\n",
      "Data columns (total 15 columns):\n",
      " #   Column        Non-Null Count  Dtype \n",
      "---  ------        --------------  ----- \n",
      " 0   PassengerId   8693 non-null   object\n",
      " 1   HomePlanet    8693 non-null   object\n",
      " 2   CryoSleep     8693 non-null   bool  \n",
      " 3   Destination   8693 non-null   object\n",
      " 4   Age           8693 non-null   int32 \n",
      " 5   VIP           8693 non-null   bool  \n",
      " 6   RoomService   8693 non-null   int32 \n",
      " 7   FoodCourt     8693 non-null   int32 \n",
      " 8   ShoppingMall  8693 non-null   int32 \n",
      " 9   Spa           8693 non-null   int32 \n",
      " 10  VRDeck        8693 non-null   int32 \n",
      " 11  Transported   8693 non-null   bool  \n",
      " 12  CabinLetter1  8693 non-null   object\n",
      " 13  CabinLetter2  8693 non-null   object\n",
      " 14  CabinNumber   8693 non-null   int32 \n",
      "dtypes: bool(3), int32(7), object(5)\n",
      "memory usage: 602.9+ KB\n"
     ]
    }
   ],
   "source": [
    "train_df.info()"
   ]
  },
  {
   "cell_type": "markdown",
   "metadata": {},
   "source": [
    "Now we can convert categorical features to ordinal with these mappings"
   ]
  },
  {
   "cell_type": "code",
   "execution_count": 2180,
   "metadata": {},
   "outputs": [],
   "source": [
    "for dataset in combine:\n",
    "    dataset['HomePlanet'] = dataset['HomePlanet'].map(mapping_hp)\n",
    "    dataset['CryoSleep'] = dataset['CryoSleep'].astype(str).map(mapping_cs)\n",
    "    dataset['Destination'] = dataset['Destination'].map(mapping_d)\n",
    "    dataset['VIP'] = dataset['VIP'].astype(str).map(mapping_v)\n",
    "    dataset['CabinLetter1'] = dataset['CabinLetter1'].map(mapping_cb1)\n",
    "    dataset['CabinLetter2'] = dataset['CabinLetter2'].map(mapping_cb2)\n",
    "train_df['Transported'] = train_df['Transported'].astype(str).map(mapping_t)\n",
    "combine = [train_df, test_df]"
   ]
  },
  {
   "cell_type": "markdown",
   "metadata": {},
   "source": [
    "This is the final look of our data sets"
   ]
  },
  {
   "cell_type": "code",
   "execution_count": 2181,
   "metadata": {},
   "outputs": [
    {
     "name": "stdout",
     "output_type": "stream",
     "text": [
      "<class 'pandas.core.frame.DataFrame'>\n",
      "RangeIndex: 8693 entries, 0 to 8692\n",
      "Data columns (total 15 columns):\n",
      " #   Column        Non-Null Count  Dtype \n",
      "---  ------        --------------  ----- \n",
      " 0   PassengerId   8693 non-null   object\n",
      " 1   HomePlanet    8693 non-null   int64 \n",
      " 2   CryoSleep     8693 non-null   int64 \n",
      " 3   Destination   8693 non-null   int64 \n",
      " 4   Age           8693 non-null   int32 \n",
      " 5   VIP           8693 non-null   int64 \n",
      " 6   RoomService   8693 non-null   int32 \n",
      " 7   FoodCourt     8693 non-null   int32 \n",
      " 8   ShoppingMall  8693 non-null   int32 \n",
      " 9   Spa           8693 non-null   int32 \n",
      " 10  VRDeck        8693 non-null   int32 \n",
      " 11  Transported   8693 non-null   int64 \n",
      " 12  CabinLetter1  8693 non-null   int64 \n",
      " 13  CabinLetter2  8693 non-null   int64 \n",
      " 14  CabinNumber   8693 non-null   int32 \n",
      "dtypes: int32(7), int64(7), object(1)\n",
      "memory usage: 781.1+ KB\n"
     ]
    }
   ],
   "source": [
    "train_df.info()"
   ]
  },
  {
   "cell_type": "code",
   "execution_count": 2182,
   "metadata": {},
   "outputs": [
    {
     "data": {
      "text/html": [
       "<div>\n",
       "<style scoped>\n",
       "    .dataframe tbody tr th:only-of-type {\n",
       "        vertical-align: middle;\n",
       "    }\n",
       "\n",
       "    .dataframe tbody tr th {\n",
       "        vertical-align: top;\n",
       "    }\n",
       "\n",
       "    .dataframe thead th {\n",
       "        text-align: right;\n",
       "    }\n",
       "</style>\n",
       "<table border=\"1\" class=\"dataframe\">\n",
       "  <thead>\n",
       "    <tr style=\"text-align: right;\">\n",
       "      <th></th>\n",
       "      <th>PassengerId</th>\n",
       "      <th>HomePlanet</th>\n",
       "      <th>CryoSleep</th>\n",
       "      <th>Destination</th>\n",
       "      <th>Age</th>\n",
       "      <th>VIP</th>\n",
       "      <th>RoomService</th>\n",
       "      <th>FoodCourt</th>\n",
       "      <th>ShoppingMall</th>\n",
       "      <th>Spa</th>\n",
       "      <th>VRDeck</th>\n",
       "      <th>Transported</th>\n",
       "      <th>CabinLetter1</th>\n",
       "      <th>CabinLetter2</th>\n",
       "      <th>CabinNumber</th>\n",
       "    </tr>\n",
       "  </thead>\n",
       "  <tbody>\n",
       "    <tr>\n",
       "      <th>0</th>\n",
       "      <td>0001_01</td>\n",
       "      <td>0</td>\n",
       "      <td>0</td>\n",
       "      <td>0</td>\n",
       "      <td>3</td>\n",
       "      <td>0</td>\n",
       "      <td>0</td>\n",
       "      <td>0</td>\n",
       "      <td>0</td>\n",
       "      <td>0</td>\n",
       "      <td>0</td>\n",
       "      <td>0</td>\n",
       "      <td>0</td>\n",
       "      <td>0</td>\n",
       "      <td>0</td>\n",
       "    </tr>\n",
       "    <tr>\n",
       "      <th>1</th>\n",
       "      <td>0002_01</td>\n",
       "      <td>1</td>\n",
       "      <td>0</td>\n",
       "      <td>0</td>\n",
       "      <td>2</td>\n",
       "      <td>0</td>\n",
       "      <td>0</td>\n",
       "      <td>0</td>\n",
       "      <td>0</td>\n",
       "      <td>0</td>\n",
       "      <td>0</td>\n",
       "      <td>1</td>\n",
       "      <td>1</td>\n",
       "      <td>1</td>\n",
       "      <td>0</td>\n",
       "    </tr>\n",
       "    <tr>\n",
       "      <th>2</th>\n",
       "      <td>0003_01</td>\n",
       "      <td>0</td>\n",
       "      <td>0</td>\n",
       "      <td>0</td>\n",
       "      <td>5</td>\n",
       "      <td>1</td>\n",
       "      <td>0</td>\n",
       "      <td>1</td>\n",
       "      <td>0</td>\n",
       "      <td>2</td>\n",
       "      <td>0</td>\n",
       "      <td>0</td>\n",
       "      <td>2</td>\n",
       "      <td>1</td>\n",
       "      <td>0</td>\n",
       "    </tr>\n",
       "    <tr>\n",
       "      <th>3</th>\n",
       "      <td>0003_02</td>\n",
       "      <td>0</td>\n",
       "      <td>0</td>\n",
       "      <td>0</td>\n",
       "      <td>3</td>\n",
       "      <td>0</td>\n",
       "      <td>0</td>\n",
       "      <td>0</td>\n",
       "      <td>0</td>\n",
       "      <td>1</td>\n",
       "      <td>0</td>\n",
       "      <td>0</td>\n",
       "      <td>2</td>\n",
       "      <td>1</td>\n",
       "      <td>0</td>\n",
       "    </tr>\n",
       "    <tr>\n",
       "      <th>4</th>\n",
       "      <td>0004_01</td>\n",
       "      <td>1</td>\n",
       "      <td>0</td>\n",
       "      <td>0</td>\n",
       "      <td>1</td>\n",
       "      <td>0</td>\n",
       "      <td>0</td>\n",
       "      <td>0</td>\n",
       "      <td>0</td>\n",
       "      <td>0</td>\n",
       "      <td>0</td>\n",
       "      <td>1</td>\n",
       "      <td>1</td>\n",
       "      <td>1</td>\n",
       "      <td>0</td>\n",
       "    </tr>\n",
       "  </tbody>\n",
       "</table>\n",
       "</div>"
      ],
      "text/plain": [
       "  PassengerId  HomePlanet  CryoSleep  Destination  Age  VIP  RoomService  \\\n",
       "0     0001_01           0          0            0    3    0            0   \n",
       "1     0002_01           1          0            0    2    0            0   \n",
       "2     0003_01           0          0            0    5    1            0   \n",
       "3     0003_02           0          0            0    3    0            0   \n",
       "4     0004_01           1          0            0    1    0            0   \n",
       "\n",
       "   FoodCourt  ShoppingMall  Spa  VRDeck  Transported  CabinLetter1  \\\n",
       "0          0             0    0       0            0             0   \n",
       "1          0             0    0       0            1             1   \n",
       "2          1             0    2       0            0             2   \n",
       "3          0             0    1       0            0             2   \n",
       "4          0             0    0       0            1             1   \n",
       "\n",
       "   CabinLetter2  CabinNumber  \n",
       "0             0            0  \n",
       "1             1            0  \n",
       "2             1            0  \n",
       "3             1            0  \n",
       "4             1            0  "
      ]
     },
     "execution_count": 2182,
     "metadata": {},
     "output_type": "execute_result"
    }
   ],
   "source": [
    "train_df.head()"
   ]
  },
  {
   "cell_type": "code",
   "execution_count": 2183,
   "metadata": {},
   "outputs": [
    {
     "data": {
      "text/html": [
       "<div>\n",
       "<style scoped>\n",
       "    .dataframe tbody tr th:only-of-type {\n",
       "        vertical-align: middle;\n",
       "    }\n",
       "\n",
       "    .dataframe tbody tr th {\n",
       "        vertical-align: top;\n",
       "    }\n",
       "\n",
       "    .dataframe thead th {\n",
       "        text-align: right;\n",
       "    }\n",
       "</style>\n",
       "<table border=\"1\" class=\"dataframe\">\n",
       "  <thead>\n",
       "    <tr style=\"text-align: right;\">\n",
       "      <th></th>\n",
       "      <th>PassengerId</th>\n",
       "      <th>HomePlanet</th>\n",
       "      <th>CryoSleep</th>\n",
       "      <th>Destination</th>\n",
       "      <th>Age</th>\n",
       "      <th>VIP</th>\n",
       "      <th>RoomService</th>\n",
       "      <th>FoodCourt</th>\n",
       "      <th>ShoppingMall</th>\n",
       "      <th>Spa</th>\n",
       "      <th>VRDeck</th>\n",
       "      <th>CabinLetter1</th>\n",
       "      <th>CabinLetter2</th>\n",
       "      <th>CabinNumber</th>\n",
       "    </tr>\n",
       "  </thead>\n",
       "  <tbody>\n",
       "    <tr>\n",
       "      <th>0</th>\n",
       "      <td>0013_01</td>\n",
       "      <td>1</td>\n",
       "      <td>1</td>\n",
       "      <td>0</td>\n",
       "      <td>2</td>\n",
       "      <td>0</td>\n",
       "      <td>0</td>\n",
       "      <td>0</td>\n",
       "      <td>0</td>\n",
       "      <td>0</td>\n",
       "      <td>0</td>\n",
       "      <td>3</td>\n",
       "      <td>1</td>\n",
       "      <td>0</td>\n",
       "    </tr>\n",
       "    <tr>\n",
       "      <th>1</th>\n",
       "      <td>0018_01</td>\n",
       "      <td>1</td>\n",
       "      <td>0</td>\n",
       "      <td>0</td>\n",
       "      <td>1</td>\n",
       "      <td>0</td>\n",
       "      <td>0</td>\n",
       "      <td>0</td>\n",
       "      <td>0</td>\n",
       "      <td>1</td>\n",
       "      <td>0</td>\n",
       "      <td>1</td>\n",
       "      <td>1</td>\n",
       "      <td>0</td>\n",
       "    </tr>\n",
       "    <tr>\n",
       "      <th>2</th>\n",
       "      <td>0019_01</td>\n",
       "      <td>0</td>\n",
       "      <td>1</td>\n",
       "      <td>2</td>\n",
       "      <td>3</td>\n",
       "      <td>0</td>\n",
       "      <td>0</td>\n",
       "      <td>0</td>\n",
       "      <td>0</td>\n",
       "      <td>0</td>\n",
       "      <td>0</td>\n",
       "      <td>6</td>\n",
       "      <td>1</td>\n",
       "      <td>0</td>\n",
       "    </tr>\n",
       "    <tr>\n",
       "      <th>3</th>\n",
       "      <td>0021_01</td>\n",
       "      <td>0</td>\n",
       "      <td>0</td>\n",
       "      <td>0</td>\n",
       "      <td>3</td>\n",
       "      <td>0</td>\n",
       "      <td>0</td>\n",
       "      <td>2</td>\n",
       "      <td>0</td>\n",
       "      <td>0</td>\n",
       "      <td>0</td>\n",
       "      <td>6</td>\n",
       "      <td>1</td>\n",
       "      <td>0</td>\n",
       "    </tr>\n",
       "    <tr>\n",
       "      <th>4</th>\n",
       "      <td>0023_01</td>\n",
       "      <td>1</td>\n",
       "      <td>0</td>\n",
       "      <td>0</td>\n",
       "      <td>2</td>\n",
       "      <td>0</td>\n",
       "      <td>0</td>\n",
       "      <td>0</td>\n",
       "      <td>0</td>\n",
       "      <td>0</td>\n",
       "      <td>0</td>\n",
       "      <td>1</td>\n",
       "      <td>1</td>\n",
       "      <td>0</td>\n",
       "    </tr>\n",
       "  </tbody>\n",
       "</table>\n",
       "</div>"
      ],
      "text/plain": [
       "  PassengerId  HomePlanet  CryoSleep  Destination  Age  VIP  RoomService  \\\n",
       "0     0013_01           1          1            0    2    0            0   \n",
       "1     0018_01           1          0            0    1    0            0   \n",
       "2     0019_01           0          1            2    3    0            0   \n",
       "3     0021_01           0          0            0    3    0            0   \n",
       "4     0023_01           1          0            0    2    0            0   \n",
       "\n",
       "   FoodCourt  ShoppingMall  Spa  VRDeck  CabinLetter1  CabinLetter2  \\\n",
       "0          0             0    0       0             3             1   \n",
       "1          0             0    1       0             1             1   \n",
       "2          0             0    0       0             6             1   \n",
       "3          2             0    0       0             6             1   \n",
       "4          0             0    0       0             1             1   \n",
       "\n",
       "   CabinNumber  \n",
       "0            0  \n",
       "1            0  \n",
       "2            0  \n",
       "3            0  \n",
       "4            0  "
      ]
     },
     "execution_count": 2183,
     "metadata": {},
     "output_type": "execute_result"
    }
   ],
   "source": [
    "test_df.head()"
   ]
  },
  {
   "cell_type": "markdown",
   "metadata": {},
   "source": [
    "Now we can use this data to train our model"
   ]
  },
  {
   "cell_type": "markdown",
   "metadata": {},
   "source": [
    "## __Model train, predict and slove__"
   ]
  },
  {
   "cell_type": "markdown",
   "metadata": {},
   "source": [
    "Now our dataset is looking good and we have to train the model. Then we can use the model to slove the problem solution. There are many model algorithms to use. But our problem is classification and reggression problem in supervised learning. So we can use these models."
   ]
  },
  {
   "cell_type": "markdown",
   "metadata": {},
   "source": [
    "* Logistic Reggression\n",
    "* KNN\n",
    "* Support vector mask\n",
    "* Naive bayes classifier\n",
    "* Decision tree\n",
    "* Random forest\n",
    "* Preception\n",
    "* Artificial neural network\n",
    "* RVM"
   ]
  },
  {
   "cell_type": "markdown",
   "metadata": {},
   "source": [
    "Now we should categorize our data into train and test data"
   ]
  },
  {
   "cell_type": "code",
   "execution_count": 2186,
   "metadata": {},
   "outputs": [
    {
     "data": {
      "text/plain": [
       "((8693, 13), (8693,), (4277, 13))"
      ]
     },
     "execution_count": 2186,
     "metadata": {},
     "output_type": "execute_result"
    }
   ],
   "source": [
    "X_train = train_df.drop(['PassengerId', 'Transported'], axis=1)\n",
    "y_train = train_df['Transported']\n",
    "X_test = test_df.drop(['PassengerId'], axis=1)\n",
    "X_train.shape, y_train.shape, X_test.shape\n"
   ]
  },
  {
   "cell_type": "markdown",
   "metadata": {},
   "source": [
    "Lets check each model algorithm one by one. And check the score"
   ]
  },
  {
   "cell_type": "code",
   "execution_count": 2187,
   "metadata": {},
   "outputs": [
    {
     "name": "stdout",
     "output_type": "stream",
     "text": [
      "74.76 %\n"
     ]
    }
   ],
   "source": [
    "#  Lodistic regression\n",
    "logreg = LogisticRegression()\n",
    "logreg.fit(X_train, y_train)\n",
    "print(round(logreg.score(X_train, y_train)*100,2),'%')"
   ]
  },
  {
   "cell_type": "code",
   "execution_count": 2188,
   "metadata": {},
   "outputs": [
    {
     "name": "stderr",
     "output_type": "stream",
     "text": [
      "c:\\Users\\Anjana Kavidu\\AppData\\Local\\Programs\\Python\\Python310\\lib\\site-packages\\sklearn\\neighbors\\_classification.py:237: FutureWarning: Unlike other reduction functions (e.g. `skew`, `kurtosis`), the default behavior of `mode` typically preserves the axis it acts along. In SciPy 1.11.0, this behavior will change: the default value of `keepdims` will become False, the `axis` over which the statistic is taken will be eliminated, and the value None will no longer be accepted. Set `keepdims` to True or False to avoid this warning.\n",
      "  mode, _ = stats.mode(_y[neigh_ind, k], axis=1)\n"
     ]
    },
    {
     "name": "stdout",
     "output_type": "stream",
     "text": [
      "77.29 %\n"
     ]
    }
   ],
   "source": [
    "# K Nearest Neighbors\n",
    "knn = KNeighborsClassifier(n_neighbors=7)\n",
    "knn.fit(X_train, y_train)\n",
    "print(round(knn.score(X_train, y_train)*100,2),'%')"
   ]
  },
  {
   "cell_type": "code",
   "execution_count": 2189,
   "metadata": {},
   "outputs": [
    {
     "name": "stdout",
     "output_type": "stream",
     "text": [
      "75.73 %\n"
     ]
    }
   ],
   "source": [
    "# Support vector machines\n",
    "svc = SVC()\n",
    "svc.fit(X_train, y_train)\n",
    "print(round(svc.score(X_train, y_train)*100,2),'%')"
   ]
  },
  {
   "cell_type": "code",
   "execution_count": 2190,
   "metadata": {},
   "outputs": [
    {
     "name": "stdout",
     "output_type": "stream",
     "text": [
      "58.75 %\n"
     ]
    }
   ],
   "source": [
    "# Gaussian Naive bayes\n",
    "gaussian = GaussianNB()\n",
    "gaussian.fit(X_train, y_train)\n",
    "print(round(gaussian.score(X_train, y_train)*100,2),'%')"
   ]
  },
  {
   "cell_type": "code",
   "execution_count": 2191,
   "metadata": {},
   "outputs": [
    {
     "name": "stdout",
     "output_type": "stream",
     "text": [
      "70.56 %\n"
     ]
    }
   ],
   "source": [
    "# Perceptron\n",
    "perceptron = Perceptron()\n",
    "perceptron.fit(X_train, y_train)\n",
    "print(round(perceptron.score(X_train, y_train)*100,2),'%')"
   ]
  },
  {
   "cell_type": "code",
   "execution_count": 2192,
   "metadata": {},
   "outputs": [
    {
     "name": "stdout",
     "output_type": "stream",
     "text": [
      "74.72 %\n"
     ]
    },
    {
     "name": "stderr",
     "output_type": "stream",
     "text": [
      "c:\\Users\\Anjana Kavidu\\AppData\\Local\\Programs\\Python\\Python310\\lib\\site-packages\\sklearn\\svm\\_base.py:1225: ConvergenceWarning: Liblinear failed to converge, increase the number of iterations.\n",
      "  warnings.warn(\n"
     ]
    }
   ],
   "source": [
    "# Linear SVC\n",
    "linearsvc = LinearSVC()\n",
    "linearsvc.fit(X_train, y_train)\n",
    "print(round(linearsvc.score(X_train, y_train)*100,2),'%')"
   ]
  },
  {
   "cell_type": "code",
   "execution_count": 2193,
   "metadata": {},
   "outputs": [
    {
     "name": "stdout",
     "output_type": "stream",
     "text": [
      "74.47 %\n"
     ]
    }
   ],
   "source": [
    "# Stochastic Gradient Descent\n",
    "sgd = SGDClassifier()\n",
    "sgd.fit(X_train, y_train)\n",
    "print(round(sgd.score(X_train, y_train)*100,2),'%')"
   ]
  },
  {
   "cell_type": "code",
   "execution_count": 2194,
   "metadata": {},
   "outputs": [
    {
     "name": "stdout",
     "output_type": "stream",
     "text": [
      "84.49 %\n"
     ]
    }
   ],
   "source": [
    "# Decision Tree\n",
    "decisiontr = DecisionTreeClassifier()\n",
    "decisiontr.fit(X_train, y_train)\n",
    "print(round(decisiontr.score(X_train, y_train)*100,2),'%')"
   ]
  },
  {
   "cell_type": "code",
   "execution_count": 2195,
   "metadata": {},
   "outputs": [
    {
     "name": "stdout",
     "output_type": "stream",
     "text": [
      "84.49 %\n"
     ]
    }
   ],
   "source": [
    "# Random forest\n",
    "rndforest = RandomForestClassifier(n_estimators=100)\n",
    "rndforest.fit(X_train, y_train)\n",
    "print(round(rndforest.score(X_train, y_train)*100,2),'%')"
   ]
  },
  {
   "cell_type": "markdown",
   "metadata": {},
   "source": [
    "## __Model tuning__"
   ]
  },
  {
   "cell_type": "markdown",
   "metadata": {},
   "source": [
    "Lets try these different models with different parameters and find the best algorithm for our solution"
   ]
  },
  {
   "cell_type": "code",
   "execution_count": 2196,
   "metadata": {},
   "outputs": [],
   "source": [
    "# define a dictionary for models and their parameters\n",
    "model_param = {\n",
    "    'svc': {\n",
    "        'model': SVC(gamma='auto'),\n",
    "        'params' : {\n",
    "            'C': [1,10,20],\n",
    "            'kernel': ['rbf','linear']\n",
    "        }  \n",
    "    },\n",
    "    'random_forest': {\n",
    "        'model': RandomForestClassifier(),\n",
    "        'params' : {\n",
    "            'n_estimators': [1,5,10]\n",
    "        }\n",
    "    },\n",
    "    'logistic_regression' : {\n",
    "        'model': LogisticRegression(solver='liblinear',multi_class='auto'),\n",
    "        'params': {\n",
    "            'C': [1,5,10]\n",
    "        }\n",
    "    },\n",
    "    'gaussian' :{\n",
    "        'model' : GaussianNB(),\n",
    "        'params' : {\n",
    "            \n",
    "        }\n",
    "    },\n",
    "    'knn' : {\n",
    "        'model' : KNeighborsClassifier(),\n",
    "        'params' : {\n",
    "            'n_neighbors' : [1,3,5,7,9]\n",
    "        }\n",
    "    },\n",
    "    'tree' : {\n",
    "        'model' : DecisionTreeClassifier(),\n",
    "        'params' : {\n",
    "            'criterion': ['gini','entropy'],\n",
    "        }\n",
    "    },\n",
    "    'perceptron' : {\n",
    "        'model' : Perceptron(),\n",
    "        'params' : {\n",
    "            'penalty' : ['l2','l1','elasticnet']\n",
    "        }\n",
    "    },\n",
    "    'linearsvc' : {\n",
    "        'model' : LinearSVC(),\n",
    "        'params' : {\n",
    "                 \n",
    "        }\n",
    "    },\n",
    "    'sgd' : {\n",
    "        'model' : SGDClassifier(),\n",
    "        'params' : {\n",
    "\n",
    "        }\n",
    "    }\n",
    "}"
   ]
  },
  {
   "cell_type": "code",
   "execution_count": 2197,
   "metadata": {},
   "outputs": [
    {
     "name": "stderr",
     "output_type": "stream",
     "text": [
      "c:\\Users\\Anjana Kavidu\\AppData\\Local\\Programs\\Python\\Python310\\lib\\site-packages\\sklearn\\neighbors\\_classification.py:237: FutureWarning: Unlike other reduction functions (e.g. `skew`, `kurtosis`), the default behavior of `mode` typically preserves the axis it acts along. In SciPy 1.11.0, this behavior will change: the default value of `keepdims` will become False, the `axis` over which the statistic is taken will be eliminated, and the value None will no longer be accepted. Set `keepdims` to True or False to avoid this warning.\n",
      "  mode, _ = stats.mode(_y[neigh_ind, k], axis=1)\n",
      "c:\\Users\\Anjana Kavidu\\AppData\\Local\\Programs\\Python\\Python310\\lib\\site-packages\\sklearn\\neighbors\\_classification.py:237: FutureWarning: Unlike other reduction functions (e.g. `skew`, `kurtosis`), the default behavior of `mode` typically preserves the axis it acts along. In SciPy 1.11.0, this behavior will change: the default value of `keepdims` will become False, the `axis` over which the statistic is taken will be eliminated, and the value None will no longer be accepted. Set `keepdims` to True or False to avoid this warning.\n",
      "  mode, _ = stats.mode(_y[neigh_ind, k], axis=1)\n",
      "c:\\Users\\Anjana Kavidu\\AppData\\Local\\Programs\\Python\\Python310\\lib\\site-packages\\sklearn\\neighbors\\_classification.py:237: FutureWarning: Unlike other reduction functions (e.g. `skew`, `kurtosis`), the default behavior of `mode` typically preserves the axis it acts along. In SciPy 1.11.0, this behavior will change: the default value of `keepdims` will become False, the `axis` over which the statistic is taken will be eliminated, and the value None will no longer be accepted. Set `keepdims` to True or False to avoid this warning.\n",
      "  mode, _ = stats.mode(_y[neigh_ind, k], axis=1)\n",
      "c:\\Users\\Anjana Kavidu\\AppData\\Local\\Programs\\Python\\Python310\\lib\\site-packages\\sklearn\\neighbors\\_classification.py:237: FutureWarning: Unlike other reduction functions (e.g. `skew`, `kurtosis`), the default behavior of `mode` typically preserves the axis it acts along. In SciPy 1.11.0, this behavior will change: the default value of `keepdims` will become False, the `axis` over which the statistic is taken will be eliminated, and the value None will no longer be accepted. Set `keepdims` to True or False to avoid this warning.\n",
      "  mode, _ = stats.mode(_y[neigh_ind, k], axis=1)\n",
      "c:\\Users\\Anjana Kavidu\\AppData\\Local\\Programs\\Python\\Python310\\lib\\site-packages\\sklearn\\neighbors\\_classification.py:237: FutureWarning: Unlike other reduction functions (e.g. `skew`, `kurtosis`), the default behavior of `mode` typically preserves the axis it acts along. In SciPy 1.11.0, this behavior will change: the default value of `keepdims` will become False, the `axis` over which the statistic is taken will be eliminated, and the value None will no longer be accepted. Set `keepdims` to True or False to avoid this warning.\n",
      "  mode, _ = stats.mode(_y[neigh_ind, k], axis=1)\n",
      "c:\\Users\\Anjana Kavidu\\AppData\\Local\\Programs\\Python\\Python310\\lib\\site-packages\\sklearn\\neighbors\\_classification.py:237: FutureWarning: Unlike other reduction functions (e.g. `skew`, `kurtosis`), the default behavior of `mode` typically preserves the axis it acts along. In SciPy 1.11.0, this behavior will change: the default value of `keepdims` will become False, the `axis` over which the statistic is taken will be eliminated, and the value None will no longer be accepted. Set `keepdims` to True or False to avoid this warning.\n",
      "  mode, _ = stats.mode(_y[neigh_ind, k], axis=1)\n",
      "c:\\Users\\Anjana Kavidu\\AppData\\Local\\Programs\\Python\\Python310\\lib\\site-packages\\sklearn\\neighbors\\_classification.py:237: FutureWarning: Unlike other reduction functions (e.g. `skew`, `kurtosis`), the default behavior of `mode` typically preserves the axis it acts along. In SciPy 1.11.0, this behavior will change: the default value of `keepdims` will become False, the `axis` over which the statistic is taken will be eliminated, and the value None will no longer be accepted. Set `keepdims` to True or False to avoid this warning.\n",
      "  mode, _ = stats.mode(_y[neigh_ind, k], axis=1)\n",
      "c:\\Users\\Anjana Kavidu\\AppData\\Local\\Programs\\Python\\Python310\\lib\\site-packages\\sklearn\\neighbors\\_classification.py:237: FutureWarning: Unlike other reduction functions (e.g. `skew`, `kurtosis`), the default behavior of `mode` typically preserves the axis it acts along. In SciPy 1.11.0, this behavior will change: the default value of `keepdims` will become False, the `axis` over which the statistic is taken will be eliminated, and the value None will no longer be accepted. Set `keepdims` to True or False to avoid this warning.\n",
      "  mode, _ = stats.mode(_y[neigh_ind, k], axis=1)\n",
      "c:\\Users\\Anjana Kavidu\\AppData\\Local\\Programs\\Python\\Python310\\lib\\site-packages\\sklearn\\neighbors\\_classification.py:237: FutureWarning: Unlike other reduction functions (e.g. `skew`, `kurtosis`), the default behavior of `mode` typically preserves the axis it acts along. In SciPy 1.11.0, this behavior will change: the default value of `keepdims` will become False, the `axis` over which the statistic is taken will be eliminated, and the value None will no longer be accepted. Set `keepdims` to True or False to avoid this warning.\n",
      "  mode, _ = stats.mode(_y[neigh_ind, k], axis=1)\n",
      "c:\\Users\\Anjana Kavidu\\AppData\\Local\\Programs\\Python\\Python310\\lib\\site-packages\\sklearn\\neighbors\\_classification.py:237: FutureWarning: Unlike other reduction functions (e.g. `skew`, `kurtosis`), the default behavior of `mode` typically preserves the axis it acts along. In SciPy 1.11.0, this behavior will change: the default value of `keepdims` will become False, the `axis` over which the statistic is taken will be eliminated, and the value None will no longer be accepted. Set `keepdims` to True or False to avoid this warning.\n",
      "  mode, _ = stats.mode(_y[neigh_ind, k], axis=1)\n",
      "c:\\Users\\Anjana Kavidu\\AppData\\Local\\Programs\\Python\\Python310\\lib\\site-packages\\sklearn\\neighbors\\_classification.py:237: FutureWarning: Unlike other reduction functions (e.g. `skew`, `kurtosis`), the default behavior of `mode` typically preserves the axis it acts along. In SciPy 1.11.0, this behavior will change: the default value of `keepdims` will become False, the `axis` over which the statistic is taken will be eliminated, and the value None will no longer be accepted. Set `keepdims` to True or False to avoid this warning.\n",
      "  mode, _ = stats.mode(_y[neigh_ind, k], axis=1)\n",
      "c:\\Users\\Anjana Kavidu\\AppData\\Local\\Programs\\Python\\Python310\\lib\\site-packages\\sklearn\\neighbors\\_classification.py:237: FutureWarning: Unlike other reduction functions (e.g. `skew`, `kurtosis`), the default behavior of `mode` typically preserves the axis it acts along. In SciPy 1.11.0, this behavior will change: the default value of `keepdims` will become False, the `axis` over which the statistic is taken will be eliminated, and the value None will no longer be accepted. Set `keepdims` to True or False to avoid this warning.\n",
      "  mode, _ = stats.mode(_y[neigh_ind, k], axis=1)\n",
      "c:\\Users\\Anjana Kavidu\\AppData\\Local\\Programs\\Python\\Python310\\lib\\site-packages\\sklearn\\neighbors\\_classification.py:237: FutureWarning: Unlike other reduction functions (e.g. `skew`, `kurtosis`), the default behavior of `mode` typically preserves the axis it acts along. In SciPy 1.11.0, this behavior will change: the default value of `keepdims` will become False, the `axis` over which the statistic is taken will be eliminated, and the value None will no longer be accepted. Set `keepdims` to True or False to avoid this warning.\n",
      "  mode, _ = stats.mode(_y[neigh_ind, k], axis=1)\n",
      "c:\\Users\\Anjana Kavidu\\AppData\\Local\\Programs\\Python\\Python310\\lib\\site-packages\\sklearn\\neighbors\\_classification.py:237: FutureWarning: Unlike other reduction functions (e.g. `skew`, `kurtosis`), the default behavior of `mode` typically preserves the axis it acts along. In SciPy 1.11.0, this behavior will change: the default value of `keepdims` will become False, the `axis` over which the statistic is taken will be eliminated, and the value None will no longer be accepted. Set `keepdims` to True or False to avoid this warning.\n",
      "  mode, _ = stats.mode(_y[neigh_ind, k], axis=1)\n",
      "c:\\Users\\Anjana Kavidu\\AppData\\Local\\Programs\\Python\\Python310\\lib\\site-packages\\sklearn\\neighbors\\_classification.py:237: FutureWarning: Unlike other reduction functions (e.g. `skew`, `kurtosis`), the default behavior of `mode` typically preserves the axis it acts along. In SciPy 1.11.0, this behavior will change: the default value of `keepdims` will become False, the `axis` over which the statistic is taken will be eliminated, and the value None will no longer be accepted. Set `keepdims` to True or False to avoid this warning.\n",
      "  mode, _ = stats.mode(_y[neigh_ind, k], axis=1)\n",
      "c:\\Users\\Anjana Kavidu\\AppData\\Local\\Programs\\Python\\Python310\\lib\\site-packages\\sklearn\\svm\\_base.py:1225: ConvergenceWarning: Liblinear failed to converge, increase the number of iterations.\n",
      "  warnings.warn(\n",
      "c:\\Users\\Anjana Kavidu\\AppData\\Local\\Programs\\Python\\Python310\\lib\\site-packages\\sklearn\\svm\\_base.py:1225: ConvergenceWarning: Liblinear failed to converge, increase the number of iterations.\n",
      "  warnings.warn(\n",
      "c:\\Users\\Anjana Kavidu\\AppData\\Local\\Programs\\Python\\Python310\\lib\\site-packages\\sklearn\\svm\\_base.py:1225: ConvergenceWarning: Liblinear failed to converge, increase the number of iterations.\n",
      "  warnings.warn(\n",
      "c:\\Users\\Anjana Kavidu\\AppData\\Local\\Programs\\Python\\Python310\\lib\\site-packages\\sklearn\\svm\\_base.py:1225: ConvergenceWarning: Liblinear failed to converge, increase the number of iterations.\n",
      "  warnings.warn(\n"
     ]
    },
    {
     "data": {
      "text/html": [
       "<div>\n",
       "<style scoped>\n",
       "    .dataframe tbody tr th:only-of-type {\n",
       "        vertical-align: middle;\n",
       "    }\n",
       "\n",
       "    .dataframe tbody tr th {\n",
       "        vertical-align: top;\n",
       "    }\n",
       "\n",
       "    .dataframe thead th {\n",
       "        text-align: right;\n",
       "    }\n",
       "</style>\n",
       "<table border=\"1\" class=\"dataframe\">\n",
       "  <thead>\n",
       "    <tr style=\"text-align: right;\">\n",
       "      <th></th>\n",
       "      <th>model</th>\n",
       "      <th>best_score</th>\n",
       "      <th>best_params</th>\n",
       "    </tr>\n",
       "  </thead>\n",
       "  <tbody>\n",
       "    <tr>\n",
       "      <th>0</th>\n",
       "      <td>svc</td>\n",
       "      <td>0.751066</td>\n",
       "      <td>{'C': 1, 'kernel': 'rbf'}</td>\n",
       "    </tr>\n",
       "    <tr>\n",
       "      <th>1</th>\n",
       "      <td>random_forest</td>\n",
       "      <td>0.713103</td>\n",
       "      <td>{'n_estimators': 10}</td>\n",
       "    </tr>\n",
       "    <tr>\n",
       "      <th>2</th>\n",
       "      <td>logistic_regression</td>\n",
       "      <td>0.747844</td>\n",
       "      <td>{'C': 1}</td>\n",
       "    </tr>\n",
       "    <tr>\n",
       "      <th>3</th>\n",
       "      <td>gaussian</td>\n",
       "      <td>0.587254</td>\n",
       "      <td>{}</td>\n",
       "    </tr>\n",
       "    <tr>\n",
       "      <th>4</th>\n",
       "      <td>knn</td>\n",
       "      <td>0.667436</td>\n",
       "      <td>{'n_neighbors': 5}</td>\n",
       "    </tr>\n",
       "    <tr>\n",
       "      <th>5</th>\n",
       "      <td>tree</td>\n",
       "      <td>0.697917</td>\n",
       "      <td>{'criterion': 'gini'}</td>\n",
       "    </tr>\n",
       "    <tr>\n",
       "      <th>6</th>\n",
       "      <td>perceptron</td>\n",
       "      <td>0.700102</td>\n",
       "      <td>{'penalty': 'l2'}</td>\n",
       "    </tr>\n",
       "    <tr>\n",
       "      <th>7</th>\n",
       "      <td>linearsvc</td>\n",
       "      <td>0.748074</td>\n",
       "      <td>{}</td>\n",
       "    </tr>\n",
       "    <tr>\n",
       "      <th>8</th>\n",
       "      <td>sgd</td>\n",
       "      <td>0.744163</td>\n",
       "      <td>{}</td>\n",
       "    </tr>\n",
       "  </tbody>\n",
       "</table>\n",
       "</div>"
      ],
      "text/plain": [
       "                 model  best_score                best_params\n",
       "0                  svc    0.751066  {'C': 1, 'kernel': 'rbf'}\n",
       "1        random_forest    0.713103       {'n_estimators': 10}\n",
       "2  logistic_regression    0.747844                   {'C': 1}\n",
       "3             gaussian    0.587254                         {}\n",
       "4                  knn    0.667436         {'n_neighbors': 5}\n",
       "5                 tree    0.697917      {'criterion': 'gini'}\n",
       "6           perceptron    0.700102          {'penalty': 'l2'}\n",
       "7            linearsvc    0.748074                         {}\n",
       "8                  sgd    0.744163                         {}"
      ]
     },
     "execution_count": 2197,
     "metadata": {},
     "output_type": "execute_result"
    }
   ],
   "source": [
    "#find the best model\n",
    "scores = []\n",
    "for model_name, mp in model_param.items():\n",
    "  clf = GridSearchCV(mp['model'],mp['params'],cv=3,return_train_score=False)\n",
    "  clf.fit(X_train, y_train)\n",
    "  scores.append({\n",
    "      'model' : model_name,\n",
    "      'best_score' : clf.best_score_,\n",
    "      'best_params' : clf.best_params_\n",
    "  })\n",
    "df = pd.DataFrame(scores,columns=['model','best_score','best_params'])\n",
    "df"
   ]
  },
  {
   "cell_type": "markdown",
   "metadata": {},
   "source": [
    "## __Model training and predict__"
   ]
  },
  {
   "cell_type": "markdown",
   "metadata": {},
   "source": [
    "So according to above chart we can see SVC is the best scored model with these parameters. So let's use that to train our model."
   ]
  },
  {
   "cell_type": "code",
   "execution_count": 2198,
   "metadata": {},
   "outputs": [],
   "source": [
    "model = SVC(C=1, kernel='rbf')\n",
    "model.fit(X_train, y_train)\n",
    "y_pred = model.predict(X_test)"
   ]
  },
  {
   "cell_type": "markdown",
   "metadata": {},
   "source": [
    "### __Submission__"
   ]
  },
  {
   "cell_type": "markdown",
   "metadata": {},
   "source": [
    "Lets do our submission"
   ]
  },
  {
   "cell_type": "markdown",
   "metadata": {},
   "source": [
    "Convert y_pred result to boolian"
   ]
  },
  {
   "cell_type": "code",
   "execution_count": 2203,
   "metadata": {},
   "outputs": [],
   "source": [
    "result = y_pred.astype(bool)"
   ]
  },
  {
   "cell_type": "code",
   "execution_count": 2206,
   "metadata": {},
   "outputs": [],
   "source": [
    "submission = pd.DataFrame({\n",
    "    'PassengerId':test_df['PassengerId'],\n",
    "    'Transported':result\n",
    "})\n",
    "submission.to_csv('submission.csv', index=False)"
   ]
  },
  {
   "cell_type": "code",
   "execution_count": 2207,
   "metadata": {},
   "outputs": [
    {
     "data": {
      "text/html": [
       "<div>\n",
       "<style scoped>\n",
       "    .dataframe tbody tr th:only-of-type {\n",
       "        vertical-align: middle;\n",
       "    }\n",
       "\n",
       "    .dataframe tbody tr th {\n",
       "        vertical-align: top;\n",
       "    }\n",
       "\n",
       "    .dataframe thead th {\n",
       "        text-align: right;\n",
       "    }\n",
       "</style>\n",
       "<table border=\"1\" class=\"dataframe\">\n",
       "  <thead>\n",
       "    <tr style=\"text-align: right;\">\n",
       "      <th></th>\n",
       "      <th>PassengerId</th>\n",
       "      <th>Transported</th>\n",
       "    </tr>\n",
       "  </thead>\n",
       "  <tbody>\n",
       "    <tr>\n",
       "      <th>0</th>\n",
       "      <td>0013_01</td>\n",
       "      <td>True</td>\n",
       "    </tr>\n",
       "    <tr>\n",
       "      <th>1</th>\n",
       "      <td>0018_01</td>\n",
       "      <td>False</td>\n",
       "    </tr>\n",
       "    <tr>\n",
       "      <th>2</th>\n",
       "      <td>0019_01</td>\n",
       "      <td>True</td>\n",
       "    </tr>\n",
       "    <tr>\n",
       "      <th>3</th>\n",
       "      <td>0021_01</td>\n",
       "      <td>True</td>\n",
       "    </tr>\n",
       "    <tr>\n",
       "      <th>4</th>\n",
       "      <td>0023_01</td>\n",
       "      <td>False</td>\n",
       "    </tr>\n",
       "  </tbody>\n",
       "</table>\n",
       "</div>"
      ],
      "text/plain": [
       "  PassengerId  Transported\n",
       "0     0013_01         True\n",
       "1     0018_01        False\n",
       "2     0019_01         True\n",
       "3     0021_01         True\n",
       "4     0023_01        False"
      ]
     },
     "execution_count": 2207,
     "metadata": {},
     "output_type": "execute_result"
    }
   ],
   "source": [
    "submission.head()"
   ]
  }
 ],
 "metadata": {
  "kernelspec": {
   "display_name": "Python 3.10.5 64-bit",
   "language": "python",
   "name": "python3"
  },
  "language_info": {
   "codemirror_mode": {
    "name": "ipython",
    "version": 3
   },
   "file_extension": ".py",
   "mimetype": "text/x-python",
   "name": "python",
   "nbconvert_exporter": "python",
   "pygments_lexer": "ipython3",
   "version": "3.10.5"
  },
  "orig_nbformat": 4,
  "vscode": {
   "interpreter": {
    "hash": "6620d693ca7c7a10075057bff34b8dd87106bc125da937751c4c9f4d856e6699"
   }
  }
 },
 "nbformat": 4,
 "nbformat_minor": 2
}
